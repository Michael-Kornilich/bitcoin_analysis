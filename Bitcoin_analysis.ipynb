{
 "cells": [
  {
   "cell_type": "code",
   "execution_count": 4,
   "id": "fc8a8537-0898-4ae3-8ef9-4704fc6fc087",
   "metadata": {},
   "outputs": [],
   "source": [
    "import pandas as pd\n",
    "import numpy as np\n",
    "from datetime import datetime, timedelta, date\n",
    "import matplotlib.pyplot as plt\n",
    "\n",
    "np.set_printoptions(suppress=True)"
   ]
  },
  {
   "cell_type": "code",
   "execution_count": 20,
   "id": "486d8866-345b-4028-ad8b-10d5d4be580e",
   "metadata": {},
   "outputs": [],
   "source": [
    "def generate_requirements(*modules):\n",
    "    with open(\"requirements.txt\",mode=\"a\") as handle:\n",
    "        for module in modules:\n",
    "            handle.write(f\"{module.__name__}=={module.__version__}\\n\")"
   ]
  },
  {
   "cell_type": "code",
   "execution_count": 7,
   "id": "8785e94c-2e91-44fd-9194-4702a50e46ac",
   "metadata": {},
   "outputs": [],
   "source": [
    "# import\n",
    "PATH = \"BTC_USD_2012_present.csv\"\n",
    "records = pd.read_csv(PATH)"
   ]
  },
  {
   "cell_type": "code",
   "execution_count": 8,
   "id": "526fbeb0-28a8-45de-b1f0-eac99a72e3a5",
   "metadata": {},
   "outputs": [],
   "source": [
    "def convert_to_datetime(ts:int) -> datetime | None:\n",
    "    \"\"\"\n",
    "    Converts timestamps to datetime objects\n",
    "    Should the wrong intput be passed, return None\n",
    "    \"\"\"\n",
    "    try:\n",
    "        return datetime.fromtimestamp(ts)\n",
    "    except (TypeError, ValueError):\n",
    "        return None"
   ]
  },
  {
   "cell_type": "code",
   "execution_count": 13,
   "id": "67619cec-801c-449b-a2be-e35150710bbd",
   "metadata": {},
   "outputs": [],
   "source": [
    "def calculate_change(data: pd.Series, start: date, end: date) -> float | None:    \n",
    "    \"\"\"\n",
    "        Calculates percentage change between two dates\n",
    "        Slould a KeyError appear, returns None\n",
    "    \"\"\"\n",
    "    try:\n",
    "        return data.asof(end) / data.asof(start) - 1\n",
    "    except KeyError:\n",
    "        return None"
   ]
  },
  {
   "cell_type": "code",
   "execution_count": 9,
   "id": "c920f806-386e-46b8-9b64-ee82daa9a08e",
   "metadata": {},
   "outputs": [],
   "source": [
    "# clean the data\n",
    "records.dropna(inplace=True)\n",
    "records[\"Timestamp\"] = records[\"Timestamp\"].map(convert_to_datetime)\n",
    "records.rename(columns=lambda x: x.lower(), inplace=True)\n",
    "records.set_index(\"timestamp\", inplace=True)"
   ]
  },
  {
   "cell_type": "code",
   "execution_count": 10,
   "id": "3fbeb93e-d1b3-4add-994e-9e19556125be",
   "metadata": {},
   "outputs": [
    {
     "data": {
      "text/html": [
       "<div>\n",
       "<style scoped>\n",
       "    .dataframe tbody tr th:only-of-type {\n",
       "        vertical-align: middle;\n",
       "    }\n",
       "\n",
       "    .dataframe tbody tr th {\n",
       "        vertical-align: top;\n",
       "    }\n",
       "\n",
       "    .dataframe thead th {\n",
       "        text-align: right;\n",
       "    }\n",
       "</style>\n",
       "<table border=\"1\" class=\"dataframe\">\n",
       "  <thead>\n",
       "    <tr style=\"text-align: right;\">\n",
       "      <th></th>\n",
       "      <th>open</th>\n",
       "      <th>high</th>\n",
       "      <th>low</th>\n",
       "      <th>close</th>\n",
       "      <th>volume</th>\n",
       "    </tr>\n",
       "    <tr>\n",
       "      <th>timestamp</th>\n",
       "      <th></th>\n",
       "      <th></th>\n",
       "      <th></th>\n",
       "      <th></th>\n",
       "      <th></th>\n",
       "    </tr>\n",
       "  </thead>\n",
       "  <tbody>\n",
       "    <tr>\n",
       "      <th>2024-10-01 01:56:00</th>\n",
       "      <td>63303.0</td>\n",
       "      <td>63321.0</td>\n",
       "      <td>63303.0</td>\n",
       "      <td>63321.0</td>\n",
       "      <td>1.778449</td>\n",
       "    </tr>\n",
       "    <tr>\n",
       "      <th>2024-10-01 01:57:00</th>\n",
       "      <td>63321.0</td>\n",
       "      <td>63321.0</td>\n",
       "      <td>63321.0</td>\n",
       "      <td>63321.0</td>\n",
       "      <td>0.000000</td>\n",
       "    </tr>\n",
       "    <tr>\n",
       "      <th>2024-10-01 01:58:00</th>\n",
       "      <td>63323.0</td>\n",
       "      <td>63332.0</td>\n",
       "      <td>63323.0</td>\n",
       "      <td>63332.0</td>\n",
       "      <td>0.774621</td>\n",
       "    </tr>\n",
       "    <tr>\n",
       "      <th>2024-10-01 01:59:00</th>\n",
       "      <td>63329.0</td>\n",
       "      <td>63329.0</td>\n",
       "      <td>63302.0</td>\n",
       "      <td>63302.0</td>\n",
       "      <td>6.581603</td>\n",
       "    </tr>\n",
       "    <tr>\n",
       "      <th>2024-10-01 02:00:00</th>\n",
       "      <td>63331.0</td>\n",
       "      <td>63400.0</td>\n",
       "      <td>63321.0</td>\n",
       "      <td>63400.0</td>\n",
       "      <td>8.828026</td>\n",
       "    </tr>\n",
       "  </tbody>\n",
       "</table>\n",
       "</div>"
      ],
      "text/plain": [
       "                        open     high      low    close    volume\n",
       "timestamp                                                        \n",
       "2024-10-01 01:56:00  63303.0  63321.0  63303.0  63321.0  1.778449\n",
       "2024-10-01 01:57:00  63321.0  63321.0  63321.0  63321.0  0.000000\n",
       "2024-10-01 01:58:00  63323.0  63332.0  63323.0  63332.0  0.774621\n",
       "2024-10-01 01:59:00  63329.0  63329.0  63302.0  63302.0  6.581603\n",
       "2024-10-01 02:00:00  63331.0  63400.0  63321.0  63400.0  8.828026"
      ]
     },
     "execution_count": 10,
     "metadata": {},
     "output_type": "execute_result"
    }
   ],
   "source": [
    "records.tail()"
   ]
  },
  {
   "cell_type": "code",
   "execution_count": 11,
   "id": "3f0d3e00-ea06-40dd-9404-c84c279cbe68",
   "metadata": {},
   "outputs": [],
   "source": [
    "# aggregate the data\n",
    "agg_close = records[\"close\"].groupby(records.index.date).ohlc()\n",
    "agg_volume = records[\"volume\"].groupby(records.index.date).sum()\n",
    "\n",
    "records = pd.concat([agg_close, agg_volume],axis=\"columns\")"
   ]
  },
  {
   "cell_type": "code",
   "execution_count": 12,
   "id": "ca2338c8-a60c-4ffb-ab67-a86928b11af8",
   "metadata": {},
   "outputs": [
    {
     "data": {
      "text/html": [
       "<div>\n",
       "<style scoped>\n",
       "    .dataframe tbody tr th:only-of-type {\n",
       "        vertical-align: middle;\n",
       "    }\n",
       "\n",
       "    .dataframe tbody tr th {\n",
       "        vertical-align: top;\n",
       "    }\n",
       "\n",
       "    .dataframe thead th {\n",
       "        text-align: right;\n",
       "    }\n",
       "</style>\n",
       "<table border=\"1\" class=\"dataframe\">\n",
       "  <thead>\n",
       "    <tr style=\"text-align: right;\">\n",
       "      <th></th>\n",
       "      <th>open</th>\n",
       "      <th>high</th>\n",
       "      <th>low</th>\n",
       "      <th>close</th>\n",
       "      <th>volume</th>\n",
       "    </tr>\n",
       "  </thead>\n",
       "  <tbody>\n",
       "    <tr>\n",
       "      <th>2024-09-27</th>\n",
       "      <td>65060.0</td>\n",
       "      <td>65223.0</td>\n",
       "      <td>64761.0</td>\n",
       "      <td>65175.0</td>\n",
       "      <td>51.587110</td>\n",
       "    </tr>\n",
       "    <tr>\n",
       "      <th>2024-09-28</th>\n",
       "      <td>65848.0</td>\n",
       "      <td>65898.0</td>\n",
       "      <td>65452.0</td>\n",
       "      <td>65680.0</td>\n",
       "      <td>389.040558</td>\n",
       "    </tr>\n",
       "    <tr>\n",
       "      <th>2024-09-29</th>\n",
       "      <td>65680.0</td>\n",
       "      <td>65949.0</td>\n",
       "      <td>65592.0</td>\n",
       "      <td>65872.0</td>\n",
       "      <td>48.879495</td>\n",
       "    </tr>\n",
       "    <tr>\n",
       "      <th>2024-09-30</th>\n",
       "      <td>64616.0</td>\n",
       "      <td>64616.0</td>\n",
       "      <td>63049.0</td>\n",
       "      <td>63699.0</td>\n",
       "      <td>1109.221052</td>\n",
       "    </tr>\n",
       "    <tr>\n",
       "      <th>2024-10-01</th>\n",
       "      <td>63699.0</td>\n",
       "      <td>63737.0</td>\n",
       "      <td>62910.0</td>\n",
       "      <td>63400.0</td>\n",
       "      <td>248.418448</td>\n",
       "    </tr>\n",
       "  </tbody>\n",
       "</table>\n",
       "</div>"
      ],
      "text/plain": [
       "               open     high      low    close       volume\n",
       "2024-09-27  65060.0  65223.0  64761.0  65175.0    51.587110\n",
       "2024-09-28  65848.0  65898.0  65452.0  65680.0   389.040558\n",
       "2024-09-29  65680.0  65949.0  65592.0  65872.0    48.879495\n",
       "2024-09-30  64616.0  64616.0  63049.0  63699.0  1109.221052\n",
       "2024-10-01  63699.0  63737.0  62910.0  63400.0   248.418448"
      ]
     },
     "execution_count": 12,
     "metadata": {},
     "output_type": "execute_result"
    }
   ],
   "source": [
    "records.tail()"
   ]
  },
  {
   "cell_type": "code",
   "execution_count": 14,
   "id": "a750a23e-29c5-4858-b1e9-f8c3254ed158",
   "metadata": {},
   "outputs": [],
   "source": [
    "# if you held BTC for a month what would your average profit be?\n",
    "SPAN_DAYS = 30\n",
    "DATASET_END_DATE = records.index[-1]\n",
    "\n",
    "start_date = records.index[0]\n",
    "end_date = start_date + timedelta(days=SPAN_DAYS)\n",
    "pct_changes = []"
   ]
  },
  {
   "cell_type": "code",
   "execution_count": 15,
   "id": "cb0e398c-80c6-4283-b5f7-3169229594f7",
   "metadata": {},
   "outputs": [],
   "source": [
    "while True:        \n",
    "    value = calculate_change(records[\"close\"], start_date, end_date)\n",
    "    if value: \n",
    "        pct_changes.append(value)\n",
    "\n",
    "    start_date += timedelta(days=1)\n",
    "    end_date += timedelta(days=1)\n",
    "\n",
    "    if end_date > DATASET_END_DATE: \n",
    "        break"
   ]
  },
  {
   "cell_type": "code",
   "execution_count": 18,
   "id": "34929a73-34b6-4c4e-821e-b88f87918d51",
   "metadata": {},
   "outputs": [
    {
     "data": {
      "text/plain": [
       "min    -58.0\n",
       "1%     -39.0\n",
       "25%     -8.0\n",
       "50%      3.0\n",
       "75%     21.0\n",
       "99%    160.0\n",
       "max    451.0\n",
       "dtype: float64"
      ]
     },
     "execution_count": 18,
     "metadata": {},
     "output_type": "execute_result"
    }
   ],
   "source": [
    "# Describes the returns in percentage\n",
    "(pd.Series(pct_changes)\n",
    " .describe(percentiles=[0.01,0.25,0.5,0.75,0.99])\n",
    " .drop([\"count\",\"mean\",\"std\"])\n",
    " .round(2) * 100\n",
    ")"
   ]
  }
 ],
 "metadata": {
  "kernelspec": {
   "display_name": "Python 3 (ipykernel)",
   "language": "python",
   "name": "python3"
  },
  "language_info": {
   "codemirror_mode": {
    "name": "ipython",
    "version": 3
   },
   "file_extension": ".py",
   "mimetype": "text/x-python",
   "name": "python",
   "nbconvert_exporter": "python",
   "pygments_lexer": "ipython3",
   "version": "3.13.2"
  }
 },
 "nbformat": 4,
 "nbformat_minor": 5
}
