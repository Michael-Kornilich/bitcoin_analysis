{
 "cells": [
  {
   "cell_type": "code",
   "execution_count": 1,
   "id": "fc8a8537-0898-4ae3-8ef9-4704fc6fc087",
   "metadata": {
    "ExecuteTime": {
     "end_time": "2025-04-04T09:04:58.118054Z",
     "start_time": "2025-04-04T09:04:55.903103Z"
    }
   },
   "outputs": [],
   "source": [
    "import pandas as pd\n",
    "import numpy as np\n",
    "from datetime import datetime, timedelta, date\n",
    "import matplotlib.pyplot as plt\n",
    "from pathlib import Path\n",
    "import kagglehub\n",
    "from functools import lru_cache\n",
    "from typing import Sequence, Literal\n",
    "from math import log, isclose\n",
    "import scipy.stats as st\n",
    "import os\n",
    "\n",
    "np.set_printoptions(suppress=True)"
   ]
  },
  {
   "cell_type": "code",
   "execution_count": 2,
   "id": "faac2181-efc3-4e75-9844-311d496a1bdb",
   "metadata": {
    "ExecuteTime": {
     "end_time": "2025-04-04T09:05:02.812870Z",
     "start_time": "2025-04-04T09:04:58.809876Z"
    }
   },
   "outputs": [
    {
     "name": "stdout",
     "output_type": "stream",
     "text": [
      "Warning: Looks like you're using an outdated `kagglehub` version (installed: 0.3.10), please consider upgrading to the latest version (0.3.11).\n",
      "Path to dataset: /Users/Misha/.cache/kagglehub/datasets/mczielinski/bitcoin-historical-data/versions/200/btcusd_1-min_data.csv\n",
      "Done\n"
     ]
    }
   ],
   "source": [
    "# import\n",
    "dir_ = Path(kagglehub.dataset_download(\"mczielinski/bitcoin-historical-data\"))\n",
    "file_name = os.listdir(dir_)[0]\n",
    "path = dir_ / file_name\n",
    "\n",
    "print(f\"Path to dataset: {path}\")\n",
    "raw_records = pd.read_csv(\n",
    "    path,\n",
    "    usecols=[\"Open\", \"High\", \"Low\", \"Close\", \"Volume\"],\n",
    "    #nrows=100_000\n",
    ")\n",
    "first_datetime = datetime.fromisoformat(pd.read_csv(path, nrows=1).loc[0, \"datetime\"])\n",
    "print(\"Done\")"
   ]
  },
  {
   "cell_type": "code",
   "execution_count": 3,
   "id": "a4b3e908-fad3-4547-bac5-8fa6a7f79c93",
   "metadata": {
    "ExecuteTime": {
     "end_time": "2025-04-04T09:05:04.430641Z",
     "start_time": "2025-04-04T09:05:04.405599Z"
    }
   },
   "outputs": [
    {
     "data": {
      "text/html": [
       "<div>\n",
       "<style scoped>\n",
       "    .dataframe tbody tr th:only-of-type {\n",
       "        vertical-align: middle;\n",
       "    }\n",
       "\n",
       "    .dataframe tbody tr th {\n",
       "        vertical-align: top;\n",
       "    }\n",
       "\n",
       "    .dataframe thead th {\n",
       "        text-align: right;\n",
       "    }\n",
       "</style>\n",
       "<table border=\"1\" class=\"dataframe\">\n",
       "  <thead>\n",
       "    <tr style=\"text-align: right;\">\n",
       "      <th></th>\n",
       "      <th>open</th>\n",
       "      <th>high</th>\n",
       "      <th>low</th>\n",
       "      <th>close</th>\n",
       "      <th>volume</th>\n",
       "    </tr>\n",
       "    <tr>\n",
       "      <th>datetime</th>\n",
       "      <th></th>\n",
       "      <th></th>\n",
       "      <th></th>\n",
       "      <th></th>\n",
       "      <th></th>\n",
       "    </tr>\n",
       "  </thead>\n",
       "  <tbody>\n",
       "    <tr>\n",
       "      <th>2025-03-16 04:36:00+00:00</th>\n",
       "      <td>82554.0</td>\n",
       "      <td>82554.0</td>\n",
       "      <td>82554.0</td>\n",
       "      <td>82554.0</td>\n",
       "      <td>0.072000</td>\n",
       "    </tr>\n",
       "    <tr>\n",
       "      <th>2025-03-16 04:37:00+00:00</th>\n",
       "      <td>82584.0</td>\n",
       "      <td>82615.0</td>\n",
       "      <td>82584.0</td>\n",
       "      <td>82615.0</td>\n",
       "      <td>0.194670</td>\n",
       "    </tr>\n",
       "    <tr>\n",
       "      <th>2025-03-16 04:38:00+00:00</th>\n",
       "      <td>82555.0</td>\n",
       "      <td>82555.0</td>\n",
       "      <td>82555.0</td>\n",
       "      <td>82555.0</td>\n",
       "      <td>0.002680</td>\n",
       "    </tr>\n",
       "    <tr>\n",
       "      <th>2025-03-16 04:39:00+00:00</th>\n",
       "      <td>82555.0</td>\n",
       "      <td>82555.0</td>\n",
       "      <td>82555.0</td>\n",
       "      <td>82555.0</td>\n",
       "      <td>0.000000</td>\n",
       "    </tr>\n",
       "    <tr>\n",
       "      <th>2025-03-16 04:40:00+00:00</th>\n",
       "      <td>82569.0</td>\n",
       "      <td>82569.0</td>\n",
       "      <td>82566.0</td>\n",
       "      <td>82566.0</td>\n",
       "      <td>0.003019</td>\n",
       "    </tr>\n",
       "  </tbody>\n",
       "</table>\n",
       "</div>"
      ],
      "text/plain": [
       "                              open     high      low    close    volume\n",
       "datetime                                                               \n",
       "2025-03-16 04:36:00+00:00  82554.0  82554.0  82554.0  82554.0  0.072000\n",
       "2025-03-16 04:37:00+00:00  82584.0  82615.0  82584.0  82615.0  0.194670\n",
       "2025-03-16 04:38:00+00:00  82555.0  82555.0  82555.0  82555.0  0.002680\n",
       "2025-03-16 04:39:00+00:00  82555.0  82555.0  82555.0  82555.0  0.000000\n",
       "2025-03-16 04:40:00+00:00  82569.0  82569.0  82566.0  82566.0  0.003019"
      ]
     },
     "execution_count": 3,
     "metadata": {},
     "output_type": "execute_result"
    }
   ],
   "source": [
    "# assigning a new index\n",
    "datetime_index = pd.date_range(\n",
    "    start=first_datetime,\n",
    "    freq=timedelta(minutes=1),\n",
    "    periods=len(raw_records)\n",
    ")\n",
    "records = raw_records\n",
    "records.index = pd.Index(datetime_index, name=\"datetime\")\n",
    "records.rename(columns=str.lower, inplace=True)\n",
    "records.tail()"
   ]
  },
  {
   "cell_type": "code",
   "execution_count": 4,
   "id": "da39eb06-d4da-4cda-8ac1-668055d88ba8",
   "metadata": {
    "ExecuteTime": {
     "end_time": "2025-04-04T09:05:07.387888Z",
     "start_time": "2025-04-04T09:05:06.942110Z"
    },
    "scrolled": true
   },
   "outputs": [
    {
     "data": {
      "text/html": [
       "<div>\n",
       "<style scoped>\n",
       "    .dataframe tbody tr th:only-of-type {\n",
       "        vertical-align: middle;\n",
       "    }\n",
       "\n",
       "    .dataframe tbody tr th {\n",
       "        vertical-align: top;\n",
       "    }\n",
       "\n",
       "    .dataframe thead th {\n",
       "        text-align: right;\n",
       "    }\n",
       "</style>\n",
       "<table border=\"1\" class=\"dataframe\">\n",
       "  <thead>\n",
       "    <tr style=\"text-align: right;\">\n",
       "      <th></th>\n",
       "      <th>open</th>\n",
       "      <th>high</th>\n",
       "      <th>low</th>\n",
       "      <th>close</th>\n",
       "      <th>volume</th>\n",
       "    </tr>\n",
       "    <tr>\n",
       "      <th>date</th>\n",
       "      <th></th>\n",
       "      <th></th>\n",
       "      <th></th>\n",
       "      <th></th>\n",
       "      <th></th>\n",
       "    </tr>\n",
       "  </thead>\n",
       "  <tbody>\n",
       "    <tr>\n",
       "      <th>2025-03-12 10:01:00+00:00</th>\n",
       "      <td>81325.0</td>\n",
       "      <td>83733.0</td>\n",
       "      <td>79031.0</td>\n",
       "      <td>82675.0</td>\n",
       "      <td>2339.022631</td>\n",
       "    </tr>\n",
       "    <tr>\n",
       "      <th>2025-03-13 10:01:00+00:00</th>\n",
       "      <td>82663.0</td>\n",
       "      <td>84437.0</td>\n",
       "      <td>80607.0</td>\n",
       "      <td>83405.0</td>\n",
       "      <td>2226.552840</td>\n",
       "    </tr>\n",
       "    <tr>\n",
       "      <th>2025-03-14 10:01:00+00:00</th>\n",
       "      <td>83409.0</td>\n",
       "      <td>83849.0</td>\n",
       "      <td>79910.0</td>\n",
       "      <td>82757.0</td>\n",
       "      <td>1627.976707</td>\n",
       "    </tr>\n",
       "    <tr>\n",
       "      <th>2025-03-15 10:01:00+00:00</th>\n",
       "      <td>82753.0</td>\n",
       "      <td>85294.0</td>\n",
       "      <td>82638.0</td>\n",
       "      <td>84328.0</td>\n",
       "      <td>1844.938637</td>\n",
       "    </tr>\n",
       "    <tr>\n",
       "      <th>2025-03-16 10:01:00+00:00</th>\n",
       "      <td>84330.0</td>\n",
       "      <td>85059.0</td>\n",
       "      <td>81983.0</td>\n",
       "      <td>82566.0</td>\n",
       "      <td>1039.123849</td>\n",
       "    </tr>\n",
       "  </tbody>\n",
       "</table>\n",
       "</div>"
      ],
      "text/plain": [
       "                              open     high      low    close       volume\n",
       "date                                                                      \n",
       "2025-03-12 10:01:00+00:00  81325.0  83733.0  79031.0  82675.0  2339.022631\n",
       "2025-03-13 10:01:00+00:00  82663.0  84437.0  80607.0  83405.0  2226.552840\n",
       "2025-03-14 10:01:00+00:00  83409.0  83849.0  79910.0  82757.0  1627.976707\n",
       "2025-03-15 10:01:00+00:00  82753.0  85294.0  82638.0  84328.0  1844.938637\n",
       "2025-03-16 10:01:00+00:00  84330.0  85059.0  81983.0  82566.0  1039.123849"
      ]
     },
     "execution_count": 4,
     "metadata": {},
     "output_type": "execute_result"
    }
   ],
   "source": [
    "# groping\n",
    "daily_records = records.resample(\"D\", closed=\"right\", label=\"right\", origin=\"start\").agg({\n",
    "    \"open\": \"first\",\n",
    "    \"high\": \"max\",\n",
    "    \"low\": \"min\",\n",
    "    \"close\": \"last\",\n",
    "    \"volume\": \"sum\"\n",
    "})\n",
    "daily_records.index.name = \"date\"\n",
    "daily_records.tail()"
   ]
  },
  {
   "cell_type": "markdown",
   "id": "203562fa-fd8e-4f68-9a58-4b0f2d234fec",
   "metadata": {},
   "source": [
    "---\n",
    "**If you held bitcoin for up to 30 days where would your profit lie?**"
   ]
  },
  {
   "cell_type": "code",
   "execution_count": null,
   "id": "a750a23e-29c5-4858-b1e9-f8c3254ed158",
   "metadata": {
    "scrolled": true
   },
   "outputs": [],
   "source": [
    "# re-running the cell will clear all the cache!\n",
    "@lru_cache\n",
    "def profit_quantiles(\n",
    "        close_prices: Sequence[float],\n",
    "        max_span: int = 30,\n",
    "        quantiles: Sequence[float | int] = (0.01, 0.25, 0.5, 0.75, 0.99),\n",
    ") -> pd.DataFrame:\n",
    "    return_of_hold = pd.DataFrame({k: 0.0 for k in quantiles}, index=range(1, max_span + 1))\n",
    "    grouped = pd.Series(close_prices)\n",
    "\n",
    "    for span in range(2, max_span + 1):\n",
    "        res = (grouped\n",
    "               .rolling(window=span)\n",
    "               .apply(lambda srs: (srs.iat[-1] / srs.iat[0] - 1) * 100)\n",
    "               .quantile(quantiles)\n",
    "               )\n",
    "        return_of_hold.loc[span] = res\n",
    "    return return_of_hold"
   ]
  },
  {
   "cell_type": "code",
   "execution_count": null,
   "id": "f5e60479d8b6f025",
   "metadata": {},
   "outputs": [],
   "source": [
    "# calculate the profit\n",
    "MAX_SPAN_DAYS = 100\n",
    "QUANTILES = (0.01, 0.25, 0.5, 0.75, 0.99)\n",
    "\n",
    "return_of_hold = profit_quantiles(\n",
    "    close_prices=tuple(daily_records[\"close\"]),  # bad practice. todo: look for a better solution\n",
    "    max_span=MAX_SPAN_DAYS,\n",
    "    quantiles=QUANTILES\n",
    ")\n",
    "return_of_hold.tail()"
   ]
  },
  {
   "cell_type": "code",
   "execution_count": null,
   "id": "09670769-88de-4d6b-a365-4abf01220dc6",
   "metadata": {},
   "outputs": [],
   "source": [
    "# charting\n",
    "ax = plt.subplot()\n",
    "for quantile, data in return_of_hold.items():\n",
    "    if data.iat[-1] < 0:\n",
    "        color = \"red\"\n",
    "    elif data.iat[-1] == 0:\n",
    "        color = \"grey\"\n",
    "    else:\n",
    "        color = \"green\"\n",
    "\n",
    "    ax.plot(data, color=color)\n",
    "    ax.text(x=MAX_SPAN_DAYS * 1.02, y=data.iat[-1], s=f\"Q {round(quantile, 4)} = {round(data.iat[-1], 2)}%\",\n",
    "            color=color)\n",
    "\n",
    "ax.axhline(0, linestyle=\"dashed\", color=\"grey\")\n",
    "\n",
    "ax.set_title(\"Quantiles of return against days held\")\n",
    "ax.grid()\n",
    "ax.spines['top'].set_visible(False)\n",
    "ax.spines['right'].set_visible(False)\n",
    "\n",
    "ax.set_xlabel(\"Days held\")\n",
    "ax.set_xlim(1, MAX_SPAN_DAYS * 1.01)\n",
    "\n",
    "ax.set_yticks(\n",
    "    np.arange(return_of_hold.min(axis=None) * 0.9, return_of_hold.max(axis=None) * 1.1,\n",
    "              return_of_hold.mean(axis=None) * 3).round(2)\n",
    ")\n",
    "ax.set_ylabel(\"Return in %\")\n",
    "print(f\"The profit will generally be positive with the 50% chance of it being between \"\n",
    "      f\"{return_of_hold.iloc[-1, 1].round(2)}% and {return_of_hold.iloc[-1, 3].round(2)}%, \"\n",
    "      f\"with median profit being {return_of_hold.iloc[-1, 2].round(2)}%\")"
   ]
  },
  {
   "cell_type": "markdown",
   "id": "c13b993c-bfcf-4048-bae6-f5884bc4b530",
   "metadata": {},
   "source": [
    "---\n",
    "**Did Bitcoin become more or less volatile over the years?**"
   ]
  },
  {
   "cell_type": "code",
   "execution_count": 56,
   "id": "576c720a-7a99-491d-a4f0-e620f93a75cf",
   "metadata": {},
   "outputs": [],
   "source": [
    "weekly_grouped = daily_records.resample(\"W-MON\")\n",
    "weekly_cv = weekly_grouped.std() / weekly_grouped.mean()\n",
    "close_cv = weekly_cv[\"close\"].ewm(alpha=0.1).mean()"
   ]
  },
  {
   "cell_type": "code",
   "execution_count": 62,
   "id": "37fb0a1d-63d4-42ab-8393-af5ef42b4e5c",
   "metadata": {
    "jupyter": {
     "source_hidden": true
    }
   },
   "outputs": [
    {
     "name": "stdout",
     "output_type": "stream",
     "text": [
      "Bitcoin became less volative over the years, which may have been caused by bigger addoption of the coin and can lead it further cementing its image as the \"digital gold\".\n"
     ]
    },
    {
     "data": {
      "image/png": "[encoded data removed]",
      "text/plain": [
       "<Figure size 640x480 with 1 Axes>"
      ]
     },
     "metadata": {},
     "output_type": "display_data"
    }
   ],
   "source": [
    "ax = plt.subplot()\n",
    "ax.plot(close_cv)\n",
    "ax.set_ylabel(\"CV\")\n",
    "ax.set_xlabel(\"Year\")\n",
    "ax.set_title(\"Smoothed weekly CV of the close price over the years\")\n",
    "print(\"Bitcoin became less volative over the years, which may have been caused by bigger addoption of the coin and can lead it further cementing its image as the \\\"digital gold\\\".\")"
   ]
  },
  {
   "cell_type": "markdown",
   "id": "e9536400-4370-4eb7-849a-382912356b92",
   "metadata": {},
   "source": [
    "---\n",
    "**EMA-Cross autoregression model**"
   ]
  },
  {
   "cell_type": "code",
   "execution_count": 25,
   "id": "fe6662fb9655dbf5",
   "metadata": {
    "ExecuteTime": {
     "end_time": "2025-04-04T09:05:13.676029Z",
     "start_time": "2025-04-04T09:05:13.569568Z"
    }
   },
   "outputs": [],
   "source": [
    "ALPHA_SLOW = 0.04\n",
    "ALPHA_FAST = 0.2\n",
    "\n",
    "ema_slow = pd.Series(records[\"close\"].ewm(alpha=ALPHA_SLOW).mean(), name=\"ema_slow\")\n",
    "ema_fast = pd.Series(records[\"close\"].ewm(alpha=ALPHA_FAST).mean(), name=\"ema_fast\")"
   ]
  },
  {
   "cell_type": "code",
   "execution_count": 39,
   "id": "f4829e77fb604a6d",
   "metadata": {
    "ExecuteTime": {
     "end_time": "2025-04-04T09:20:26.890660Z",
     "start_time": "2025-04-04T09:20:26.873396Z"
    }
   },
   "outputs": [],
   "source": [
    "class Trader:\n",
    "    def __init__(self,\n",
    "                 volume_quartile: float,\n",
    "                 rel_tol_out=0.05,\n",
    "                 rel_tol_in=0.03\n",
    "                 ):\n",
    "        \"\"\"\n",
    "        :param rel_tol_out: outer relative tolerance to start a trade\n",
    "        :param rel_tol_in: inner relative tolerance to end a trade\n",
    "        :param volume_quartile: Q-0.25 of the traded volume\n",
    "        :return: None\n",
    "        \"\"\"\n",
    "        self.volume_quartile = volume_quartile\n",
    "        self.rel_tol_in = rel_tol_in\n",
    "        self.rel_tol_out = rel_tol_out\n",
    "        self.in_trade: bool = False\n",
    "        self.trade_type: Literal[\"long\", \"short\"] | None = None\n",
    "        self.trade_id: int = 0\n",
    "\n",
    "        columns = pd.MultiIndex.from_tuples([\n",
    "            (\"trade_entry\", \"datetime\"),\n",
    "            (\"trade_entry\", \"price\"),\n",
    "            (\"trade_exit\", \"datetime\"),\n",
    "            (\"trade_exit\", \"price\"),\n",
    "            (\"trade_type\", \"type\")\n",
    "        ])\n",
    "        self._trade_list: pd.DataFrame = pd.DataFrame(columns=columns)\n",
    "        self._trade_list.index.name = \"trade_id\"\n",
    "        return\n",
    "\n",
    "    def _log_trade(\n",
    "            self,\n",
    "            trade_id: int,\n",
    "            trade_type: Literal[\"long\", \"short\"] | None = None,\n",
    "            trade_entry_datetime: datetime | None = None,\n",
    "            trade_entry_price: float | None = None,\n",
    "            trade_exit_datetime: datetime | None = None,\n",
    "            trade_exit_price: float | None = None\n",
    "    ) -> None:\n",
    "        assert type(trade_id) is int, \"trade_id must be an integer\"\n",
    "\n",
    "        if trade_type:\n",
    "            self._trade_list.loc[trade_id, (trade_type, \"type\")] = trade_type\n",
    "\n",
    "        if trade_entry_datetime:\n",
    "            self._trade_list.loc[trade_id, (\"trade_entry\", \"datetime\")] = trade_entry_datetime\n",
    "\n",
    "        if trade_entry_price:\n",
    "            self._trade_list.loc[trade_id, (\"trade_entry\", \"price\")] = trade_entry_price\n",
    "\n",
    "        if trade_exit_datetime:\n",
    "            self._trade_list.loc[trade_id, (\"trade_exit\", \"datetime\")] = trade_exit_datetime\n",
    "\n",
    "        if trade_exit_price:\n",
    "            self._trade_list.loc[trade_id, (\"trade_exit\", \"price\")] = trade_exit_price\n",
    "\n",
    "        return\n",
    "\n",
    "    @property\n",
    "    def trade_list(self) -> pd.DataFrame:\n",
    "        trade_list = self._trade_list.astype({\n",
    "            (\"trade_entry\", \"price\"): float,\n",
    "            (\"trade_entry\", \"datetime\"): \"datetime64[ns, UTC]\",\n",
    "            (\"trade_exit\", \"price\"): float,\n",
    "            (\"trade_exit\", \"datetime\"): \"datetime64[ns, UTC]\",\n",
    "            (\"trade_type\", \"type\"): \"category\"\n",
    "        })\n",
    "        return trade_list\n",
    "\n",
    "    def trade(self, row: pd.Series):\n",
    "        # row must have the following indices:\n",
    "        # \"open\", \"high\", \"low\", \"close\", \"volume\", \"ema_fast\", \"ema_slow\"\n",
    "\n",
    "        if (\n",
    "                (row.isna().any()) or  # some values are invalid\n",
    "                (not isclose(row[\"ema_fast\"], row[\"ema_slow\"], rel_tol=self.rel_tol_out)) or  # ema's are far apart\n",
    "                (row[\"volume\"] < self.volume_quartile)  # to little volume to trade\n",
    "        ):\n",
    "            return row\n",
    "\n",
    "        ema_fast: float = row.loc[\"ema_fast\"]\n",
    "        ema_slow: float = row.loc[\"ema_slow\"]\n",
    "        volume = row.loc[\"volume\"]\n",
    "        record: pd.Series = row.loc[[\"open\", \"high\", \"low\", \"close\"]]\n",
    "\n",
    "        # attempt to open a trade\n",
    "        if all([\n",
    "            not self.in_trade,\n",
    "            not isclose(ema_fast, ema_slow, rel_tol=self.rel_tol_out),\n",
    "            volume > self.volume_quartile\n",
    "        ]):\n",
    "            self.in_trade = True\n",
    "            self.trade_type = \"long\" if ema_fast > ema_slow else \"short\"\n",
    "            self.trade_id += 1\n",
    "\n",
    "            self._log_trade(\n",
    "                trade_id=self.trade_id,\n",
    "                trade_type=self.trade_type,\n",
    "                trade_entry_datetime=record.name,\n",
    "                trade_entry_price=record.loc[\"close\"],\n",
    "            )\n",
    "\n",
    "        # attempt to close a trade\n",
    "        if self.in_trade and isclose(ema_fast, ema_slow, rel_tol=self.rel_tol_in):\n",
    "            self._log_trade(\n",
    "                trade_id=self.trade_id,\n",
    "                trade_exit_datetime=record.name,\n",
    "                trade_exit_price=record.loc[\"close\"]\n",
    "            )\n",
    "            self.in_trade = False\n",
    "            self.trade_type = None\n",
    "\n",
    "        return row"
   ]
  },
  {
   "cell_type": "code",
   "execution_count": 35,
   "id": "ebdc1d6917b67e93",
   "metadata": {
    "ExecuteTime": {
     "end_time": "2025-04-04T09:14:42.326789Z",
     "start_time": "2025-04-04T09:14:42.220187Z"
    }
   },
   "outputs": [],
   "source": [
    "trader = Trader(rel_tol_in=0.01, rel_tol_out=0.03, volume_quartile=records[\"volume\"].quantile(0.25))\n",
    "data = pd.concat([records.iloc[:500_000], ema_fast.iloc[:500_000], ema_slow.iloc[:500_000]], axis=\"columns\")\n",
    "data.dropna(inplace=True)"
   ]
  },
  {
   "cell_type": "code",
   "execution_count": 37,
   "id": "39f08883-1c63-4a58-93e6-e9e3eb822d67",
   "metadata": {
    "ExecuteTime": {
     "end_time": "2025-04-04T09:14:52.343712Z",
     "start_time": "2025-04-04T09:14:47.242486Z"
    }
   },
   "outputs": [],
   "source": [
    "data.transform(trader.trade, axis=\"columns\");"
   ]
  },
  {
   "cell_type": "code",
   "execution_count": 36,
   "id": "af4b6180450d2d2b",
   "metadata": {
    "ExecuteTime": {
     "end_time": "2025-04-04T09:14:44.933342Z",
     "start_time": "2025-04-04T09:14:44.859909Z"
    }
   },
   "outputs": [],
   "source": [
    "data = data.resample(\"5min\").agg({\n",
    "    \"open\": \"first\",\n",
    "    \"high\": \"max\",\n",
    "    \"low\": \"min\",\n",
    "    \"close\": \"last\",\n",
    "    \"volume\": \"sum\",\n",
    "    \"ema_fast\": \"mean\",\n",
    "    \"ema_slow\": \"mean\",\n",
    "})"
   ]
  },
  {
   "cell_type": "code",
   "execution_count": 38,
   "id": "c310f5bb-5087-4cae-82e6-6ea498aa5fa8",
   "metadata": {
    "ExecuteTime": {
     "end_time": "2025-04-04T09:14:55.948821Z",
     "start_time": "2025-04-04T09:14:55.942317Z"
    }
   },
   "outputs": [
    {
     "data": {
      "text/html": [
       "<div>\n",
       "<style scoped>\n",
       "    .dataframe tbody tr th:only-of-type {\n",
       "        vertical-align: middle;\n",
       "    }\n",
       "\n",
       "    .dataframe tbody tr th {\n",
       "        vertical-align: top;\n",
       "    }\n",
       "\n",
       "    .dataframe thead tr th {\n",
       "        text-align: left;\n",
       "    }\n",
       "\n",
       "    .dataframe thead tr:last-of-type th {\n",
       "        text-align: right;\n",
       "    }\n",
       "</style>\n",
       "<table border=\"1\" class=\"dataframe\">\n",
       "  <thead>\n",
       "    <tr>\n",
       "      <th></th>\n",
       "      <th colspan=\"2\" halign=\"left\">trade_entry</th>\n",
       "      <th colspan=\"2\" halign=\"left\">trade_exit</th>\n",
       "      <th>trade_type</th>\n",
       "    </tr>\n",
       "    <tr>\n",
       "      <th></th>\n",
       "      <th>datetime</th>\n",
       "      <th>price</th>\n",
       "      <th>datetime</th>\n",
       "      <th>price</th>\n",
       "      <th>type</th>\n",
       "    </tr>\n",
       "    <tr>\n",
       "      <th>trade_id</th>\n",
       "      <th></th>\n",
       "      <th></th>\n",
       "      <th></th>\n",
       "      <th></th>\n",
       "      <th></th>\n",
       "    </tr>\n",
       "  </thead>\n",
       "  <tbody>\n",
       "  </tbody>\n",
       "</table>\n",
       "</div>"
      ],
      "text/plain": [
       "Empty DataFrame\n",
       "Columns: [(trade_entry, datetime), (trade_entry, price), (trade_exit, datetime), (trade_exit, price), (trade_type, type)]\n",
       "Index: []"
      ]
     },
     "execution_count": 38,
     "metadata": {},
     "output_type": "execute_result"
    }
   ],
   "source": [
    "trader.trade_list"
   ]
  },
  {
   "cell_type": "markdown",
   "id": "6f0f8468-cd00-4d88-9008-4ab1a57f8523",
   "metadata": {},
   "source": [
    "---\n",
    "**How does price change correlate with change of trading volume?**"
   ]
  },
  {
   "cell_type": "code",
   "execution_count": 31,
   "id": "96554c78-ab3e-4350-9742-6c8247f00679",
   "metadata": {
    "ExecuteTime": {
     "end_time": "2025-04-04T07:02:49.399005Z",
     "start_time": "2025-04-04T07:02:49.325642Z"
    }
   },
   "outputs": [
    {
     "data": {
      "text/html": [
       "<div>\n",
       "<style scoped>\n",
       "    .dataframe tbody tr th:only-of-type {\n",
       "        vertical-align: middle;\n",
       "    }\n",
       "\n",
       "    .dataframe tbody tr th {\n",
       "        vertical-align: top;\n",
       "    }\n",
       "\n",
       "    .dataframe thead th {\n",
       "        text-align: right;\n",
       "    }\n",
       "</style>\n",
       "<table border=\"1\" class=\"dataframe\">\n",
       "  <thead>\n",
       "    <tr style=\"text-align: right;\">\n",
       "      <th></th>\n",
       "      <th>volume_change</th>\n",
       "      <th>price_change</th>\n",
       "    </tr>\n",
       "    <tr>\n",
       "      <th>date</th>\n",
       "      <th></th>\n",
       "      <th></th>\n",
       "    </tr>\n",
       "  </thead>\n",
       "  <tbody>\n",
       "    <tr>\n",
       "      <th>2025-03-12 10:01:00+00:00</th>\n",
       "      <td>-0.277108</td>\n",
       "      <td>0.016600</td>\n",
       "    </tr>\n",
       "    <tr>\n",
       "      <th>2025-03-13 10:01:00+00:00</th>\n",
       "      <td>-0.048084</td>\n",
       "      <td>0.008976</td>\n",
       "    </tr>\n",
       "    <tr>\n",
       "      <th>2025-03-14 10:01:00+00:00</th>\n",
       "      <td>-0.268835</td>\n",
       "      <td>-0.007817</td>\n",
       "    </tr>\n",
       "    <tr>\n",
       "      <th>2025-03-15 10:01:00+00:00</th>\n",
       "      <td>0.133271</td>\n",
       "      <td>0.019033</td>\n",
       "    </tr>\n",
       "    <tr>\n",
       "      <th>2025-03-16 10:01:00+00:00</th>\n",
       "      <td>-0.436771</td>\n",
       "      <td>-0.020918</td>\n",
       "    </tr>\n",
       "  </tbody>\n",
       "</table>\n",
       "</div>"
      ],
      "text/plain": [
       "                           volume_change  price_change\n",
       "date                                                  \n",
       "2025-03-12 10:01:00+00:00      -0.277108      0.016600\n",
       "2025-03-13 10:01:00+00:00      -0.048084      0.008976\n",
       "2025-03-14 10:01:00+00:00      -0.268835     -0.007817\n",
       "2025-03-15 10:01:00+00:00       0.133271      0.019033\n",
       "2025-03-16 10:01:00+00:00      -0.436771     -0.020918"
      ]
     },
     "execution_count": 31,
     "metadata": {},
     "output_type": "execute_result"
    }
   ],
   "source": [
    "QUANTILES = [0.05, 0.95]\n",
    "\n",
    "volume_change = daily_records[\"volume\"].pct_change().dropna()\n",
    "price_change = daily_records[\"close\"] / daily_records[\"open\"] - 1\n",
    "\n",
    "price_volume_change = pd.concat([volume_change, price_change], axis=\"columns\")\n",
    "price_volume_change.rename(columns={\"volume\": \"volume_change\", 0: \"price_change\"}, inplace=True)\n",
    "\n",
    "mask = price_volume_change.isin([np.nan, np.inf, -np.inf])\n",
    "price_volume_change[mask] = 0\n",
    "\n",
    "# filtering out the outliers\n",
    "volume_mask = pd.qcut(price_volume_change[\"volume_change\"], q=QUANTILES).isna().to_numpy()\n",
    "price_mask = pd.qcut(price_volume_change[\"price_change\"], q=QUANTILES).isna().to_numpy()\n",
    "\n",
    "general_mask = np.stack([volume_mask, price_mask], axis=1).any(axis=1)\n",
    "\n",
    "indices_to_drop = price_volume_change.loc[general_mask].index\n",
    "price_volume_change.drop(indices_to_drop, inplace=True)\n",
    "\n",
    "spearman = (st.spearmanr(a=price_volume_change[\"price_change\"], b=price_volume_change[\"volume_change\"])\n",
    "            .statistic\n",
    "            .round(4)\n",
    "            )\n",
    "\n",
    "price_volume_change.tail()"
   ]
  },
  {
   "cell_type": "code",
   "execution_count": 109,
   "id": "b8683ef0-2ccb-43ab-a57f-55f6e50e58b9",
   "metadata": {
    "jupyter": {
     "source_hidden": true
    }
   },
   "outputs": [
    {
     "name": "stdout",
     "output_type": "stream",
     "text": [
      "Spearman rank correlation coefficient: 0.0089\n",
      "There is practically no correlation between these two values.\n"
     ]
    },
    {
     "data": {
      "image/png": "[encoded data removed]",
      "text/plain": [
       "<Figure size 770x550 with 3 Axes>"
      ]
     },
     "metadata": {},
     "output_type": "display_data"
    }
   ],
   "source": [
    "# charting\n",
    "fig, axs = plt.subplot_mosaic([['histx', '.'],\n",
    "                               ['scatter', 'histy']],\n",
    "                              figsize=(7.7, 5.5),\n",
    "                              width_ratios=(4, 1), \n",
    "                              height_ratios=(1, 4),\n",
    "                              layout='constrained')\n",
    "\n",
    "ax_histx, ax, ax_histy = axs.values()\n",
    "\n",
    "BIN_NUMBER = 100\n",
    "\n",
    "fig.suptitle(\"Daily price change against change of trading volume (%)\")\n",
    "\n",
    "# scatter plot stuff >>>>>>>\n",
    "ax.scatter(\n",
    "    x=price_volume_change[\"price_change\"],\n",
    "    y=price_volume_change[\"volume_change\"],\n",
    "    s=0.7,\n",
    "    color=\"green\"\n",
    ")\n",
    "\n",
    "ax.axvline(x=0, linestyle=\"dashed\", color=\"grey\")\n",
    "ax.axhline(y=0, linestyle=\"dashed\", color=\"grey\")\n",
    "\n",
    "ax.set_ylabel(\"Trading colume change\")\n",
    "ax.set_xlabel(\"Price change\")\n",
    "# <<<<<<<\n",
    "\n",
    "# histogram on x >>>>>>>\n",
    "ax_histx.hist(\n",
    "    price_volume_change[\"price_change\"], \n",
    "    bins=BIN_NUMBER,\n",
    "    color=\"green\"\n",
    ")\n",
    "\n",
    "ax_histx.tick_params(axis=\"x\", labelbottom=False)\n",
    "ax_histx.tick_params(axis=\"y\", labelleft=False)\n",
    "ax_histx.axvline(price_volume_change[\"price_change\"].mean(), color=\"blue\")\n",
    "# <<<<<<<\n",
    "\n",
    "# histogram on y >>>>>>>\n",
    "ax_histy.hist(\n",
    "    price_volume_change[\"volume_change\"], \n",
    "    bins=BIN_NUMBER,\n",
    "    color=\"green\",\n",
    "    orientation='horizontal'\n",
    ")\n",
    "ax_histy.tick_params(axis=\"y\", labelbottom=False, labelleft=False)\n",
    "ax_histy.tick_params(axis=\"x\", labelbottom=False)\n",
    "ax_histy.axhline(price_volume_change[\"volume_change\"].mean(), color=\"blue\")\n",
    "# <<<<<<<\n",
    "\n",
    "print(f\"Spearman rank correlation coefficient: {spearman}\")\n",
    "print(\"There is practically no correlation between these two values.\")"
   ]
  },
  {
   "cell_type": "markdown",
   "id": "c7ae2c7e-7038-4ee6-9218-730b0882f12b",
   "metadata": {},
   "source": [
    "---\n",
    "**How does halving affect price and trading volume?**"
   ]
  },
  {
   "cell_type": "code",
   "execution_count": null,
   "id": "05a3e4e9-ce97-49b6-84fe-d96fb75e6878",
   "metadata": {},
   "outputs": [],
   "source": [
    "halving_dates = (\n",
    "    date(year=2012, month=11, day=28),\n",
    "    date(year=2016, month=7, day=9),\n",
    "    date(year=2020, month=7, day=10),\n",
    "    date(year=2024, month=4, day=20),\n",
    ")\n",
    "\n",
    "grouped = (records\n",
    "           .resample(\"ME\")\n",
    "           .agg({\"close\": \"median\", \"volume\": \"sum\"})\n",
    "           .reset_index(drop=True)\n",
    "           )\n",
    "grouped.index = pd.date_range(start=first_datetime, freq=timedelta(days=30), periods=len(grouped))"
   ]
  },
  {
   "cell_type": "code",
   "execution_count": null,
   "id": "7c66fe84d8c01e58",
   "metadata": {
    "jupyter": {
     "source_hidden": true
    }
   },
   "outputs": [],
   "source": [
    "ax = plt.subplot()\n",
    "ax.plot(grouped[\"close\"].map(log), color=\"blue\")\n",
    "ax.set_title(\"Bitcoin price development after each halving\")\n",
    "ax.set_xlabel(\"Year\")\n",
    "ax.set_ylabel(\"Log price in $\")\n",
    "\n",
    "for date in halving_dates:\n",
    "    ax.axvline(x=date, linestyle=\"dashed\", color=\"green\", label=\"halving date\")\n",
    "\n",
    "ax.legend(ax.get_children()[:2], [\"Log price\", \"Halving\"])\n",
    "print(\"There used to be a visible correlation between the halving and a significat price jump.\\n\"\n",
    "      \"In the 2024 this jump is however much smaller than other times\")"
   ]
  },
  {
   "cell_type": "markdown",
   "id": "c0ed0d7a-50d2-4321-b06d-10ca4a3a903f",
   "metadata": {},
   "source": [
    "---\n",
    "**How did trading volume per dollar change over the years?**"
   ]
  },
  {
   "cell_type": "code",
   "execution_count": null,
   "id": "971cc15a-bad9-4dd7-9de7-747ebb8d2acc",
   "metadata": {},
   "outputs": [],
   "source": [
    "grouped = (records\n",
    "           .resample(\"ME\")\n",
    "           .agg({\"close\": \"median\", \"volume\": \"sum\"})\n",
    "           .reset_index(drop=True)\n",
    "           )\n",
    "grouped.index = pd.date_range(start=first_datetime, freq=timedelta(days=30), periods=len(grouped))\n",
    "volume_per_dollar = grouped[\"volume\"] / grouped[\"close\"]"
   ]
  },
  {
   "cell_type": "code",
   "execution_count": null,
   "id": "07c917cc-982e-4233-913c-4f9884929835",
   "metadata": {
    "jupyter": {
     "source_hidden": true
    }
   },
   "outputs": [],
   "source": [
    "ax = plt.subplot()\n",
    "\n",
    "ax.plot(volume_per_dollar.map(log), color=\"green\")\n",
    "ax.set_ylabel(\"Log Trading volume per dollar\")\n",
    "ax.set_xlabel(\"Year\")\n",
    "ax.set_title(\"Trading volume per dollar price over time\");\n",
    "print(\"Sinking trading volume per dollar is a signal of the price growing faster than the trading volume.\\n\"\n",
    "      \"This in turn may imply that the Bitcoin has become much more of a speculation tool than a real valuable asset.\")"
   ]
  }
 ],
 "metadata": {
  "kernelspec": {
   "display_name": "Python 3 (ipykernel)",
   "language": "python",
   "name": "python3"
  },
  "language_info": {
   "codemirror_mode": {
    "name": "ipython",
    "version": 3
   },
   "file_extension": ".py",
   "mimetype": "text/x-python",
   "name": "python",
   "nbconvert_exporter": "python",
   "pygments_lexer": "ipython3",
   "version": "3.13.2"
  }
 },
 "nbformat": 4,
 "nbformat_minor": 5
}
