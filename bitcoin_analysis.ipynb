{
 "cells": [
  {
   "cell_type": "code",
   "id": "fc8a8537-0898-4ae3-8ef9-4704fc6fc087",
   "metadata": {
    "ExecuteTime": {
     "end_time": "2025-04-04T06:49:41.256763Z",
     "start_time": "2025-04-04T06:49:40.254891Z"
    }
   },
   "source": [
    "import pandas as pd\n",
    "import numpy as np\n",
    "from datetime import datetime, timedelta, date\n",
    "import matplotlib.pyplot as plt\n",
    "from pathlib import Path\n",
    "import kagglehub\n",
    "from functools import lru_cache\n",
    "from typing import Sequence, Literal\n",
    "from math import log, isclose\n",
    "import scipy.stats as st\n",
    "import os\n",
    "\n",
    "np.set_printoptions(suppress=True)"
   ],
   "outputs": [],
   "execution_count": 1
  },
  {
   "cell_type": "code",
   "id": "faac2181-efc3-4e75-9844-311d496a1bdb",
   "metadata": {
    "ExecuteTime": {
     "end_time": "2025-04-04T06:50:23.299013Z",
     "start_time": "2025-04-04T06:50:08.833367Z"
    }
   },
   "source": [
    "# import\n",
    "dir_ = Path(kagglehub.dataset_download(\"mczielinski/bitcoin-historical-data\"))\n",
    "file_name = os.listdir(dir_)[0]\n",
    "path = dir_ / file_name\n",
    "\n",
    "#print(f\"Path to dataset: {path}\")\n",
    "raw_records = pd.read_csv(\n",
    "    path,\n",
    "    usecols=[\"Open\", \"High\", \"Low\", \"Close\", \"Volume\"],\n",
    "    #nrows=100_000\n",
    ")\n",
    "first_datetime = datetime.fromisoformat(pd.read_csv(path, nrows=1).loc[0, \"datetime\"])\n",
    "print(\"Done\")"
   ],
   "outputs": [
    {
     "name": "stdout",
     "output_type": "stream",
     "text": [
      "Warning: Looks like you're using an outdated `kagglehub` version (installed: 0.3.10), please consider upgrading to the latest version (0.3.11).\n",
      "Downloading from https://www.kaggle.com/api/v1/datasets/download/mczielinski/bitcoin-historical-data?dataset_version_number=195...\n"
     ]
    },
    {
     "name": "stderr",
     "output_type": "stream",
     "text": [
      "100%|██████████| 112M/112M [00:10<00:00, 11.1MB/s] "
     ]
    },
    {
     "name": "stdout",
     "output_type": "stream",
     "text": [
      "Extracting files...\n"
     ]
    },
    {
     "name": "stderr",
     "output_type": "stream",
     "text": [
      "\n"
     ]
    },
    {
     "name": "stdout",
     "output_type": "stream",
     "text": [
      "Done\n"
     ]
    }
   ],
   "execution_count": 2
  },
  {
   "cell_type": "code",
   "id": "a4b3e908-fad3-4547-bac5-8fa6a7f79c93",
   "metadata": {
    "ExecuteTime": {
     "end_time": "2025-04-04T06:50:39.523288Z",
     "start_time": "2025-04-04T06:50:39.495295Z"
    }
   },
   "source": [
    "# assigning a new index\n",
    "datetime_index = pd.date_range(\n",
    "    start=first_datetime,\n",
    "    freq=timedelta(minutes=1),\n",
    "    periods=len(raw_records)\n",
    ")\n",
    "records = raw_records\n",
    "records.index = pd.Index(datetime_index, name=\"datetime\")\n",
    "records.rename(columns=str.lower, inplace=True)\n",
    "records.tail()"
   ],
   "outputs": [
    {
     "data": {
      "text/plain": [
       "                              open     high      low    close    volume\n",
       "datetime                                                               \n",
       "2025-03-16 04:36:00+00:00  82554.0  82554.0  82554.0  82554.0  0.072000\n",
       "2025-03-16 04:37:00+00:00  82584.0  82615.0  82584.0  82615.0  0.194670\n",
       "2025-03-16 04:38:00+00:00  82555.0  82555.0  82555.0  82555.0  0.002680\n",
       "2025-03-16 04:39:00+00:00  82555.0  82555.0  82555.0  82555.0  0.000000\n",
       "2025-03-16 04:40:00+00:00  82569.0  82569.0  82566.0  82566.0  0.003019"
      ],
      "text/html": [
       "<div>\n",
       "<style scoped>\n",
       "    .dataframe tbody tr th:only-of-type {\n",
       "        vertical-align: middle;\n",
       "    }\n",
       "\n",
       "    .dataframe tbody tr th {\n",
       "        vertical-align: top;\n",
       "    }\n",
       "\n",
       "    .dataframe thead th {\n",
       "        text-align: right;\n",
       "    }\n",
       "</style>\n",
       "<table border=\"1\" class=\"dataframe\">\n",
       "  <thead>\n",
       "    <tr style=\"text-align: right;\">\n",
       "      <th></th>\n",
       "      <th>open</th>\n",
       "      <th>high</th>\n",
       "      <th>low</th>\n",
       "      <th>close</th>\n",
       "      <th>volume</th>\n",
       "    </tr>\n",
       "    <tr>\n",
       "      <th>datetime</th>\n",
       "      <th></th>\n",
       "      <th></th>\n",
       "      <th></th>\n",
       "      <th></th>\n",
       "      <th></th>\n",
       "    </tr>\n",
       "  </thead>\n",
       "  <tbody>\n",
       "    <tr>\n",
       "      <th>2025-03-16 04:36:00+00:00</th>\n",
       "      <td>82554.0</td>\n",
       "      <td>82554.0</td>\n",
       "      <td>82554.0</td>\n",
       "      <td>82554.0</td>\n",
       "      <td>0.072000</td>\n",
       "    </tr>\n",
       "    <tr>\n",
       "      <th>2025-03-16 04:37:00+00:00</th>\n",
       "      <td>82584.0</td>\n",
       "      <td>82615.0</td>\n",
       "      <td>82584.0</td>\n",
       "      <td>82615.0</td>\n",
       "      <td>0.194670</td>\n",
       "    </tr>\n",
       "    <tr>\n",
       "      <th>2025-03-16 04:38:00+00:00</th>\n",
       "      <td>82555.0</td>\n",
       "      <td>82555.0</td>\n",
       "      <td>82555.0</td>\n",
       "      <td>82555.0</td>\n",
       "      <td>0.002680</td>\n",
       "    </tr>\n",
       "    <tr>\n",
       "      <th>2025-03-16 04:39:00+00:00</th>\n",
       "      <td>82555.0</td>\n",
       "      <td>82555.0</td>\n",
       "      <td>82555.0</td>\n",
       "      <td>82555.0</td>\n",
       "      <td>0.000000</td>\n",
       "    </tr>\n",
       "    <tr>\n",
       "      <th>2025-03-16 04:40:00+00:00</th>\n",
       "      <td>82569.0</td>\n",
       "      <td>82569.0</td>\n",
       "      <td>82566.0</td>\n",
       "      <td>82566.0</td>\n",
       "      <td>0.003019</td>\n",
       "    </tr>\n",
       "  </tbody>\n",
       "</table>\n",
       "</div>"
      ]
     },
     "execution_count": 3,
     "metadata": {},
     "output_type": "execute_result"
    }
   ],
   "execution_count": 3
  },
  {
   "cell_type": "code",
   "id": "da39eb06-d4da-4cda-8ac1-668055d88ba8",
   "metadata": {
    "scrolled": true,
    "ExecuteTime": {
     "end_time": "2025-04-04T06:50:45.217933Z",
     "start_time": "2025-04-04T06:50:44.736579Z"
    }
   },
   "source": [
    "# groping\n",
    "daily_records = records.resample(\"D\", closed=\"right\", label=\"right\", origin=\"start\").agg({\n",
    "    \"open\": \"first\",\n",
    "    \"high\": \"max\",\n",
    "    \"low\": \"min\",\n",
    "    \"close\": \"last\",\n",
    "    \"volume\": \"sum\"\n",
    "})\n",
    "daily_records.index.name = \"date\"\n",
    "daily_records.tail()"
   ],
   "outputs": [
    {
     "data": {
      "text/plain": [
       "                              open     high      low    close       volume\n",
       "date                                                                      \n",
       "2025-03-12 10:01:00+00:00  81325.0  83733.0  79031.0  82675.0  2339.022631\n",
       "2025-03-13 10:01:00+00:00  82663.0  84437.0  80607.0  83405.0  2226.552840\n",
       "2025-03-14 10:01:00+00:00  83409.0  83849.0  79910.0  82757.0  1627.976707\n",
       "2025-03-15 10:01:00+00:00  82753.0  85294.0  82638.0  84328.0  1844.938637\n",
       "2025-03-16 10:01:00+00:00  84330.0  85059.0  81983.0  82566.0  1039.123849"
      ],
      "text/html": [
       "<div>\n",
       "<style scoped>\n",
       "    .dataframe tbody tr th:only-of-type {\n",
       "        vertical-align: middle;\n",
       "    }\n",
       "\n",
       "    .dataframe tbody tr th {\n",
       "        vertical-align: top;\n",
       "    }\n",
       "\n",
       "    .dataframe thead th {\n",
       "        text-align: right;\n",
       "    }\n",
       "</style>\n",
       "<table border=\"1\" class=\"dataframe\">\n",
       "  <thead>\n",
       "    <tr style=\"text-align: right;\">\n",
       "      <th></th>\n",
       "      <th>open</th>\n",
       "      <th>high</th>\n",
       "      <th>low</th>\n",
       "      <th>close</th>\n",
       "      <th>volume</th>\n",
       "    </tr>\n",
       "    <tr>\n",
       "      <th>date</th>\n",
       "      <th></th>\n",
       "      <th></th>\n",
       "      <th></th>\n",
       "      <th></th>\n",
       "      <th></th>\n",
       "    </tr>\n",
       "  </thead>\n",
       "  <tbody>\n",
       "    <tr>\n",
       "      <th>2025-03-12 10:01:00+00:00</th>\n",
       "      <td>81325.0</td>\n",
       "      <td>83733.0</td>\n",
       "      <td>79031.0</td>\n",
       "      <td>82675.0</td>\n",
       "      <td>2339.022631</td>\n",
       "    </tr>\n",
       "    <tr>\n",
       "      <th>2025-03-13 10:01:00+00:00</th>\n",
       "      <td>82663.0</td>\n",
       "      <td>84437.0</td>\n",
       "      <td>80607.0</td>\n",
       "      <td>83405.0</td>\n",
       "      <td>2226.552840</td>\n",
       "    </tr>\n",
       "    <tr>\n",
       "      <th>2025-03-14 10:01:00+00:00</th>\n",
       "      <td>83409.0</td>\n",
       "      <td>83849.0</td>\n",
       "      <td>79910.0</td>\n",
       "      <td>82757.0</td>\n",
       "      <td>1627.976707</td>\n",
       "    </tr>\n",
       "    <tr>\n",
       "      <th>2025-03-15 10:01:00+00:00</th>\n",
       "      <td>82753.0</td>\n",
       "      <td>85294.0</td>\n",
       "      <td>82638.0</td>\n",
       "      <td>84328.0</td>\n",
       "      <td>1844.938637</td>\n",
       "    </tr>\n",
       "    <tr>\n",
       "      <th>2025-03-16 10:01:00+00:00</th>\n",
       "      <td>84330.0</td>\n",
       "      <td>85059.0</td>\n",
       "      <td>81983.0</td>\n",
       "      <td>82566.0</td>\n",
       "      <td>1039.123849</td>\n",
       "    </tr>\n",
       "  </tbody>\n",
       "</table>\n",
       "</div>"
      ]
     },
     "execution_count": 4,
     "metadata": {},
     "output_type": "execute_result"
    }
   ],
   "execution_count": 4
  },
  {
   "cell_type": "markdown",
   "id": "203562fa-fd8e-4f68-9a58-4b0f2d234fec",
   "metadata": {},
   "source": [
    "---\n",
    "**If you held bitcoin for up to 30 days where would your profit lie?**"
   ]
  },
  {
   "cell_type": "code",
   "execution_count": null,
   "id": "a750a23e-29c5-4858-b1e9-f8c3254ed158",
   "metadata": {
    "scrolled": true
   },
   "outputs": [],
   "source": [
    "# re-running the cell will clear all the cache!\n",
    "@lru_cache\n",
    "def profit_quantiles(\n",
    "        close_prices: Sequence[float],\n",
    "        max_span: int = 30,\n",
    "        quantiles: Sequence[float | int] = (0.01, 0.25, 0.5, 0.75, 0.99),\n",
    ") -> pd.DataFrame:\n",
    "    return_of_hold = pd.DataFrame({k: 0.0 for k in quantiles}, index=range(1, max_span + 1))\n",
    "    grouped = pd.Series(close_prices)\n",
    "\n",
    "    for span in range(2, max_span + 1):\n",
    "        res = (grouped\n",
    "               .rolling(window=span)\n",
    "               .apply(lambda srs: (srs.iat[-1] / srs.iat[0] - 1) * 100)\n",
    "               .quantile(quantiles)\n",
    "               )\n",
    "        return_of_hold.loc[span] = res\n",
    "    return return_of_hold"
   ]
  },
  {
   "cell_type": "code",
   "execution_count": null,
   "id": "f5e60479d8b6f025",
   "metadata": {},
   "outputs": [],
   "source": [
    "# calculate the profit\n",
    "MAX_SPAN_DAYS = 100\n",
    "QUANTILES = (0.01, 0.25, 0.5, 0.75, 0.99)\n",
    "\n",
    "return_of_hold = profit_quantiles(\n",
    "    close_prices=tuple(daily_records[\"close\"]),  # bad practice. todo: look for a better solution\n",
    "    max_span=MAX_SPAN_DAYS,\n",
    "    quantiles=QUANTILES\n",
    ")\n",
    "return_of_hold.tail()"
   ]
  },
  {
   "cell_type": "code",
   "execution_count": null,
   "id": "09670769-88de-4d6b-a365-4abf01220dc6",
   "metadata": {
    "jupyter": {
     "source_hidden": true
    }
   },
   "outputs": [],
   "source": [
    "# charting\n",
    "ax = plt.subplot()\n",
    "for quantile, data in return_of_hold.items():\n",
    "    if data.iat[-1] < 0:\n",
    "        color = \"red\"\n",
    "    elif data.iat[-1] == 0:\n",
    "        color = \"grey\"\n",
    "    else:\n",
    "        color = \"green\"\n",
    "\n",
    "    ax.plot(data, color=color)\n",
    "    ax.text(x=MAX_SPAN_DAYS * 1.02, y=data.iat[-1], s=f\"Q {round(quantile, 4)} = {round(data.iat[-1], 2)}%\",\n",
    "            color=color)\n",
    "\n",
    "ax.axhline(0, linestyle=\"dashed\", color=\"grey\")\n",
    "\n",
    "ax.set_title(\"Quantiles of return against days held\")\n",
    "ax.grid()\n",
    "ax.spines['top'].set_visible(False)\n",
    "ax.spines['right'].set_visible(False)\n",
    "\n",
    "ax.set_xlabel(\"Days held\")\n",
    "ax.set_xlim(1, MAX_SPAN_DAYS * 1.01)\n",
    "\n",
    "ax.set_yticks(\n",
    "    np.arange(return_of_hold.min(axis=None) * 0.9, return_of_hold.max(axis=None) * 1.1,\n",
    "              return_of_hold.mean(axis=None) * 3).round(2)\n",
    ")\n",
    "ax.set_ylabel(\"Return in %\")\n",
    "print(f\"The profit will generally be positive with the 50% chance of it being between \"\n",
    "      f\"{return_of_hold.iloc[-1, 1].round(2)}% and {return_of_hold.iloc[-1, 3].round(2)}%, \"\n",
    "      f\"with median profit being {return_of_hold.iloc[-1, 2].round(2)}%\")"
   ]
  },
  {
   "cell_type": "markdown",
   "id": "e9536400-4370-4eb7-849a-382912356b92",
   "metadata": {},
   "source": [
    "---\n",
    "**What would your profit be if you followed the MA-Cross strategy,\\\n",
    "whereby moving averages are 75 and 25-period EMAs**"
   ]
  },
  {
   "cell_type": "code",
   "id": "fe6662fb9655dbf5",
   "metadata": {
    "ExecuteTime": {
     "end_time": "2025-04-04T06:51:11.840480Z",
     "start_time": "2025-04-04T06:51:11.717730Z"
    }
   },
   "source": [
    "SPAN_SLOW = 50\n",
    "SPAN_FAST = 10\n",
    "\n",
    "ema_slow = pd.Series(records[\"close\"].ewm(span=SPAN_SLOW).mean(), name=\"ema_slow\")\n",
    "ema_slow.iloc[:SPAN_SLOW] = np.nan\n",
    "\n",
    "ema_fast = pd.Series(records[\"close\"].ewm(span=SPAN_FAST).mean(), name=\"ema_fast\")\n",
    "ema_slow.iloc[:SPAN_FAST] = np.nan"
   ],
   "outputs": [],
   "execution_count": 6
  },
  {
   "cell_type": "code",
   "id": "f4829e77fb604a6d",
   "metadata": {
    "ExecuteTime": {
     "end_time": "2025-04-04T08:32:49.565915Z",
     "start_time": "2025-04-04T08:32:49.543850Z"
    }
   },
   "source": [
    "class Trader:\n",
    "    def __init__(self,\n",
    "                 min_daily_var: float,\n",
    "                 rel_tol_out=0.05,\n",
    "                 rel_tol_in=0.03\n",
    "                 ):\n",
    "        \"\"\"\n",
    "        :param rel_tol_out: outer relative tolerance to start a trade\n",
    "        :param rel_tol_in: inner relative tolerance to end a trade\n",
    "        :param volume_quartile: Q-0.25 of the traded volume\n",
    "        :return: None\n",
    "        \"\"\"\n",
    "        self.rel_tol_in = rel_tol_in\n",
    "        self.rel_tol_out = rel_tol_out\n",
    "        self.in_trade: bool = False\n",
    "        self.trade_type: Literal[\"long\", \"short\"] | None = None\n",
    "        self.trade_id: int = 0\n",
    "\n",
    "        columns = pd.MultiIndex.from_tuples([\n",
    "            (\"trade_entry\", \"datetime\"),\n",
    "            (\"trade_entry\", \"price\"),\n",
    "            (\"trade_exit\", \"datetime\"),\n",
    "            (\"trade_exit\", \"price\"),\n",
    "            (\"trade_type\", \"type\")\n",
    "        ])\n",
    "        self._trade_list: pd.DataFrame = pd.DataFrame(columns=columns)\n",
    "        self._trade_list.index.name = \"trade_id\"\n",
    "        return\n",
    "\n",
    "    @property\n",
    "    def trade_list(self) -> pd.DataFrame:\n",
    "        trade_list = self._trade_list.astype({\n",
    "            (\"trade_entry\", \"price\"): float,\n",
    "            (\"trade_entry\", \"datetime\"): \"datetime64[ns, UTC]\",\n",
    "            (\"trade_exit\", \"price\"): float,\n",
    "            (\"trade_exit\", \"datetime\"): \"datetime64[ns, UTC]\",\n",
    "            (\"trade_type\", \"type\"): \"category\"\n",
    "        })\n",
    "        return trade_list\n",
    "\n",
    "    def trade(self, row: pd.Series):\n",
    "        # row must have the following indices:\n",
    "        # \"open\", \"high\", \"low\", \"close\", \"volume\", \"ema_fast\", \"ema_slow\"\n",
    "        if not row.notnull().all(): return row\n",
    "\n",
    "        ema_fast: float = row.loc[\"ema_fast\"]\n",
    "        ema_slow: float = row.loc[\"ema_slow\"]\n",
    "\n",
    "        # skip checking for entry / exit when ema's are far apart\n",
    "        if not isclose(ema_fast, ema_slow, rel_tol=self.rel_tol_out): return row\n",
    "\n",
    "        volume = row.loc[\"volume\"]\n",
    "        record: pd.Series = row.loc[[\"open\", \"high\", \"low\", \"close\"]]\n",
    "\n",
    "        # opening a trade\n",
    "        if all([\n",
    "            not self.in_trade,\n",
    "            not isclose(ema_fast, ema_slow, rel_tol=self.rel_tol_out),\n",
    "            volume > self.volume_quartile\n",
    "        ]):\n",
    "            self.in_trade = True\n",
    "            self.trade_type = \"long\" if ema_fast > ema_slow else \"short\"\n",
    "            self.trade_id += 1\n",
    "\n",
    "            current_trade = pd.Series({\n",
    "                (\"trade_type\", \"type\"): self.trade_type,\n",
    "                (\"trade_entry\", \"price\"): record.loc[\"close\"],\n",
    "                (\"trade_entry\", \"datetime\"): record.name,\n",
    "            })\n",
    "            self._trade_list.loc[self.trade_id] = current_trade\n",
    "            return row\n",
    "\n",
    "        # closing a trade\n",
    "        if self.in_trade and isclose(ema_fast, ema_slow, rel_tol=self.rel_tol_in):\n",
    "            self._trade_list.loc[self.trade_id, (\"trade_exit\", \"price\")] = record.loc[\"close\"]\n",
    "            self._trade_list.loc[self.trade_id, (\"trade_exit\", \"datetime\")] = record.name\n",
    "            self.in_trade = False\n",
    "            self.trade_type = None\n",
    "            return row\n",
    "\n",
    "        return row"
   ],
   "outputs": [],
   "execution_count": 75
  },
  {
   "cell_type": "code",
   "id": "ebdc1d6917b67e93",
   "metadata": {
    "ExecuteTime": {
     "end_time": "2025-04-04T08:19:33.133428Z",
     "start_time": "2025-04-04T08:19:33.050798Z"
    }
   },
   "source": [
    "trader = Trader(rel_tol_in=0.01, rel_tol_out=0.03, volume_quartile=records[\"volume\"].quantile(0.25))\n",
    "data = pd.concat([records.iloc[:100_000], ema_fast.iloc[:100_000], ema_slow.iloc[:100_000]], axis=\"columns\")\n",
    "data.dropna(inplace=True)"
   ],
   "outputs": [],
   "execution_count": 56
  },
  {
   "cell_type": "code",
   "id": "39f08883-1c63-4a58-93e6-e9e3eb822d67",
   "metadata": {
    "ExecuteTime": {
     "end_time": "2025-04-04T08:19:47.768555Z",
     "start_time": "2025-04-04T08:19:34.658938Z"
    }
   },
   "source": [
    "data.transform(trader.trade, axis=\"columns\");"
   ],
   "outputs": [],
   "execution_count": 57
  },
  {
   "cell_type": "code",
   "id": "c310f5bb-5087-4cae-82e6-6ea498aa5fa8",
   "metadata": {
    "ExecuteTime": {
     "end_time": "2025-04-04T08:19:51.145706Z",
     "start_time": "2025-04-04T08:19:51.129704Z"
    }
   },
   "source": "trader.trade_list.info()",
   "outputs": [
    {
     "name": "stdout",
     "output_type": "stream",
     "text": [
      "<class 'pandas.core.frame.DataFrame'>\n",
      "RangeIndex: 0 entries\n",
      "Data columns (total 5 columns):\n",
      " #   Column                   Non-Null Count  Dtype              \n",
      "---  ------                   --------------  -----              \n",
      " 0   (trade_entry, datetime)  0 non-null      datetime64[ns, UTC]\n",
      " 1   (trade_entry, price)     0 non-null      float64            \n",
      " 2   (trade_exit, datetime)   0 non-null      datetime64[ns, UTC]\n",
      " 3   (trade_exit, price)      0 non-null      float64            \n",
      " 4   (trade_type, type)       0 non-null      category           \n",
      "dtypes: category(1), datetime64[ns, UTC](2), float64(2)\n",
      "memory usage: 240.0 bytes\n"
     ]
    }
   ],
   "execution_count": 58
  },
  {
   "cell_type": "markdown",
   "id": "6f0f8468-cd00-4d88-9008-4ab1a57f8523",
   "metadata": {},
   "source": [
    "---\n",
    "**How does price change correlate with change of trading volume?**"
   ]
  },
  {
   "cell_type": "code",
   "id": "96554c78-ab3e-4350-9742-6c8247f00679",
   "metadata": {
    "ExecuteTime": {
     "end_time": "2025-04-04T07:02:49.399005Z",
     "start_time": "2025-04-04T07:02:49.325642Z"
    }
   },
   "source": [
    "QUANTILES = [0.05, 0.95]\n",
    "\n",
    "volume_change = daily_records[\"volume\"].pct_change().dropna()\n",
    "price_change = daily_records[\"close\"] / daily_records[\"open\"] - 1\n",
    "\n",
    "price_volume_change = pd.concat([volume_change, price_change], axis=\"columns\")\n",
    "price_volume_change.rename(columns={\"volume\": \"volume_change\", 0: \"price_change\"}, inplace=True)\n",
    "\n",
    "mask = price_volume_change.isin([np.nan, np.inf, -np.inf])\n",
    "price_volume_change[mask] = 0\n",
    "\n",
    "# filtering out the outliers\n",
    "volume_mask = pd.qcut(price_volume_change[\"volume_change\"], q=QUANTILES).isna().to_numpy()\n",
    "price_mask = pd.qcut(price_volume_change[\"price_change\"], q=QUANTILES).isna().to_numpy()\n",
    "\n",
    "general_mask = np.stack([volume_mask, price_mask], axis=1).any(axis=1)\n",
    "\n",
    "indices_to_drop = price_volume_change.loc[general_mask].index\n",
    "price_volume_change.drop(indices_to_drop, inplace=True)\n",
    "\n",
    "spearman = (st.spearmanr(a=price_volume_change[\"price_change\"], b=price_volume_change[\"volume_change\"])\n",
    "            .statistic\n",
    "            .round(4)\n",
    "            )\n",
    "\n",
    "price_volume_change.tail()"
   ],
   "outputs": [
    {
     "data": {
      "text/plain": [
       "                           volume_change  price_change\n",
       "date                                                  \n",
       "2025-03-12 10:01:00+00:00      -0.277108      0.016600\n",
       "2025-03-13 10:01:00+00:00      -0.048084      0.008976\n",
       "2025-03-14 10:01:00+00:00      -0.268835     -0.007817\n",
       "2025-03-15 10:01:00+00:00       0.133271      0.019033\n",
       "2025-03-16 10:01:00+00:00      -0.436771     -0.020918"
      ],
      "text/html": [
       "<div>\n",
       "<style scoped>\n",
       "    .dataframe tbody tr th:only-of-type {\n",
       "        vertical-align: middle;\n",
       "    }\n",
       "\n",
       "    .dataframe tbody tr th {\n",
       "        vertical-align: top;\n",
       "    }\n",
       "\n",
       "    .dataframe thead th {\n",
       "        text-align: right;\n",
       "    }\n",
       "</style>\n",
       "<table border=\"1\" class=\"dataframe\">\n",
       "  <thead>\n",
       "    <tr style=\"text-align: right;\">\n",
       "      <th></th>\n",
       "      <th>volume_change</th>\n",
       "      <th>price_change</th>\n",
       "    </tr>\n",
       "    <tr>\n",
       "      <th>date</th>\n",
       "      <th></th>\n",
       "      <th></th>\n",
       "    </tr>\n",
       "  </thead>\n",
       "  <tbody>\n",
       "    <tr>\n",
       "      <th>2025-03-12 10:01:00+00:00</th>\n",
       "      <td>-0.277108</td>\n",
       "      <td>0.016600</td>\n",
       "    </tr>\n",
       "    <tr>\n",
       "      <th>2025-03-13 10:01:00+00:00</th>\n",
       "      <td>-0.048084</td>\n",
       "      <td>0.008976</td>\n",
       "    </tr>\n",
       "    <tr>\n",
       "      <th>2025-03-14 10:01:00+00:00</th>\n",
       "      <td>-0.268835</td>\n",
       "      <td>-0.007817</td>\n",
       "    </tr>\n",
       "    <tr>\n",
       "      <th>2025-03-15 10:01:00+00:00</th>\n",
       "      <td>0.133271</td>\n",
       "      <td>0.019033</td>\n",
       "    </tr>\n",
       "    <tr>\n",
       "      <th>2025-03-16 10:01:00+00:00</th>\n",
       "      <td>-0.436771</td>\n",
       "      <td>-0.020918</td>\n",
       "    </tr>\n",
       "  </tbody>\n",
       "</table>\n",
       "</div>"
      ]
     },
     "execution_count": 27,
     "metadata": {},
     "output_type": "execute_result"
    }
   ],
   "execution_count": 27
  },
  {
   "cell_type": "code",
   "id": "deb1810f-6577-4b31-ba27-d74d9fcc2731",
   "metadata": {
    "ExecuteTime": {
     "end_time": "2025-04-04T07:03:07.139065Z",
     "start_time": "2025-04-04T07:03:07.061822Z"
    }
   },
   "source": [
    "# charting\n",
    "fig, ax = plt.subplots(figsize=(13, 5))\n",
    "ax.scatter(\n",
    "    x=price_volume_change[\"price_change\"],\n",
    "    y=price_volume_change[\"volume_change\"],\n",
    "    s=0.7,\n",
    "    color=\"green\"\n",
    ")\n",
    "\n",
    "ax.axvline(x=0, linestyle=\"dashed\", color=\"grey\")\n",
    "ax.axhline(y=0, linestyle=\"dashed\", color=\"grey\")\n",
    "\n",
    "ax.set_ylabel(\"Trading colume change\")\n",
    "ax.set_xlabel(\"Price change\")\n",
    "ax.set_title(\"Daily price change against change of trading volume (%)\")\n",
    "\n",
    "print(f\"Spearman rank correlation coefficient: {spearman}\")\n",
    "print(\"There is practically no correlation between these two values.\")"
   ],
   "outputs": [
    {
     "name": "stdout",
     "output_type": "stream",
     "text": [
      "Spearman rank correlation coefficient: 0.0089\n",
      "There is practically no correlation between these two values.\n"
     ]
    },
    {
     "data": {
      "text/plain": [
       "<Figure size 1300x500 with 1 Axes>"
      ],
      "image/png": "[encoded data removed]"
     },
     "metadata": {},
     "output_type": "display_data"
    }
   ],
   "execution_count": 29
  },
  {
   "cell_type": "markdown",
   "id": "c7ae2c7e-7038-4ee6-9218-730b0882f12b",
   "metadata": {},
   "source": [
    "---\n",
    "**How does halving affect price and trading volume?**"
   ]
  },
  {
   "cell_type": "code",
   "execution_count": null,
   "id": "05a3e4e9-ce97-49b6-84fe-d96fb75e6878",
   "metadata": {},
   "outputs": [],
   "source": [
    "halving_dates = (\n",
    "    date(year=2012, month=11, day=28),\n",
    "    date(year=2016, month=7, day=9),\n",
    "    date(year=2020, month=7, day=10),\n",
    "    date(year=2024, month=4, day=20),\n",
    ")\n",
    "\n",
    "grouped = (records\n",
    "           .resample(\"ME\")\n",
    "           .agg({\"close\": \"median\", \"volume\": \"sum\"})\n",
    "           .reset_index(drop=True)\n",
    "           )\n",
    "grouped.index = pd.date_range(start=first_datetime, freq=timedelta(days=30), periods=len(grouped))"
   ]
  },
  {
   "cell_type": "code",
   "execution_count": null,
   "id": "7c66fe84d8c01e58",
   "metadata": {
    "jupyter": {
     "source_hidden": true
    }
   },
   "outputs": [],
   "source": [
    "ax = plt.subplot()\n",
    "ax.plot(grouped[\"close\"].map(log), color=\"blue\")\n",
    "ax.set_title(\"Bitcoin price development after each halving\")\n",
    "ax.set_xlabel(\"Year\")\n",
    "ax.set_ylabel(\"Log price in $\")\n",
    "\n",
    "for date in halving_dates:\n",
    "    ax.axvline(x=date, linestyle=\"dashed\", color=\"green\", label=\"halving date\")\n",
    "\n",
    "ax.legend(ax.get_children()[:2], [\"Log price\", \"Halving\"])\n",
    "print(\"There used to be a visible correlation between the halving and a significat price jump.\\n\"\n",
    "      \"In the 2024 this jump is however much smaller than other times\")"
   ]
  },
  {
   "cell_type": "markdown",
   "id": "c0ed0d7a-50d2-4321-b06d-10ca4a3a903f",
   "metadata": {},
   "source": [
    "---\n",
    "**How did trading volume per dollar change over the years?**"
   ]
  },
  {
   "cell_type": "code",
   "execution_count": null,
   "id": "971cc15a-bad9-4dd7-9de7-747ebb8d2acc",
   "metadata": {},
   "outputs": [],
   "source": [
    "grouped = (records\n",
    "           .resample(\"ME\")\n",
    "           .agg({\"close\": \"median\", \"volume\": \"sum\"})\n",
    "           .reset_index(drop=True)\n",
    "           )\n",
    "grouped.index = pd.date_range(start=first_datetime, freq=timedelta(days=30), periods=len(grouped))\n",
    "volume_per_dollar = grouped[\"volume\"] / grouped[\"close\"]"
   ]
  },
  {
   "cell_type": "code",
   "execution_count": null,
   "id": "07c917cc-982e-4233-913c-4f9884929835",
   "metadata": {
    "jupyter": {
     "source_hidden": true
    }
   },
   "outputs": [],
   "source": [
    "ax = plt.subplot()\n",
    "\n",
    "ax.plot(volume_per_dollar.map(log), color=\"green\")\n",
    "ax.set_ylabel(\"Log Trading volume per dollar\")\n",
    "ax.set_xlabel(\"Year\")\n",
    "ax.set_title(\"Trading volume per dollar price over time\");\n",
    "print(\"Sinking trading volume per dollar is a signal of the price growing faster than the trading volume.\\n\"\n",
    "      \"This in turn may imply that the Bitcoin has become much more of a speculation tool than a real valuable asset.\")"
   ]
  }
 ],
 "metadata": {
  "kernelspec": {
   "display_name": "Python 3 (ipykernel)",
   "language": "python",
   "name": "python3"
  },
  "language_info": {
   "codemirror_mode": {
    "name": "ipython",
    "version": 3
   },
   "file_extension": ".py",
   "mimetype": "text/x-python",
   "name": "python",
   "nbconvert_exporter": "python",
   "pygments_lexer": "ipython3",
   "version": "3.13.2"
  }
 },
 "nbformat": 4,
 "nbformat_minor": 5
}
