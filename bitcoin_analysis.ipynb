{
 "cells": [
  {
   "cell_type": "code",
   "id": "fc8a8537-0898-4ae3-8ef9-4704fc6fc087",
   "metadata": {
    "ExecuteTime": {
     "end_time": "2025-03-27T14:46:06.593335Z",
     "start_time": "2025-03-27T14:46:05.564281Z"
    }
   },
   "source": [
    "import pandas as pd\n",
    "import numpy as np\n",
    "from datetime import datetime, timedelta, date\n",
    "import matplotlib.pyplot as plt\n",
    "from pathlib import Path\n",
    "import kagglehub\n",
    "from functools import lru_cache\n",
    "from typing import Sequence\n",
    "from math import log, isclose\n",
    "import scipy.stats as st\n",
    "\n",
    "np.set_printoptions(suppress=True)"
   ],
   "outputs": [],
   "execution_count": 1
  },
  {
   "cell_type": "code",
   "id": "faac2181-efc3-4e75-9844-311d496a1bdb",
   "metadata": {
    "ExecuteTime": {
     "end_time": "2025-03-27T14:46:10.834952Z",
     "start_time": "2025-03-27T14:46:08.578115Z"
    }
   },
   "source": [
    "# import\n",
    "path = Path(kagglehub.dataset_download(\"mczielinski/bitcoin-historical-data\")) / \"btcusd_1-min_data.csv\"\n",
    "raw_records = pd.read_csv(\n",
    "    path,\n",
    "    usecols=[\"Open\", \"High\", \"Low\", \"Close\", \"Volume\"],\n",
    "    #nrows=100_000\n",
    ")\n",
    "first_datetime = datetime.fromisoformat(pd.read_csv(path, nrows=1).loc[0, \"datetime\"])\n",
    "print(\"Done\")"
   ],
   "outputs": [
    {
     "name": "stdout",
     "output_type": "stream",
     "text": [
      "Done\n"
     ]
    }
   ],
   "execution_count": 2
  },
  {
   "cell_type": "code",
   "id": "a4b3e908-fad3-4547-bac5-8fa6a7f79c93",
   "metadata": {
    "ExecuteTime": {
     "end_time": "2025-03-27T14:46:12.732093Z",
     "start_time": "2025-03-27T14:46:12.707282Z"
    }
   },
   "source": [
    "# assigning a new index\n",
    "datetime_index = pd.date_range(\n",
    "    start=first_datetime,\n",
    "    freq=timedelta(minutes=1),\n",
    "    periods=raw_records.index[-1] + 1\n",
    ")\n",
    "records = raw_records\n",
    "records.index = datetime_index\n",
    "records.index.name = \"datetime\"\n",
    "records.rename(columns=str.lower, inplace=True)\n",
    "records.head()"
   ],
   "outputs": [
    {
     "data": {
      "text/plain": [
       "                           open  high   low  close  volume\n",
       "datetime                                                  \n",
       "2012-01-01 10:01:00+00:00  4.58  4.58  4.58   4.58     0.0\n",
       "2012-01-01 10:02:00+00:00  4.58  4.58  4.58   4.58     0.0\n",
       "2012-01-01 10:03:00+00:00  4.58  4.58  4.58   4.58     0.0\n",
       "2012-01-01 10:04:00+00:00  4.58  4.58  4.58   4.58     0.0\n",
       "2012-01-01 10:05:00+00:00  4.58  4.58  4.58   4.58     0.0"
      ],
      "text/html": [
       "<div>\n",
       "<style scoped>\n",
       "    .dataframe tbody tr th:only-of-type {\n",
       "        vertical-align: middle;\n",
       "    }\n",
       "\n",
       "    .dataframe tbody tr th {\n",
       "        vertical-align: top;\n",
       "    }\n",
       "\n",
       "    .dataframe thead th {\n",
       "        text-align: right;\n",
       "    }\n",
       "</style>\n",
       "<table border=\"1\" class=\"dataframe\">\n",
       "  <thead>\n",
       "    <tr style=\"text-align: right;\">\n",
       "      <th></th>\n",
       "      <th>open</th>\n",
       "      <th>high</th>\n",
       "      <th>low</th>\n",
       "      <th>close</th>\n",
       "      <th>volume</th>\n",
       "    </tr>\n",
       "    <tr>\n",
       "      <th>datetime</th>\n",
       "      <th></th>\n",
       "      <th></th>\n",
       "      <th></th>\n",
       "      <th></th>\n",
       "      <th></th>\n",
       "    </tr>\n",
       "  </thead>\n",
       "  <tbody>\n",
       "    <tr>\n",
       "      <th>2012-01-01 10:01:00+00:00</th>\n",
       "      <td>4.58</td>\n",
       "      <td>4.58</td>\n",
       "      <td>4.58</td>\n",
       "      <td>4.58</td>\n",
       "      <td>0.0</td>\n",
       "    </tr>\n",
       "    <tr>\n",
       "      <th>2012-01-01 10:02:00+00:00</th>\n",
       "      <td>4.58</td>\n",
       "      <td>4.58</td>\n",
       "      <td>4.58</td>\n",
       "      <td>4.58</td>\n",
       "      <td>0.0</td>\n",
       "    </tr>\n",
       "    <tr>\n",
       "      <th>2012-01-01 10:03:00+00:00</th>\n",
       "      <td>4.58</td>\n",
       "      <td>4.58</td>\n",
       "      <td>4.58</td>\n",
       "      <td>4.58</td>\n",
       "      <td>0.0</td>\n",
       "    </tr>\n",
       "    <tr>\n",
       "      <th>2012-01-01 10:04:00+00:00</th>\n",
       "      <td>4.58</td>\n",
       "      <td>4.58</td>\n",
       "      <td>4.58</td>\n",
       "      <td>4.58</td>\n",
       "      <td>0.0</td>\n",
       "    </tr>\n",
       "    <tr>\n",
       "      <th>2012-01-01 10:05:00+00:00</th>\n",
       "      <td>4.58</td>\n",
       "      <td>4.58</td>\n",
       "      <td>4.58</td>\n",
       "      <td>4.58</td>\n",
       "      <td>0.0</td>\n",
       "    </tr>\n",
       "  </tbody>\n",
       "</table>\n",
       "</div>"
      ]
     },
     "execution_count": 3,
     "metadata": {},
     "output_type": "execute_result"
    }
   ],
   "execution_count": 3
  },
  {
   "cell_type": "code",
   "id": "da39eb06-d4da-4cda-8ac1-668055d88ba8",
   "metadata": {
    "scrolled": true,
    "ExecuteTime": {
     "end_time": "2025-03-27T14:46:16.834211Z",
     "start_time": "2025-03-27T14:46:15.470249Z"
    }
   },
   "source": [
    "# groping\n",
    "daily_records = records.groupby(records.index.date).agg({\n",
    "    \"open\": lambda x: x.iat[0],\n",
    "    \"high\": \"max\",\n",
    "    \"low\": \"min\",\n",
    "    \"close\": lambda x: x.iat[-1],\n",
    "    \"volume\": \"sum\"\n",
    "})\n",
    "daily_records.index = pd.DatetimeIndex(daily_records.index)\n",
    "daily_records.tail()"
   ],
   "outputs": [
    {
     "data": {
      "text/plain": [
       "               open     high      low    close       volume\n",
       "2025-03-12  82941.0  84437.0  80607.0  83620.0  2469.218470\n",
       "2025-03-13  83677.0  84287.0  79910.0  81079.0  1830.000892\n",
       "2025-03-14  81084.0  85294.0  80801.0  83975.0  1986.995114\n",
       "2025-03-15  83984.0  85059.0  82397.0  82961.0  1134.769801\n",
       "2025-03-16  82921.0  83404.0  81983.0  82566.0   131.322533"
      ],
      "text/html": [
       "<div>\n",
       "<style scoped>\n",
       "    .dataframe tbody tr th:only-of-type {\n",
       "        vertical-align: middle;\n",
       "    }\n",
       "\n",
       "    .dataframe tbody tr th {\n",
       "        vertical-align: top;\n",
       "    }\n",
       "\n",
       "    .dataframe thead th {\n",
       "        text-align: right;\n",
       "    }\n",
       "</style>\n",
       "<table border=\"1\" class=\"dataframe\">\n",
       "  <thead>\n",
       "    <tr style=\"text-align: right;\">\n",
       "      <th></th>\n",
       "      <th>open</th>\n",
       "      <th>high</th>\n",
       "      <th>low</th>\n",
       "      <th>close</th>\n",
       "      <th>volume</th>\n",
       "    </tr>\n",
       "  </thead>\n",
       "  <tbody>\n",
       "    <tr>\n",
       "      <th>2025-03-12</th>\n",
       "      <td>82941.0</td>\n",
       "      <td>84437.0</td>\n",
       "      <td>80607.0</td>\n",
       "      <td>83620.0</td>\n",
       "      <td>2469.218470</td>\n",
       "    </tr>\n",
       "    <tr>\n",
       "      <th>2025-03-13</th>\n",
       "      <td>83677.0</td>\n",
       "      <td>84287.0</td>\n",
       "      <td>79910.0</td>\n",
       "      <td>81079.0</td>\n",
       "      <td>1830.000892</td>\n",
       "    </tr>\n",
       "    <tr>\n",
       "      <th>2025-03-14</th>\n",
       "      <td>81084.0</td>\n",
       "      <td>85294.0</td>\n",
       "      <td>80801.0</td>\n",
       "      <td>83975.0</td>\n",
       "      <td>1986.995114</td>\n",
       "    </tr>\n",
       "    <tr>\n",
       "      <th>2025-03-15</th>\n",
       "      <td>83984.0</td>\n",
       "      <td>85059.0</td>\n",
       "      <td>82397.0</td>\n",
       "      <td>82961.0</td>\n",
       "      <td>1134.769801</td>\n",
       "    </tr>\n",
       "    <tr>\n",
       "      <th>2025-03-16</th>\n",
       "      <td>82921.0</td>\n",
       "      <td>83404.0</td>\n",
       "      <td>81983.0</td>\n",
       "      <td>82566.0</td>\n",
       "      <td>131.322533</td>\n",
       "    </tr>\n",
       "  </tbody>\n",
       "</table>\n",
       "</div>"
      ]
     },
     "execution_count": 4,
     "metadata": {},
     "output_type": "execute_result"
    }
   ],
   "execution_count": 4
  },
  {
   "cell_type": "markdown",
   "id": "203562fa-fd8e-4f68-9a58-4b0f2d234fec",
   "metadata": {},
   "source": [
    "---\n",
    "**If you held bitcoin for up to 30 days where would your profit lie?**"
   ]
  },
  {
   "cell_type": "code",
   "id": "a750a23e-29c5-4858-b1e9-f8c3254ed158",
   "metadata": {
    "scrolled": true,
    "ExecuteTime": {
     "end_time": "2025-03-27T14:48:57.354288Z",
     "start_time": "2025-03-27T14:48:57.348877Z"
    }
   },
   "source": [
    "# re-running the cell will clear all the cache!\n",
    "@lru_cache\n",
    "def profit_quantiles(\n",
    "        record: pd.DataFrame,\n",
    "        max_span: int = 30,\n",
    "        quantiles: Sequence[float | int] = (0.01, 0.25, 0.5, 0.75, 0.99),\n",
    ") -> pd.DataFrame:\n",
    "    return_of_hold = pd.DataFrame({k: 0.0 for k in quantiles}, index=range(1, max_span + 1))\n",
    "    grouped = record[\"close\"].reset_index(drop=True)\n",
    "\n",
    "    for span in range(2, max_span + 1):\n",
    "        res = (grouped\n",
    "               .rolling(window=span)\n",
    "               .apply(lambda srs: (srs.iat[-1] / srs.iat[0] - 1) * 100)\n",
    "               .quantile(quantiles)\n",
    "               )\n",
    "        return_of_hold.loc[span] = res\n",
    "    return return_of_hold"
   ],
   "outputs": [],
   "execution_count": 15
  },
  {
   "metadata": {
    "ExecuteTime": {
     "end_time": "2025-03-27T14:51:19.559100Z",
     "start_time": "2025-03-27T14:51:19.530850Z"
    }
   },
   "cell_type": "code",
   "source": [
    "# calculate the profit\n",
    "MAX_SPAN_DAYS = 100\n",
    "QUANTILES = (0.01, 0.25, 0.5, 0.75, 0.99)\n",
    "\n",
    "return_of_hold = profit_quantiles(record=daily_records, max_span=MAX_SPAN_DAYS, quantiles=QUANTILES)\n",
    "#return_of_hold.tail()"
   ],
   "id": "f5e60479d8b6f025",
   "outputs": [
    {
     "ename": "TypeError",
     "evalue": "unhashable type: 'DataFrame'",
     "output_type": "error",
     "traceback": [
      "\u001B[0;31m---------------------------------------------------------------------------\u001B[0m",
      "\u001B[0;31mTypeError\u001B[0m                                 Traceback (most recent call last)",
      "Cell \u001B[0;32mIn[20], line 5\u001B[0m\n\u001B[1;32m      2\u001B[0m MAX_SPAN_DAYS \u001B[38;5;241m=\u001B[39m \u001B[38;5;241m100\u001B[39m\n\u001B[1;32m      3\u001B[0m QUANTILES \u001B[38;5;241m=\u001B[39m (\u001B[38;5;241m0.01\u001B[39m, \u001B[38;5;241m0.25\u001B[39m, \u001B[38;5;241m0.5\u001B[39m, \u001B[38;5;241m0.75\u001B[39m, \u001B[38;5;241m0.99\u001B[39m)\n\u001B[0;32m----> 5\u001B[0m return_of_hold \u001B[38;5;241m=\u001B[39m \u001B[43mprofit_quantiles\u001B[49m\u001B[43m(\u001B[49m\u001B[43mrecord\u001B[49m\u001B[38;5;241;43m=\u001B[39;49m\u001B[43mdaily_records\u001B[49m\u001B[43m,\u001B[49m\u001B[43m \u001B[49m\u001B[43mmax_span\u001B[49m\u001B[38;5;241;43m=\u001B[39;49m\u001B[43mMAX_SPAN_DAYS\u001B[49m\u001B[43m,\u001B[49m\u001B[43m \u001B[49m\u001B[43mquantiles\u001B[49m\u001B[38;5;241;43m=\u001B[39;49m\u001B[43mQUANTILES\u001B[49m\u001B[43m)\u001B[49m\n\u001B[1;32m      6\u001B[0m \u001B[38;5;66;03m#return_of_hold.tail()\u001B[39;00m\n",
      "\u001B[0;31mTypeError\u001B[0m: unhashable type: 'DataFrame'"
     ]
    }
   ],
   "execution_count": 20
  },
  {
   "cell_type": "code",
   "id": "09670769-88de-4d6b-a365-4abf01220dc6",
   "metadata": {
    "jupyter": {
     "source_hidden": true
    },
    "ExecuteTime": {
     "end_time": "2025-03-27T13:43:45.359108Z",
     "start_time": "2025-03-27T13:43:45.172841Z"
    }
   },
   "source": [
    "# charting\n",
    "ax = plt.subplot()\n",
    "for quantile, data in return_of_hold.items():\n",
    "    if data.iat[-1] < 0:\n",
    "        color = \"red\"\n",
    "    elif data.iat[-1] == 0:\n",
    "        color = \"grey\"\n",
    "    else:\n",
    "        color = \"green\"\n",
    "\n",
    "    ax.plot(data, color=color)\n",
    "    ax.text(x=MAX_SPAN_DAYS * 1.02, y=data.iat[-1], s=f\"Q {round(quantile, 4)} = {round(data.iat[-1], 2)}%\",\n",
    "            color=color)\n",
    "\n",
    "ax.axhline(0, linestyle=\"dashed\", color=\"grey\")\n",
    "\n",
    "ax.set_title(\"Quantiles of return against days held\")\n",
    "ax.grid()\n",
    "ax.spines['top'].set_visible(False)\n",
    "ax.spines['right'].set_visible(False)\n",
    "\n",
    "ax.set_xlabel(\"Days held\")\n",
    "ax.set_xlim(1, MAX_SPAN_DAYS * 1.01)\n",
    "\n",
    "ax.set_yticks(\n",
    "    np.arange(return_of_hold.min(axis=None) * 0.9, return_of_hold.max(axis=None) * 1.1,\n",
    "              return_of_hold.mean(axis=None) * 3).round(2)\n",
    ")\n",
    "ax.set_ylabel(\"Return in %\")\n",
    "print(f\"The profit will generally be positive with the 50% chance of it being between \"\n",
    "      f\"{return_of_hold.iloc[-1, 1].round(2)}% and {return_of_hold.iloc[-1, 3].round(2)}%, \"\n",
    "      f\"with median profit being {return_of_hold.iloc[-1, 2].round(2)}%\")"
   ],
   "outputs": [
    {
     "name": "stdout",
     "output_type": "stream",
     "text": [
      "The profit will generally be positive with the 50% chance of it being between -12.83% and 58.0%, with median profit being 15.13%\n"
     ]
    },
    {
     "data": {
      "text/plain": [
       "<Figure size 640x480 with 1 Axes>"
      ],
      "image/png": "[encoded data removed]"
     },
     "metadata": {},
     "output_type": "display_data"
    }
   ],
   "execution_count": 8
  },
  {
   "cell_type": "markdown",
   "id": "e9536400-4370-4eb7-849a-382912356b92",
   "metadata": {},
   "source": [
    "---\n",
    "**What would your profit be if you followed the MA-Cross strategy,\\\n",
    "whereby moving averages are 50 and 25-period MAs**"
   ]
  },
  {
   "metadata": {
    "ExecuteTime": {
     "end_time": "2025-03-27T14:02:52.759533Z",
     "start_time": "2025-03-27T14:02:52.731670Z"
    }
   },
   "cell_type": "code",
   "source": [
    "ma75 = records[\"close\"].rolling(window=75).mean().dropna()\n",
    "ma25 = records[\"close\"].rolling(window=25).mean().dropna()"
   ],
   "id": "fe6662fb9655dbf5",
   "outputs": [],
   "execution_count": 25
  },
  {
   "metadata": {
    "ExecuteTime": {
     "end_time": "2025-03-27T14:36:25.910915Z",
     "start_time": "2025-03-27T14:36:25.842242Z"
    }
   },
   "cell_type": "code",
   "source": [
    "#def detect_crossings(ma25: pd.Series, ma50: pd.Series) -> pd.Series:\n",
    "# cross under is defined as:\n",
    "# t = 0: ma25 > ma50 + 2%\n",
    "# t = 1->n: ma25 = ma50 +- 2%\n",
    "# t = n + 1: ma25 = ma50 - 2%\n",
    "\n",
    "# cross over is defined as:\n",
    "# t = 0: ma25 < ma50 - 2%\n",
    "# t = 1->n: ma25 = ma50 +- 2%\n",
    "# t = n + 1: ma25 = ma50 + 2%"
   ],
   "id": "f4829e77fb604a6d",
   "outputs": [
    {
     "ename": "TypeError",
     "evalue": "must be real number, not NoneType",
     "output_type": "error",
     "traceback": [
      "\u001B[0;31m---------------------------------------------------------------------------\u001B[0m",
      "\u001B[0;31mTypeError\u001B[0m                                 Traceback (most recent call last)",
      "Cell \u001B[0;32mIn[57], line 32\u001B[0m\n\u001B[1;32m     30\u001B[0m crossing \u001B[38;5;241m=\u001B[39m (((ma25 \u001B[38;5;241m/\u001B[39m ma75)\u001B[38;5;241m.\u001B[39mdropna() \u001B[38;5;241m<\u001B[39m \u001B[38;5;241m1.02\u001B[39m) \u001B[38;5;241m&\u001B[39m ((ma25 \u001B[38;5;241m/\u001B[39m ma75)\u001B[38;5;241m.\u001B[39mdropna() \u001B[38;5;241m>\u001B[39m \u001B[38;5;241m0.98\u001B[39m))\n\u001B[1;32m     31\u001B[0m mask \u001B[38;5;241m=\u001B[39m pd\u001B[38;5;241m.\u001B[39mSeries([\u001B[38;5;241m0\u001B[39m]\u001B[38;5;241m*\u001B[39m\u001B[38;5;28mlen\u001B[39m(crossing\u001B[38;5;241m.\u001B[39mindex),index\u001B[38;5;241m=\u001B[39mcrossing\u001B[38;5;241m.\u001B[39mindex)\n\u001B[0;32m---> 32\u001B[0m \u001B[43mcrossing\u001B[49m\u001B[38;5;241;43m.\u001B[39;49m\u001B[43mrolling\u001B[49m\u001B[43m(\u001B[49m\u001B[38;5;241;43m2\u001B[39;49m\u001B[43m)\u001B[49m\u001B[38;5;241;43m.\u001B[39;49m\u001B[43mapply\u001B[49m\u001B[43m(\u001B[49m\u001B[43mgroup_change\u001B[49m\u001B[43m,\u001B[49m\u001B[43m \u001B[49m\u001B[43mkwargs\u001B[49m\u001B[38;5;241;43m=\u001B[39;49m\u001B[43m{\u001B[49m\u001B[38;5;124;43m\"\u001B[39;49m\u001B[38;5;124;43mmask\u001B[39;49m\u001B[38;5;124;43m\"\u001B[39;49m\u001B[43m:\u001B[49m\u001B[43mmask\u001B[49m\u001B[43m}\u001B[49m\u001B[43m)\u001B[49m\n",
      "File \u001B[0;32m/Library/Frameworks/Python.framework/Versions/3.13/lib/python3.13/site-packages/pandas/core/window/rolling.py:2049\u001B[0m, in \u001B[0;36mRolling.apply\u001B[0;34m(self, func, raw, engine, engine_kwargs, args, kwargs)\u001B[0m\n\u001B[1;32m   2016\u001B[0m \u001B[38;5;129m@doc\u001B[39m(\n\u001B[1;32m   2017\u001B[0m     template_header,\n\u001B[1;32m   2018\u001B[0m     create_section_header(\u001B[38;5;124m\"\u001B[39m\u001B[38;5;124mParameters\u001B[39m\u001B[38;5;124m\"\u001B[39m),\n\u001B[0;32m   (...)\u001B[0m\n\u001B[1;32m   2047\u001B[0m     kwargs: \u001B[38;5;28mdict\u001B[39m[\u001B[38;5;28mstr\u001B[39m, Any] \u001B[38;5;241m|\u001B[39m \u001B[38;5;28;01mNone\u001B[39;00m \u001B[38;5;241m=\u001B[39m \u001B[38;5;28;01mNone\u001B[39;00m,\n\u001B[1;32m   2048\u001B[0m ):\n\u001B[0;32m-> 2049\u001B[0m     \u001B[38;5;28;01mreturn\u001B[39;00m \u001B[38;5;28;43msuper\u001B[39;49m\u001B[43m(\u001B[49m\u001B[43m)\u001B[49m\u001B[38;5;241;43m.\u001B[39;49m\u001B[43mapply\u001B[49m\u001B[43m(\u001B[49m\n\u001B[1;32m   2050\u001B[0m \u001B[43m        \u001B[49m\u001B[43mfunc\u001B[49m\u001B[43m,\u001B[49m\n\u001B[1;32m   2051\u001B[0m \u001B[43m        \u001B[49m\u001B[43mraw\u001B[49m\u001B[38;5;241;43m=\u001B[39;49m\u001B[43mraw\u001B[49m\u001B[43m,\u001B[49m\n\u001B[1;32m   2052\u001B[0m \u001B[43m        \u001B[49m\u001B[43mengine\u001B[49m\u001B[38;5;241;43m=\u001B[39;49m\u001B[43mengine\u001B[49m\u001B[43m,\u001B[49m\n\u001B[1;32m   2053\u001B[0m \u001B[43m        \u001B[49m\u001B[43mengine_kwargs\u001B[49m\u001B[38;5;241;43m=\u001B[39;49m\u001B[43mengine_kwargs\u001B[49m\u001B[43m,\u001B[49m\n\u001B[1;32m   2054\u001B[0m \u001B[43m        \u001B[49m\u001B[43margs\u001B[49m\u001B[38;5;241;43m=\u001B[39;49m\u001B[43margs\u001B[49m\u001B[43m,\u001B[49m\n\u001B[1;32m   2055\u001B[0m \u001B[43m        \u001B[49m\u001B[43mkwargs\u001B[49m\u001B[38;5;241;43m=\u001B[39;49m\u001B[43mkwargs\u001B[49m\u001B[43m,\u001B[49m\n\u001B[1;32m   2056\u001B[0m \u001B[43m    \u001B[49m\u001B[43m)\u001B[49m\n",
      "File \u001B[0;32m/Library/Frameworks/Python.framework/Versions/3.13/lib/python3.13/site-packages/pandas/core/window/rolling.py:1508\u001B[0m, in \u001B[0;36mRollingAndExpandingMixin.apply\u001B[0;34m(self, func, raw, engine, engine_kwargs, args, kwargs)\u001B[0m\n\u001B[1;32m   1505\u001B[0m \u001B[38;5;28;01melse\u001B[39;00m:\n\u001B[1;32m   1506\u001B[0m     \u001B[38;5;28;01mraise\u001B[39;00m \u001B[38;5;167;01mValueError\u001B[39;00m(\u001B[38;5;124m\"\u001B[39m\u001B[38;5;124mengine must be either \u001B[39m\u001B[38;5;124m'\u001B[39m\u001B[38;5;124mnumba\u001B[39m\u001B[38;5;124m'\u001B[39m\u001B[38;5;124m or \u001B[39m\u001B[38;5;124m'\u001B[39m\u001B[38;5;124mcython\u001B[39m\u001B[38;5;124m'\u001B[39m\u001B[38;5;124m\"\u001B[39m)\n\u001B[0;32m-> 1508\u001B[0m \u001B[38;5;28;01mreturn\u001B[39;00m \u001B[38;5;28;43mself\u001B[39;49m\u001B[38;5;241;43m.\u001B[39;49m\u001B[43m_apply\u001B[49m\u001B[43m(\u001B[49m\n\u001B[1;32m   1509\u001B[0m \u001B[43m    \u001B[49m\u001B[43mapply_func\u001B[49m\u001B[43m,\u001B[49m\n\u001B[1;32m   1510\u001B[0m \u001B[43m    \u001B[49m\u001B[43mname\u001B[49m\u001B[38;5;241;43m=\u001B[39;49m\u001B[38;5;124;43m\"\u001B[39;49m\u001B[38;5;124;43mapply\u001B[39;49m\u001B[38;5;124;43m\"\u001B[39;49m\u001B[43m,\u001B[49m\n\u001B[1;32m   1511\u001B[0m \u001B[43m    \u001B[49m\u001B[43mnumba_args\u001B[49m\u001B[38;5;241;43m=\u001B[39;49m\u001B[43mnumba_args\u001B[49m\u001B[43m,\u001B[49m\n\u001B[1;32m   1512\u001B[0m \u001B[43m\u001B[49m\u001B[43m)\u001B[49m\n",
      "File \u001B[0;32m/Library/Frameworks/Python.framework/Versions/3.13/lib/python3.13/site-packages/pandas/core/window/rolling.py:619\u001B[0m, in \u001B[0;36mBaseWindow._apply\u001B[0;34m(self, func, name, numeric_only, numba_args, **kwargs)\u001B[0m\n\u001B[1;32m    616\u001B[0m     \u001B[38;5;28;01mreturn\u001B[39;00m result\n\u001B[1;32m    618\u001B[0m \u001B[38;5;28;01mif\u001B[39;00m \u001B[38;5;28mself\u001B[39m\u001B[38;5;241m.\u001B[39mmethod \u001B[38;5;241m==\u001B[39m \u001B[38;5;124m\"\u001B[39m\u001B[38;5;124msingle\u001B[39m\u001B[38;5;124m\"\u001B[39m:\n\u001B[0;32m--> 619\u001B[0m     \u001B[38;5;28;01mreturn\u001B[39;00m \u001B[38;5;28;43mself\u001B[39;49m\u001B[38;5;241;43m.\u001B[39;49m\u001B[43m_apply_columnwise\u001B[49m\u001B[43m(\u001B[49m\u001B[43mhomogeneous_func\u001B[49m\u001B[43m,\u001B[49m\u001B[43m \u001B[49m\u001B[43mname\u001B[49m\u001B[43m,\u001B[49m\u001B[43m \u001B[49m\u001B[43mnumeric_only\u001B[49m\u001B[43m)\u001B[49m\n\u001B[1;32m    620\u001B[0m \u001B[38;5;28;01melse\u001B[39;00m:\n\u001B[1;32m    621\u001B[0m     \u001B[38;5;28;01mreturn\u001B[39;00m \u001B[38;5;28mself\u001B[39m\u001B[38;5;241m.\u001B[39m_apply_tablewise(homogeneous_func, name, numeric_only)\n",
      "File \u001B[0;32m/Library/Frameworks/Python.framework/Versions/3.13/lib/python3.13/site-packages/pandas/core/window/rolling.py:472\u001B[0m, in \u001B[0;36mBaseWindow._apply_columnwise\u001B[0;34m(self, homogeneous_func, name, numeric_only)\u001B[0m\n\u001B[1;32m    470\u001B[0m \u001B[38;5;28mself\u001B[39m\u001B[38;5;241m.\u001B[39m_validate_numeric_only(name, numeric_only)\n\u001B[1;32m    471\u001B[0m \u001B[38;5;28;01mif\u001B[39;00m \u001B[38;5;28mself\u001B[39m\u001B[38;5;241m.\u001B[39m_selected_obj\u001B[38;5;241m.\u001B[39mndim \u001B[38;5;241m==\u001B[39m \u001B[38;5;241m1\u001B[39m:\n\u001B[0;32m--> 472\u001B[0m     \u001B[38;5;28;01mreturn\u001B[39;00m \u001B[38;5;28;43mself\u001B[39;49m\u001B[38;5;241;43m.\u001B[39;49m\u001B[43m_apply_series\u001B[49m\u001B[43m(\u001B[49m\u001B[43mhomogeneous_func\u001B[49m\u001B[43m,\u001B[49m\u001B[43m \u001B[49m\u001B[43mname\u001B[49m\u001B[43m)\u001B[49m\n\u001B[1;32m    474\u001B[0m obj \u001B[38;5;241m=\u001B[39m \u001B[38;5;28mself\u001B[39m\u001B[38;5;241m.\u001B[39m_create_data(\u001B[38;5;28mself\u001B[39m\u001B[38;5;241m.\u001B[39m_selected_obj, numeric_only)\n\u001B[1;32m    475\u001B[0m \u001B[38;5;28;01mif\u001B[39;00m name \u001B[38;5;241m==\u001B[39m \u001B[38;5;124m\"\u001B[39m\u001B[38;5;124mcount\u001B[39m\u001B[38;5;124m\"\u001B[39m:\n\u001B[1;32m    476\u001B[0m     \u001B[38;5;66;03m# GH 12541: Special case for count where we support date-like types\u001B[39;00m\n",
      "File \u001B[0;32m/Library/Frameworks/Python.framework/Versions/3.13/lib/python3.13/site-packages/pandas/core/window/rolling.py:456\u001B[0m, in \u001B[0;36mBaseWindow._apply_series\u001B[0;34m(self, homogeneous_func, name)\u001B[0m\n\u001B[1;32m    453\u001B[0m \u001B[38;5;28;01mexcept\u001B[39;00m (\u001B[38;5;167;01mTypeError\u001B[39;00m, \u001B[38;5;167;01mNotImplementedError\u001B[39;00m) \u001B[38;5;28;01mas\u001B[39;00m err:\n\u001B[1;32m    454\u001B[0m     \u001B[38;5;28;01mraise\u001B[39;00m DataError(\u001B[38;5;124m\"\u001B[39m\u001B[38;5;124mNo numeric types to aggregate\u001B[39m\u001B[38;5;124m\"\u001B[39m) \u001B[38;5;28;01mfrom\u001B[39;00m\u001B[38;5;250m \u001B[39m\u001B[38;5;21;01merr\u001B[39;00m\n\u001B[0;32m--> 456\u001B[0m result \u001B[38;5;241m=\u001B[39m \u001B[43mhomogeneous_func\u001B[49m\u001B[43m(\u001B[49m\u001B[43mvalues\u001B[49m\u001B[43m)\u001B[49m\n\u001B[1;32m    457\u001B[0m index \u001B[38;5;241m=\u001B[39m \u001B[38;5;28mself\u001B[39m\u001B[38;5;241m.\u001B[39m_slice_axis_for_step(obj\u001B[38;5;241m.\u001B[39mindex, result)\n\u001B[1;32m    458\u001B[0m \u001B[38;5;28;01mreturn\u001B[39;00m obj\u001B[38;5;241m.\u001B[39m_constructor(result, index\u001B[38;5;241m=\u001B[39mindex, name\u001B[38;5;241m=\u001B[39mobj\u001B[38;5;241m.\u001B[39mname)\n",
      "File \u001B[0;32m/Library/Frameworks/Python.framework/Versions/3.13/lib/python3.13/site-packages/pandas/core/window/rolling.py:614\u001B[0m, in \u001B[0;36mBaseWindow._apply.<locals>.homogeneous_func\u001B[0;34m(values)\u001B[0m\n\u001B[1;32m    611\u001B[0m     \u001B[38;5;28;01mreturn\u001B[39;00m func(x, start, end, min_periods, \u001B[38;5;241m*\u001B[39mnumba_args)\n\u001B[1;32m    613\u001B[0m \u001B[38;5;28;01mwith\u001B[39;00m np\u001B[38;5;241m.\u001B[39merrstate(\u001B[38;5;28mall\u001B[39m\u001B[38;5;241m=\u001B[39m\u001B[38;5;124m\"\u001B[39m\u001B[38;5;124mignore\u001B[39m\u001B[38;5;124m\"\u001B[39m):\n\u001B[0;32m--> 614\u001B[0m     result \u001B[38;5;241m=\u001B[39m \u001B[43mcalc\u001B[49m\u001B[43m(\u001B[49m\u001B[43mvalues\u001B[49m\u001B[43m)\u001B[49m\n\u001B[1;32m    616\u001B[0m \u001B[38;5;28;01mreturn\u001B[39;00m result\n",
      "File \u001B[0;32m/Library/Frameworks/Python.framework/Versions/3.13/lib/python3.13/site-packages/pandas/core/window/rolling.py:611\u001B[0m, in \u001B[0;36mBaseWindow._apply.<locals>.homogeneous_func.<locals>.calc\u001B[0;34m(x)\u001B[0m\n\u001B[1;32m    602\u001B[0m start, end \u001B[38;5;241m=\u001B[39m window_indexer\u001B[38;5;241m.\u001B[39mget_window_bounds(\n\u001B[1;32m    603\u001B[0m     num_values\u001B[38;5;241m=\u001B[39m\u001B[38;5;28mlen\u001B[39m(x),\n\u001B[1;32m    604\u001B[0m     min_periods\u001B[38;5;241m=\u001B[39mmin_periods,\n\u001B[0;32m   (...)\u001B[0m\n\u001B[1;32m    607\u001B[0m     step\u001B[38;5;241m=\u001B[39m\u001B[38;5;28mself\u001B[39m\u001B[38;5;241m.\u001B[39mstep,\n\u001B[1;32m    608\u001B[0m )\n\u001B[1;32m    609\u001B[0m \u001B[38;5;28mself\u001B[39m\u001B[38;5;241m.\u001B[39m_check_window_bounds(start, end, \u001B[38;5;28mlen\u001B[39m(x))\n\u001B[0;32m--> 611\u001B[0m \u001B[38;5;28;01mreturn\u001B[39;00m \u001B[43mfunc\u001B[49m\u001B[43m(\u001B[49m\u001B[43mx\u001B[49m\u001B[43m,\u001B[49m\u001B[43m \u001B[49m\u001B[43mstart\u001B[49m\u001B[43m,\u001B[49m\u001B[43m \u001B[49m\u001B[43mend\u001B[49m\u001B[43m,\u001B[49m\u001B[43m \u001B[49m\u001B[43mmin_periods\u001B[49m\u001B[43m,\u001B[49m\u001B[43m \u001B[49m\u001B[38;5;241;43m*\u001B[39;49m\u001B[43mnumba_args\u001B[49m\u001B[43m)\u001B[49m\n",
      "File \u001B[0;32m/Library/Frameworks/Python.framework/Versions/3.13/lib/python3.13/site-packages/pandas/core/window/rolling.py:1535\u001B[0m, in \u001B[0;36mRollingAndExpandingMixin._generate_cython_apply_func.<locals>.apply_func\u001B[0;34m(values, begin, end, min_periods, raw)\u001B[0m\n\u001B[1;32m   1532\u001B[0m \u001B[38;5;28;01mif\u001B[39;00m \u001B[38;5;129;01mnot\u001B[39;00m raw:\n\u001B[1;32m   1533\u001B[0m     \u001B[38;5;66;03m# GH 45912\u001B[39;00m\n\u001B[1;32m   1534\u001B[0m     values \u001B[38;5;241m=\u001B[39m Series(values, index\u001B[38;5;241m=\u001B[39m\u001B[38;5;28mself\u001B[39m\u001B[38;5;241m.\u001B[39m_on, copy\u001B[38;5;241m=\u001B[39m\u001B[38;5;28;01mFalse\u001B[39;00m)\n\u001B[0;32m-> 1535\u001B[0m \u001B[38;5;28;01mreturn\u001B[39;00m \u001B[43mwindow_func\u001B[49m\u001B[43m(\u001B[49m\u001B[43mvalues\u001B[49m\u001B[43m,\u001B[49m\u001B[43m \u001B[49m\u001B[43mbegin\u001B[49m\u001B[43m,\u001B[49m\u001B[43m \u001B[49m\u001B[43mend\u001B[49m\u001B[43m,\u001B[49m\u001B[43m \u001B[49m\u001B[43mmin_periods\u001B[49m\u001B[43m)\u001B[49m\n",
      "File \u001B[0;32maggregations.pyx:1422\u001B[0m, in \u001B[0;36mpandas._libs.window.aggregations.roll_apply\u001B[0;34m()\u001B[0m\n",
      "\u001B[0;31mTypeError\u001B[0m: must be real number, not NoneType"
     ]
    }
   ],
   "execution_count": 57
  },
  {
   "cell_type": "markdown",
   "id": "6f0f8468-cd00-4d88-9008-4ab1a57f8523",
   "metadata": {},
   "source": [
    "---\n",
    "**How does price change correlate with change of trading volume?**"
   ]
  },
  {
   "cell_type": "code",
   "id": "96554c78-ab3e-4350-9742-6c8247f00679",
   "metadata": {},
   "source": [
    "QUANTILES = [0.05, 0.95]\n",
    "\n",
    "volume_change = records[\"volume\"].pct_change().dropna()\n",
    "price_change = records[\"close\"] / records[\"open\"] - 1\n",
    "\n",
    "price_volume_change = pd.concat([volume_change, price_change], axis=\"columns\")\n",
    "price_volume_change.rename(columns={\"volume\": \"volume_change\", 0: \"price_change\"}, inplace=True)\n",
    "\n",
    "mask = price_volume_change.isin([np.nan, np.inf, -np.inf])\n",
    "price_volume_change[mask] = 0\n",
    "\n",
    "volume_mask = pd.qcut(price_volume_change[\"volume_change\"], q=QUANTILES).isna().to_numpy()\n",
    "price_mask = pd.qcut(price_volume_change[\"price_change\"], q=QUANTILES).isna().to_numpy()\n",
    "\n",
    "general_mask = np.stack([volume_mask, price_mask], axis=1).any(axis=1)\n",
    "\n",
    "indices_to_drop = price_volume_change.loc[general_mask].index\n",
    "price_volume_change.drop(indices_to_drop, inplace=True)\n",
    "price_volume_change.tail()"
   ],
   "outputs": [],
   "execution_count": null
  },
  {
   "cell_type": "code",
   "id": "deb1810f-6577-4b31-ba27-d74d9fcc2731",
   "metadata": {},
   "source": [
    "# charting\n",
    "fig, ax = plt.subplots(figsize=(13, 5))\n",
    "ax.scatter(\n",
    "    x=price_volume_change[\"price_change\"],\n",
    "    y=price_volume_change[\"volume_change\"],\n",
    "    s=0.7,\n",
    "    color=\"green\"\n",
    ")\n",
    "\n",
    "ax.axvline(x=0, linestyle=\"dashed\", color=\"grey\")\n",
    "ax.axhline(y=0, linestyle=\"dashed\", color=\"grey\")\n",
    "\n",
    "ax.set_ylabel(\"Trading colume change\")\n",
    "ax.set_xlabel(\"Price change\")\n",
    "ax.set_title(\"Daily price change against change of trading volume (%)\")\n",
    "\n",
    "spearman = st.spearmanr(a=price_volume_change[\"price_change\"], b=price_volume_change[\"volume_change\"]).statistic.round(\n",
    "    4)\n",
    "print(f\"Spearman rank correlation coefficient: {spearman}\")\n",
    "print(\"There is almost no correlation between these two values.\")"
   ],
   "outputs": [],
   "execution_count": null
  },
  {
   "cell_type": "markdown",
   "id": "c7ae2c7e-7038-4ee6-9218-730b0882f12b",
   "metadata": {},
   "source": [
    "---\n",
    "**How does halving affect price and trading volume?**"
   ]
  },
  {
   "cell_type": "code",
   "id": "05a3e4e9-ce97-49b6-84fe-d96fb75e6878",
   "metadata": {},
   "source": [
    "halving_dates = (\n",
    "    date(year=2012, month=11, day=28),\n",
    "    date(year=2016, month=7, day=9),\n",
    "    date(year=2020, month=7, day=10),\n",
    "    date(year=2024, month=4, day=20),\n",
    ")\n",
    "\n",
    "grouped = (records\n",
    "           .groupby([records.index.year, records.index.month])\n",
    "           .agg({\"close\": \"median\", \"volume\": \"sum\"})\n",
    "           .reset_index(drop=True)\n",
    "           )\n",
    "grouped.index = pd.date_range(start=first_datetime, freq=timedelta(days=30), periods=len(grouped))"
   ],
   "outputs": [],
   "execution_count": null
  },
  {
   "cell_type": "code",
   "id": "7c66fe84d8c01e58",
   "metadata": {
    "jupyter": {
     "source_hidden": true
    }
   },
   "source": [
    "ax = plt.subplot()\n",
    "ax.plot(grouped[\"close\"].map(log), color=\"blue\")\n",
    "ax.set_title(\"Bitcoin price development after each halving\")\n",
    "ax.set_xlabel(\"Year\")\n",
    "ax.set_ylabel(\"Log price in $\")\n",
    "\n",
    "for date in halving_dates:\n",
    "    ax.axvline(x=date, linestyle=\"dashed\", color=\"green\", label=\"halving date\")\n",
    "\n",
    "ax.legend(ax.get_children()[:2], [\"Log price\", \"Halving\"])\n",
    "print(\"There used to be a visible correlation between the halving and a significat price jump.\\n\"\n",
    "      \"In the 2024 this jump is however much smaller than other times\")"
   ],
   "outputs": [],
   "execution_count": null
  },
  {
   "cell_type": "markdown",
   "id": "c0ed0d7a-50d2-4321-b06d-10ca4a3a903f",
   "metadata": {},
   "source": [
    "---\n",
    "**How did trading volume per dollar change over the years?**"
   ]
  },
  {
   "cell_type": "code",
   "id": "971cc15a-bad9-4dd7-9de7-747ebb8d2acc",
   "metadata": {},
   "source": [
    "grouped = (records\n",
    "           .groupby([records.index.year, records.index.month])\n",
    "           .agg({\"close\": \"median\", \"volume\": \"sum\"})\n",
    "           .reset_index(drop=True)\n",
    "           )\n",
    "grouped.index = pd.date_range(start=first_datetime, freq=timedelta(days=30), periods=len(grouped))\n",
    "volume_per_dollar = grouped[\"volume\"] / grouped[\"close\"]"
   ],
   "outputs": [],
   "execution_count": null
  },
  {
   "cell_type": "code",
   "id": "07c917cc-982e-4233-913c-4f9884929835",
   "metadata": {
    "jupyter": {
     "source_hidden": true
    }
   },
   "source": [
    "ax = plt.subplot()\n",
    "\n",
    "ax.plot(volume_per_dollar.map(log), color=\"green\")\n",
    "ax.set_ylabel(\"Log Trading volume per dollar\")\n",
    "ax.set_xlabel(\"Year\")\n",
    "ax.set_title(\"Trading volume per dollar price over time\");\n",
    "print(\"Sinking trading volume per dollar is a signal of the price growing faster than the trading volume.\\n\"\n",
    "      \"This in turn may imply that the Bitcoin has become much more of a speculation tool than a real valuable asset.\")"
   ],
   "outputs": [],
   "execution_count": null
  }
 ],
 "metadata": {
  "kernelspec": {
   "display_name": "Python 3 (ipykernel)",
   "language": "python",
   "name": "python3"
  },
  "language_info": {
   "codemirror_mode": {
    "name": "ipython",
    "version": 3
   },
   "file_extension": ".py",
   "mimetype": "text/x-python",
   "name": "python",
   "nbconvert_exporter": "python",
   "pygments_lexer": "ipython3",
   "version": "3.13.2"
  }
 },
 "nbformat": 4,
 "nbformat_minor": 5
}
