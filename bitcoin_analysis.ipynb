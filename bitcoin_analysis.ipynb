{
 "cells": [
  {
   "cell_type": "code",
   "id": "fc8a8537-0898-4ae3-8ef9-4704fc6fc087",
   "metadata": {},
   "source": [
    "import pandas as pd\n",
    "import numpy as np\n",
    "from datetime import datetime, timedelta, date\n",
    "import matplotlib.pyplot as plt\n",
    "from pathlib import Path\n",
    "import kagglehub\n",
    "from functools import lru_cache\n",
    "from typing import Sequence\n",
    "from math import log\n",
    "\n",
    "np.set_printoptions(suppress=True)"
   ],
   "outputs": [],
   "execution_count": null
  },
  {
   "cell_type": "code",
   "id": "faac2181-efc3-4e75-9844-311d496a1bdb",
   "metadata": {},
   "source": [
    "# import\n",
    "path = Path(kagglehub.dataset_download(\"mczielinski/bitcoin-historical-data\")) / \"btcusd_1-min_data.csv\"\n",
    "raw_records = pd.read_csv(\n",
    "    path,\n",
    "    usecols=[\"Open\", \"High\", \"Low\", \"Close\", \"Volume\"],\n",
    "    #nrows=100_000\n",
    ")\n",
    "first_datetime = datetime.fromisoformat(pd.read_csv(path, nrows=1).loc[0, \"datetime\"])\n",
    "print(\"Done\")"
   ],
   "outputs": [],
   "execution_count": null
  },
  {
   "cell_type": "code",
   "id": "a4b3e908-fad3-4547-bac5-8fa6a7f79c93",
   "metadata": {},
   "source": [
    "# assigning a new index to group later\n",
    "datetime_index = pd.date_range(\n",
    "    start=first_datetime,\n",
    "    freq=timedelta(minutes=1),\n",
    "    periods=raw_records.index[-1] + 1\n",
    ")\n",
    "records = raw_records\n",
    "records.index = datetime_index\n",
    "records.index.name = \"datetime\"\n",
    "records.rename(columns=str.lower, inplace=True)\n",
    "records.head()"
   ],
   "outputs": [],
   "execution_count": null
  },
  {
   "cell_type": "code",
   "id": "da39eb06-d4da-4cda-8ac1-668055d88ba8",
   "metadata": {
    "scrolled": true
   },
   "source": [
    "# groping\n",
    "records = records.groupby(records.index.date).agg({\n",
    "    \"open\": lambda x: x.iat[0],\n",
    "    \"high\": \"max\",\n",
    "    \"low\": \"min\",\n",
    "    \"close\": lambda x: x.iat[-1],\n",
    "    \"volume\": \"sum\"\n",
    "})\n",
    "records.index = pd.DatetimeIndex(records.index)\n",
    "records.tail()"
   ],
   "outputs": [],
   "execution_count": null
  },
  {
   "cell_type": "markdown",
   "id": "203562fa-fd8e-4f68-9a58-4b0f2d234fec",
   "metadata": {},
   "source": [
    "---\n",
    "**If you held bitcoin for up to 30 days where would your profit lie?**"
   ]
  },
  {
   "cell_type": "code",
   "id": "a750a23e-29c5-4858-b1e9-f8c3254ed158",
   "metadata": {
    "scrolled": true
   },
   "source": [
    "# re-running the cell will clear all the cache!\n",
    "@lru_cache\n",
    "def profit_quantiles(MAX_SPAN_DAYS: int = 30,\n",
    "                     QUANTILES: Sequence[float | int] = (0.01, 0.25, 0.5, 0.75, 0.99)) -> pd.DataFrame:\n",
    "    return_of_hold = pd.DataFrame({k: 0.0 for k in QUANTILES}, index=range(1, MAX_SPAN_DAYS + 1))\n",
    "\n",
    "    grouped = records[\"close\"].reset_index(drop=True)\n",
    "\n",
    "    for span in range(2, MAX_SPAN_DAYS + 1):\n",
    "        res = (grouped\n",
    "               .rolling(window=span)\n",
    "               .apply(lambda srs: (srs.iat[-1] / srs.iat[0] - 1) * 100)\n",
    "               .quantile(QUANTILES)\n",
    "               )\n",
    "        return_of_hold.loc[span] = res\n",
    "    return return_of_hold"
   ],
   "outputs": [],
   "execution_count": null
  },
  {
   "cell_type": "code",
   "id": "4e3ae31e-73b6-49ac-b9a9-ee2f609b205f",
   "metadata": {},
   "source": [
    "# calculate the profit\n",
    "MAX_SPAN_DAYS = 30\n",
    "QUANTILES = (0.01, 0.25, 0.5, 0.75, 0.99)\n",
    "\n",
    "return_of_hold = profit_quantiles(MAX_SPAN_DAYS=MAX_SPAN_DAYS, QUANTILES=QUANTILES)"
   ],
   "outputs": [],
   "execution_count": null
  },
  {
   "cell_type": "code",
   "id": "09670769-88de-4d6b-a365-4abf01220dc6",
   "metadata": {
    "jupyter": {
     "source_hidden": true
    }
   },
   "source": [
    "# charting\n",
    "ax = plt.subplot()\n",
    "for quantile, data in return_of_hold.items():\n",
    "    if data.iat[-1] < 0:\n",
    "        color = \"red\"\n",
    "    elif data.iat[-1] == 0:\n",
    "        color = \"grey\"\n",
    "    else:\n",
    "        color = \"green\"\n",
    "\n",
    "    ax.plot(data, color=color)\n",
    "    ax.text(x=MAX_SPAN_DAYS * 1.02, y=data.iat[-1], s=f\"Q {round(quantile, 4)} = {round(data.iat[-1], 2)}%\",\n",
    "            color=color)\n",
    "\n",
    "ax.axhline(0, linestyle=\"dashed\", color=\"grey\")\n",
    "\n",
    "ax.set_title(\"Quantiles of return against days held\")\n",
    "ax.grid()\n",
    "ax.spines['top'].set_visible(False)\n",
    "ax.spines['right'].set_visible(False)\n",
    "\n",
    "ax.set_xlabel(\"Days held\")\n",
    "ax.set_xlim(1, MAX_SPAN_DAYS * 1.01)\n",
    "\n",
    "ax.set_yticks(\n",
    "    np.arange(return_of_hold.min(axis=None) * 0.9, return_of_hold.max(axis=None) * 1.1,\n",
    "              return_of_hold.mean(axis=None) * 3).round(2)\n",
    ")\n",
    "ax.set_ylabel(\"Return in %\");"
   ],
   "outputs": [],
   "execution_count": null
  },
  {
   "cell_type": "markdown",
   "id": "6f0f8468-cd00-4d88-9008-4ab1a57f8523",
   "metadata": {},
   "source": [
    "---\n",
    "**How does price change correlate with change of trading volume?**"
   ]
  },
  {
   "cell_type": "code",
   "id": "96554c78-ab3e-4350-9742-6c8247f00679",
   "metadata": {},
   "source": [
    "QUANTILES = [0.05, 0.95]\n",
    "\n",
    "volume_change = records[\"volume\"].pct_change().dropna()\n",
    "price_change = records[\"close\"] / records[\"open\"] - 1\n",
    "\n",
    "price_volume_change = pd.concat([volume_change, price_change], axis=\"columns\")\n",
    "price_volume_change.rename(columns={\"volume\": \"volume_change\", 0: \"price_change\"}, inplace=True)\n",
    "\n",
    "mask = price_volume_change.isin([np.nan, np.inf, -np.inf])\n",
    "price_volume_change[mask] = 0\n",
    "\n",
    "volume_mask = pd.qcut(price_volume_change[\"volume_change\"], q=QUANTILES).isna().to_numpy()\n",
    "price_mask = pd.qcut(price_volume_change[\"price_change\"], q=QUANTILES).isna().to_numpy()\n",
    "\n",
    "general_mask = np.stack([volume_mask, price_mask], axis=1).any(axis=1)\n",
    "\n",
    "indices_to_drop = price_volume_change.loc[general_mask].index\n",
    "price_volume_change.drop(indices_to_drop, inplace=True)\n",
    "price_volume_change.tail()"
   ],
   "outputs": [],
   "execution_count": null
  },
  {
   "cell_type": "code",
   "id": "deb1810f-6577-4b31-ba27-d74d9fcc2731",
   "metadata": {},
   "source": [
    "# charting\n",
    "fig, ax = plt.subplots(figsize=(13, 5))\n",
    "ax.scatter(\n",
    "    x=price_volume_change[\"price_change\"],\n",
    "    y=price_volume_change[\"volume_change\"],\n",
    "    s=0.7,\n",
    "    color=\"green\"\n",
    ")\n",
    "\n",
    "ax.axvline(x=0, linestyle=\"dashed\", color=\"grey\")\n",
    "ax.axhline(y=0, linestyle=\"dashed\", color=\"grey\")\n",
    "\n",
    "ax.set_ylabel(\"Trading colume change\")\n",
    "ax.set_xlabel(\"Price change\")\n",
    "ax.set_title(\"Daily price change against change of trading volume (%)\");"
   ],
   "outputs": [],
   "execution_count": null
  },
  {
   "cell_type": "markdown",
   "id": "c7ae2c7e-7038-4ee6-9218-730b0882f12b",
   "metadata": {},
   "source": [
    "---\n",
    "**How does halving affect price and trading volume?**"
   ]
  },
  {
   "cell_type": "code",
   "id": "05a3e4e9-ce97-49b6-84fe-d96fb75e6878",
   "metadata": {},
   "source": [
    "halving_dates = (\n",
    "    date(year=2012, month=11, day=28),\n",
    "    date(year=2016, month=7, day=9),\n",
    "    date(year=2020, month=7, day=10),\n",
    "    date(year=2024, month=4, day=20),\n",
    ")\n",
    "\n",
    "grouped = (records\n",
    "           .groupby([records.index.year, records.index.month])\n",
    "           .agg({\"close\": \"median\", \"volume\": \"sum\"})\n",
    "           .reset_index(drop=True)\n",
    "           )\n",
    "grouped.index = pd.date_range(start=first_datetime, freq=timedelta(days=30), periods=len(grouped))"
   ],
   "outputs": [],
   "execution_count": null
  },
  {
   "metadata": {},
   "cell_type": "code",
   "source": [
    "ax = plt.subplot()\n",
    "ax.plot(grouped[\"close\"].map(log), color=\"blue\")\n",
    "ax.set_title(\"Bitcoin price development after each halving\")\n",
    "ax.set_xlabel(\"Year\")\n",
    "ax.set_ylabel(\"Log price in $\")\n",
    "\n",
    "for date in halving_dates:\n",
    "    ax.axvline(x=date, linestyle=\"dashed\", color=\"green\",label=\"halving date\")\n",
    "\n",
    "ax.legend(ax.get_children()[:2],[\"Log price\",\"Halving\"]);"
   ],
   "id": "7c66fe84d8c01e58",
   "outputs": [],
   "execution_count": null
  },
  {
   "cell_type": "markdown",
   "id": "c0ed0d7a-50d2-4321-b06d-10ca4a3a903f",
   "metadata": {},
   "source": [
    "---\n",
    "**How did trading volume per dollar change over the years?**"
   ]
  },
  {
   "cell_type": "code",
   "id": "971cc15a-bad9-4dd7-9de7-747ebb8d2acc",
   "metadata": {},
   "source": [
    "grouped = (records\n",
    "           .groupby([records.index.year, records.index.month])\n",
    "           .agg({\"close\": \"median\", \"volume\": \"sum\"})\n",
    "           .reset_index(drop=True)\n",
    "           )\n",
    "grouped.index = pd.date_range(start=first_datetime, freq=timedelta(days=30), periods=len(grouped))\n",
    "volume_per_dollar = grouped[\"volume\"] / grouped[\"close\"]"
   ],
   "outputs": [],
   "execution_count": null
  },
  {
   "cell_type": "code",
   "id": "07c917cc-982e-4233-913c-4f9884929835",
   "metadata": {},
   "source": [
    "ax = plt.subplot()\n",
    "\n",
    "ax.plot(volume_per_dollar.map(lambda x: log(x)), color=\"green\")\n",
    "ax.set_ylabel(\"log( Trading volume per dollar )\")\n",
    "ax.set_xlabel(\"Year\")\n",
    "ax.set_title(\"Trading volume per dollar price over time\");"
   ],
   "outputs": [],
   "execution_count": null
  }
 ],
 "metadata": {
  "kernelspec": {
   "display_name": "Python 3 (ipykernel)",
   "language": "python",
   "name": "python3"
  },
  "language_info": {
   "codemirror_mode": {
    "name": "ipython",
    "version": 3
   },
   "file_extension": ".py",
   "mimetype": "text/x-python",
   "name": "python",
   "nbconvert_exporter": "python",
   "pygments_lexer": "ipython3",
   "version": "3.13.2"
  }
 },
 "nbformat": 4,
 "nbformat_minor": 5
}
