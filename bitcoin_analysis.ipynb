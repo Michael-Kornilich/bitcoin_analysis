{
 "cells": [
  {
   "cell_type": "code",
   "execution_count": 3,
   "id": "fc8a8537-0898-4ae3-8ef9-4704fc6fc087",
   "metadata": {
    "ExecuteTime": {
     "end_time": "2025-03-29T19:47:08.571419Z",
     "start_time": "2025-03-29T19:47:08.568557Z"
    }
   },
   "outputs": [],
   "source": [
    "import pandas as pd\n",
    "import numpy as np\n",
    "from datetime import datetime, timedelta, date\n",
    "import matplotlib.pyplot as plt\n",
    "from pathlib import Path\n",
    "import kagglehub\n",
    "from functools import lru_cache\n",
    "from typing import Sequence, Literal\n",
    "from math import log, isclose\n",
    "import scipy.stats as st\n",
    "import os\n",
    "\n",
    "np.set_printoptions(suppress=True)"
   ]
  },
  {
   "cell_type": "code",
   "execution_count": 4,
   "id": "faac2181-efc3-4e75-9844-311d496a1bdb",
   "metadata": {
    "ExecuteTime": {
     "end_time": "2025-03-29T19:47:12.651307Z",
     "start_time": "2025-03-29T19:47:10.510360Z"
    }
   },
   "outputs": [
    {
     "name": "stdout",
     "output_type": "stream",
     "text": [
      "Warning: Looks like you're using an outdated `kagglehub` version (installed: 0.3.10), please consider upgrading to the latest version (0.3.11).\n",
      "Downloading from https://www.kaggle.com/api/v1/datasets/download/mczielinski/bitcoin-historical-data?dataset_version_number=194...\n"
     ]
    },
    {
     "name": "stderr",
     "output_type": "stream",
     "text": [
      "100%|████████████████████████████████████████████████████████████████████████████████████████████| 112M/112M [00:12<00:00, 9.43MB/s]"
     ]
    },
    {
     "name": "stdout",
     "output_type": "stream",
     "text": [
      "Extracting files...\n"
     ]
    },
    {
     "name": "stderr",
     "output_type": "stream",
     "text": [
      "\n"
     ]
    },
    {
     "name": "stdout",
     "output_type": "stream",
     "text": [
      "Done\n"
     ]
    }
   ],
   "source": [
    "# import\n",
    "dir_ = Path(kagglehub.dataset_download(\"mczielinski/bitcoin-historical-data\"))\n",
    "file_name = os.listdir(dir_)[0]\n",
    "path = dir_ / file_name\n",
    "\n",
    "#print(f\"Path to dataset: {path}\")\n",
    "raw_records = pd.read_csv(\n",
    "    path,\n",
    "    usecols=[\"Open\", \"High\", \"Low\", \"Close\", \"Volume\"],\n",
    "    #nrows=100_000\n",
    ")\n",
    "first_datetime = datetime.fromisoformat(pd.read_csv(path, nrows=1).loc[0, \"datetime\"])\n",
    "print(\"Done\")"
   ]
  },
  {
   "cell_type": "code",
   "execution_count": 5,
   "id": "a4b3e908-fad3-4547-bac5-8fa6a7f79c93",
   "metadata": {
    "ExecuteTime": {
     "end_time": "2025-03-29T19:47:18.997610Z",
     "start_time": "2025-03-29T19:47:18.975738Z"
    }
   },
   "outputs": [
    {
     "data": {
      "text/html": [
       "<div>\n",
       "<style scoped>\n",
       "    .dataframe tbody tr th:only-of-type {\n",
       "        vertical-align: middle;\n",
       "    }\n",
       "\n",
       "    .dataframe tbody tr th {\n",
       "        vertical-align: top;\n",
       "    }\n",
       "\n",
       "    .dataframe thead th {\n",
       "        text-align: right;\n",
       "    }\n",
       "</style>\n",
       "<table border=\"1\" class=\"dataframe\">\n",
       "  <thead>\n",
       "    <tr style=\"text-align: right;\">\n",
       "      <th></th>\n",
       "      <th>open</th>\n",
       "      <th>high</th>\n",
       "      <th>low</th>\n",
       "      <th>close</th>\n",
       "      <th>volume</th>\n",
       "    </tr>\n",
       "    <tr>\n",
       "      <th>datetime</th>\n",
       "      <th></th>\n",
       "      <th></th>\n",
       "      <th></th>\n",
       "      <th></th>\n",
       "      <th></th>\n",
       "    </tr>\n",
       "  </thead>\n",
       "  <tbody>\n",
       "    <tr>\n",
       "      <th>2025-03-16 04:36:00+00:00</th>\n",
       "      <td>82554.0</td>\n",
       "      <td>82554.0</td>\n",
       "      <td>82554.0</td>\n",
       "      <td>82554.0</td>\n",
       "      <td>0.072000</td>\n",
       "    </tr>\n",
       "    <tr>\n",
       "      <th>2025-03-16 04:37:00+00:00</th>\n",
       "      <td>82584.0</td>\n",
       "      <td>82615.0</td>\n",
       "      <td>82584.0</td>\n",
       "      <td>82615.0</td>\n",
       "      <td>0.194670</td>\n",
       "    </tr>\n",
       "    <tr>\n",
       "      <th>2025-03-16 04:38:00+00:00</th>\n",
       "      <td>82555.0</td>\n",
       "      <td>82555.0</td>\n",
       "      <td>82555.0</td>\n",
       "      <td>82555.0</td>\n",
       "      <td>0.002680</td>\n",
       "    </tr>\n",
       "    <tr>\n",
       "      <th>2025-03-16 04:39:00+00:00</th>\n",
       "      <td>82555.0</td>\n",
       "      <td>82555.0</td>\n",
       "      <td>82555.0</td>\n",
       "      <td>82555.0</td>\n",
       "      <td>0.000000</td>\n",
       "    </tr>\n",
       "    <tr>\n",
       "      <th>2025-03-16 04:40:00+00:00</th>\n",
       "      <td>82569.0</td>\n",
       "      <td>82569.0</td>\n",
       "      <td>82566.0</td>\n",
       "      <td>82566.0</td>\n",
       "      <td>0.003019</td>\n",
       "    </tr>\n",
       "  </tbody>\n",
       "</table>\n",
       "</div>"
      ],
      "text/plain": [
       "                              open     high      low    close    volume\n",
       "datetime                                                               \n",
       "2025-03-16 04:36:00+00:00  82554.0  82554.0  82554.0  82554.0  0.072000\n",
       "2025-03-16 04:37:00+00:00  82584.0  82615.0  82584.0  82615.0  0.194670\n",
       "2025-03-16 04:38:00+00:00  82555.0  82555.0  82555.0  82555.0  0.002680\n",
       "2025-03-16 04:39:00+00:00  82555.0  82555.0  82555.0  82555.0  0.000000\n",
       "2025-03-16 04:40:00+00:00  82569.0  82569.0  82566.0  82566.0  0.003019"
      ]
     },
     "execution_count": 5,
     "metadata": {},
     "output_type": "execute_result"
    }
   ],
   "source": [
    "# assigning a new index\n",
    "datetime_index = pd.date_range(\n",
    "    start=first_datetime,\n",
    "    freq=timedelta(minutes=1),\n",
    "    periods=len(raw_records)\n",
    ")\n",
    "records = raw_records\n",
    "records.index = pd.Index(datetime_index, name=\"datetime\")\n",
    "records.rename(columns=str.lower, inplace=True)\n",
    "records.tail()"
   ]
  },
  {
   "cell_type": "code",
   "execution_count": 6,
   "id": "da39eb06-d4da-4cda-8ac1-668055d88ba8",
   "metadata": {
    "ExecuteTime": {
     "end_time": "2025-03-29T19:47:21.433549Z",
     "start_time": "2025-03-29T19:47:21.009831Z"
    },
    "scrolled": true
   },
   "outputs": [
    {
     "data": {
      "text/html": [
       "<div>\n",
       "<style scoped>\n",
       "    .dataframe tbody tr th:only-of-type {\n",
       "        vertical-align: middle;\n",
       "    }\n",
       "\n",
       "    .dataframe tbody tr th {\n",
       "        vertical-align: top;\n",
       "    }\n",
       "\n",
       "    .dataframe thead th {\n",
       "        text-align: right;\n",
       "    }\n",
       "</style>\n",
       "<table border=\"1\" class=\"dataframe\">\n",
       "  <thead>\n",
       "    <tr style=\"text-align: right;\">\n",
       "      <th></th>\n",
       "      <th>open</th>\n",
       "      <th>high</th>\n",
       "      <th>low</th>\n",
       "      <th>close</th>\n",
       "      <th>volume</th>\n",
       "    </tr>\n",
       "    <tr>\n",
       "      <th>date</th>\n",
       "      <th></th>\n",
       "      <th></th>\n",
       "      <th></th>\n",
       "      <th></th>\n",
       "      <th></th>\n",
       "    </tr>\n",
       "  </thead>\n",
       "  <tbody>\n",
       "    <tr>\n",
       "      <th>2025-03-12 10:01:00+00:00</th>\n",
       "      <td>81325.0</td>\n",
       "      <td>83733.0</td>\n",
       "      <td>79031.0</td>\n",
       "      <td>82675.0</td>\n",
       "      <td>2339.022631</td>\n",
       "    </tr>\n",
       "    <tr>\n",
       "      <th>2025-03-13 10:01:00+00:00</th>\n",
       "      <td>82663.0</td>\n",
       "      <td>84437.0</td>\n",
       "      <td>80607.0</td>\n",
       "      <td>83405.0</td>\n",
       "      <td>2226.552840</td>\n",
       "    </tr>\n",
       "    <tr>\n",
       "      <th>2025-03-14 10:01:00+00:00</th>\n",
       "      <td>83409.0</td>\n",
       "      <td>83849.0</td>\n",
       "      <td>79910.0</td>\n",
       "      <td>82757.0</td>\n",
       "      <td>1627.976707</td>\n",
       "    </tr>\n",
       "    <tr>\n",
       "      <th>2025-03-15 10:01:00+00:00</th>\n",
       "      <td>82753.0</td>\n",
       "      <td>85294.0</td>\n",
       "      <td>82638.0</td>\n",
       "      <td>84328.0</td>\n",
       "      <td>1844.938637</td>\n",
       "    </tr>\n",
       "    <tr>\n",
       "      <th>2025-03-16 10:01:00+00:00</th>\n",
       "      <td>84330.0</td>\n",
       "      <td>85059.0</td>\n",
       "      <td>81983.0</td>\n",
       "      <td>82566.0</td>\n",
       "      <td>1039.123849</td>\n",
       "    </tr>\n",
       "  </tbody>\n",
       "</table>\n",
       "</div>"
      ],
      "text/plain": [
       "                              open     high      low    close       volume\n",
       "date                                                                      \n",
       "2025-03-12 10:01:00+00:00  81325.0  83733.0  79031.0  82675.0  2339.022631\n",
       "2025-03-13 10:01:00+00:00  82663.0  84437.0  80607.0  83405.0  2226.552840\n",
       "2025-03-14 10:01:00+00:00  83409.0  83849.0  79910.0  82757.0  1627.976707\n",
       "2025-03-15 10:01:00+00:00  82753.0  85294.0  82638.0  84328.0  1844.938637\n",
       "2025-03-16 10:01:00+00:00  84330.0  85059.0  81983.0  82566.0  1039.123849"
      ]
     },
     "execution_count": 6,
     "metadata": {},
     "output_type": "execute_result"
    }
   ],
   "source": [
    "# groping\n",
    "daily_records = records.resample(\"D\", closed=\"right\", label=\"right\", origin=\"start\").agg({\n",
    "    \"open\": \"first\",\n",
    "    \"high\": \"max\",\n",
    "    \"low\": \"min\",\n",
    "    \"close\": \"last\",\n",
    "    \"volume\": \"sum\"\n",
    "})\n",
    "daily_records.index.name = \"date\"\n",
    "daily_records.tail()"
   ]
  },
  {
   "cell_type": "markdown",
   "id": "203562fa-fd8e-4f68-9a58-4b0f2d234fec",
   "metadata": {},
   "source": [
    "---\n",
    "**If you held bitcoin for up to 30 days where would your profit lie?**"
   ]
  },
  {
   "cell_type": "code",
   "execution_count": null,
   "id": "a750a23e-29c5-4858-b1e9-f8c3254ed158",
   "metadata": {
    "scrolled": true
   },
   "outputs": [],
   "source": [
    "# re-running the cell will clear all the cache!\n",
    "@lru_cache\n",
    "def profit_quantiles(\n",
    "        close_prices: Sequence[float],\n",
    "        max_span: int = 30,\n",
    "        quantiles: Sequence[float | int] = (0.01, 0.25, 0.5, 0.75, 0.99),\n",
    ") -> pd.DataFrame:\n",
    "    return_of_hold = pd.DataFrame({k: 0.0 for k in quantiles}, index=range(1, max_span + 1))\n",
    "    grouped = pd.Series(close_prices)\n",
    "\n",
    "    for span in range(2, max_span + 1):\n",
    "        res = (grouped\n",
    "               .rolling(window=span)\n",
    "               .apply(lambda srs: (srs.iat[-1] / srs.iat[0] - 1) * 100)\n",
    "               .quantile(quantiles)\n",
    "               )\n",
    "        return_of_hold.loc[span] = res\n",
    "    return return_of_hold"
   ]
  },
  {
   "cell_type": "code",
   "execution_count": null,
   "id": "f5e60479d8b6f025",
   "metadata": {},
   "outputs": [],
   "source": [
    "# calculate the profit\n",
    "MAX_SPAN_DAYS = 100\n",
    "QUANTILES = (0.01, 0.25, 0.5, 0.75, 0.99)\n",
    "\n",
    "return_of_hold = profit_quantiles(\n",
    "    close_prices=tuple(daily_records[\"close\"]),  # bad practice. todo: look for a better solution\n",
    "    max_span=MAX_SPAN_DAYS,\n",
    "    quantiles=QUANTILES\n",
    ")\n",
    "return_of_hold.tail()"
   ]
  },
  {
   "cell_type": "code",
   "execution_count": null,
   "id": "09670769-88de-4d6b-a365-4abf01220dc6",
   "metadata": {
    "jupyter": {
     "source_hidden": true
    }
   },
   "outputs": [],
   "source": [
    "# charting\n",
    "ax = plt.subplot()\n",
    "for quantile, data in return_of_hold.items():\n",
    "    if data.iat[-1] < 0:\n",
    "        color = \"red\"\n",
    "    elif data.iat[-1] == 0:\n",
    "        color = \"grey\"\n",
    "    else:\n",
    "        color = \"green\"\n",
    "\n",
    "    ax.plot(data, color=color)\n",
    "    ax.text(x=MAX_SPAN_DAYS * 1.02, y=data.iat[-1], s=f\"Q {round(quantile, 4)} = {round(data.iat[-1], 2)}%\",\n",
    "            color=color)\n",
    "\n",
    "ax.axhline(0, linestyle=\"dashed\", color=\"grey\")\n",
    "\n",
    "ax.set_title(\"Quantiles of return against days held\")\n",
    "ax.grid()\n",
    "ax.spines['top'].set_visible(False)\n",
    "ax.spines['right'].set_visible(False)\n",
    "\n",
    "ax.set_xlabel(\"Days held\")\n",
    "ax.set_xlim(1, MAX_SPAN_DAYS * 1.01)\n",
    "\n",
    "ax.set_yticks(\n",
    "    np.arange(return_of_hold.min(axis=None) * 0.9, return_of_hold.max(axis=None) * 1.1,\n",
    "              return_of_hold.mean(axis=None) * 3).round(2)\n",
    ")\n",
    "ax.set_ylabel(\"Return in %\")\n",
    "print(f\"The profit will generally be positive with the 50% chance of it being between \"\n",
    "      f\"{return_of_hold.iloc[-1, 1].round(2)}% and {return_of_hold.iloc[-1, 3].round(2)}%, \"\n",
    "      f\"with median profit being {return_of_hold.iloc[-1, 2].round(2)}%\")"
   ]
  },
  {
   "cell_type": "markdown",
   "id": "e9536400-4370-4eb7-849a-382912356b92",
   "metadata": {},
   "source": [
    "---\n",
    "**What would your profit be if you followed the MA-Cross strategy,\\\n",
    "whereby moving averages are 75 and 25-period MAs**"
   ]
  },
  {
   "cell_type": "code",
   "execution_count": 115,
   "id": "fe6662fb9655dbf5",
   "metadata": {
    "ExecuteTime": {
     "end_time": "2025-03-29T19:54:59.195849Z",
     "start_time": "2025-03-29T19:54:58.970567Z"
    }
   },
   "outputs": [],
   "source": [
    "SPAN_SLOW = 50\n",
    "SPAN_FAST = 10\n",
    "\n",
    "ema_slow = pd.Series(records[\"close\"].ewm(span=SPAN_SLOW).mean(),name=\"ema_slow\")\n",
    "ema_slow.iloc[:SPAN_SLOW] = np.nan\n",
    "\n",
    "ema_fast = pd.Series(records[\"close\"].ewm(span=SPAN_FAST).mean(),name=\"ema_fast\")\n",
    "ema_slow.iloc[:SPAN_FAST] = np.nan"
   ]
  },
  {
   "cell_type": "code",
   "execution_count": 182,
   "id": "f4829e77fb604a6d",
   "metadata": {
    "ExecuteTime": {
     "end_time": "2025-03-29T19:55:01.399414Z",
     "start_time": "2025-03-29T19:55:01.391586Z"
    }
   },
   "outputs": [],
   "source": [
    "class Trader:\n",
    "    def __init__(self, volume_quartile:float, rel_tol_out=0.05, rel_tol_in=0.03):\n",
    "        \"\"\"\n",
    "        :param rel_tol_out: outer relative tolerance to start a trade\n",
    "        :param rel_tol_in: inner relative tolerance to end a trade\n",
    "        :param volume_quantile: Q-0.15 of the traded volume\n",
    "        :return: None\n",
    "        \"\"\"\n",
    "        self.volume_quartile = volume_quartile\n",
    "        self.rel_tol_in = rel_tol_in\n",
    "        self.rel_tol_out = rel_tol_out\n",
    "        self.in_trade: bool = False\n",
    "        self.trade_type: Literal[\"long\", \"short\"] | None = None\n",
    "        self.trade_id: int = 0\n",
    "\n",
    "        columns = pd.MultiIndex.from_tuples([\n",
    "            (\"trade_entry\", \"datetime\"),\n",
    "            (\"trade_entry\", \"price\"),\n",
    "            (\"trade_exit\", \"datetime\"),\n",
    "            (\"trade_exit\", \"price\"),\n",
    "            (\"trade_type\", \"type\")\n",
    "        ])\n",
    "        self._trade_list: pd.DataFrame = pd.DataFrame(columns=columns)\n",
    "        self._trade_list.index.name = \"trade_id\"\n",
    "        return\n",
    "\n",
    "    @property\n",
    "    def trade_list(self) -> pd.DataFrame:\n",
    "        trade_list = trader._trade_list.astype({\n",
    "            (\"trade_entry\",\"price\"): float,\n",
    "            (\"trade_exit\",\"price\"): float,\n",
    "            (\"trade_type\",\"type\"): \"category\"\n",
    "        })\n",
    "        trade_list[(\"trade_entry\",\"datetime\")] = pd.to_datetime(trader._trade_list[(\"trade_entry\",\"datetime\")])\n",
    "        trade_list[(\"trade_exit\",\"datetime\")] = pd.to_datetime(trader._trade_list[(\"trade_exit\",\"datetime\")])\n",
    "        return self.trade_list\n",
    "    \n",
    "    def trade(self, row: pd.Series):\n",
    "        # row must have following indicies:\n",
    "        # \"open\", \"high\", \"low\", \"close\", \"volume\", \"ema_fast\", \"ema_slow\"\n",
    "        if not row.notnull().all(): return row\n",
    "            \n",
    "        volume = row.loc[\"volume\"]\n",
    "        record: pd.Series = row.loc[[\"open\", \"high\", \"low\", \"close\"]]\n",
    "        ema_fast: float = row.loc[\"ema_fast\"]\n",
    "        ema_slow: float = row.loc[\"ema_slow\"]\n",
    "\n",
    "         # opening a trade\n",
    "        if (not self.in_trade and \n",
    "            not isclose(ema_fast, ema_slow, rel_tol=self.rel_tol_out) and \n",
    "            volume > self.volume_quartile\n",
    "           ):\n",
    "            self.in_trade = True\n",
    "            self.trade_type = \"long\" if ema_fast > ema_slow else \"short\"\n",
    "            self.trade_id += 1\n",
    "\n",
    "            current_trade = pd.Series({\n",
    "                (\"trade_type\", \"type\"): self.trade_type,\n",
    "                (\"trade_entry\", \"price\"): record.loc[\"close\"],\n",
    "                (\"trade_entry\", \"datetime\"): record.name,\n",
    "            })\n",
    "            self._trade_list.loc[self.trade_id] = current_trade\n",
    "            return row\n",
    "        \n",
    "        # closing the trade\n",
    "        if self.in_trade and isclose(ema_fast, ema_slow, rel_tol=self.rel_tol_in):\n",
    "            self._trade_list.loc[self.trade_id, (\"trade_exit\", \"price\")] = record.loc[\"close\"]\n",
    "            self._trade_list.loc[self.trade_id, (\"trade_exit\", \"datetime\")] = record.name\n",
    "            self.in_trade = False\n",
    "            self.trade_type = None\n",
    "            return row\n",
    "        \n",
    "        return row"
   ]
  },
  {
   "cell_type": "code",
   "execution_count": 179,
   "id": "ebdc1d6917b67e93",
   "metadata": {
    "ExecuteTime": {
     "end_time": "2025-03-29T20:00:54.997693Z",
     "start_time": "2025-03-29T20:00:54.987205Z"
    }
   },
   "outputs": [],
   "source": [
    "trader = Trader(rel_tol_in=0.01, rel_tol_out=0.03, volume_quartile=records[\"volume\"].quantile(0.25))\n",
    "data = pd.concat([records.iloc[:100_000], ema_fast.iloc[:100_000], ema_slow.iloc[:100_000]], axis=\"columns\")\n",
    "data.dropna(inplace=True)"
   ]
  },
  {
   "cell_type": "code",
   "execution_count": 180,
   "id": "39f08883-1c63-4a58-93e6-e9e3eb822d67",
   "metadata": {},
   "outputs": [],
   "source": [
    "data.transform(trader.trade, axis=\"columns\");"
   ]
  },
  {
   "cell_type": "code",
   "execution_count": 181,
   "id": "8a0f45e079aa07d9",
   "metadata": {
    "ExecuteTime": {
     "end_time": "2025-03-29T20:01:06.879622Z",
     "start_time": "2025-03-29T20:01:06.871561Z"
    }
   },
   "outputs": [
    {
     "ename": "RecursionError",
     "evalue": "maximum recursion depth exceeded",
     "output_type": "error",
     "traceback": [
      "\u001b[0;31m---------------------------------------------------------------------------\u001b[0m",
      "\u001b[0;31mRecursionError\u001b[0m                            Traceback (most recent call last)",
      "Cell \u001b[0;32mIn[181], line 1\u001b[0m\n\u001b[0;32m----> 1\u001b[0m \u001b[43mtrader\u001b[49m\u001b[38;5;241;43m.\u001b[39;49m\u001b[43mtrade_list\u001b[49m\n",
      "Cell \u001b[0;32mIn[178], line 34\u001b[0m, in \u001b[0;36mTrader.trade_list\u001b[0;34m(self)\u001b[0m\n\u001b[1;32m     27\u001b[0m \u001b[38;5;129m@property\u001b[39m\n\u001b[1;32m     28\u001b[0m \u001b[38;5;28;01mdef\u001b[39;00m\u001b[38;5;250m \u001b[39m\u001b[38;5;21mtrade_list\u001b[39m(\u001b[38;5;28mself\u001b[39m) \u001b[38;5;241m-\u001b[39m\u001b[38;5;241m>\u001b[39m pd\u001b[38;5;241m.\u001b[39mDataFrame:\n\u001b[1;32m     29\u001b[0m     trade_list \u001b[38;5;241m=\u001b[39m trader\u001b[38;5;241m.\u001b[39m_trade_list\u001b[38;5;241m.\u001b[39mastype({\n\u001b[1;32m     30\u001b[0m         (\u001b[38;5;124m\"\u001b[39m\u001b[38;5;124mtrade_entry\u001b[39m\u001b[38;5;124m\"\u001b[39m,\u001b[38;5;124m\"\u001b[39m\u001b[38;5;124mprice\u001b[39m\u001b[38;5;124m\"\u001b[39m): \u001b[38;5;28mfloat\u001b[39m,\n\u001b[1;32m     31\u001b[0m         (\u001b[38;5;124m\"\u001b[39m\u001b[38;5;124mtrade_exit\u001b[39m\u001b[38;5;124m\"\u001b[39m,\u001b[38;5;124m\"\u001b[39m\u001b[38;5;124mprice\u001b[39m\u001b[38;5;124m\"\u001b[39m): \u001b[38;5;28mfloat\u001b[39m,\n\u001b[1;32m     32\u001b[0m         (\u001b[38;5;124m\"\u001b[39m\u001b[38;5;124mtrade_type\u001b[39m\u001b[38;5;124m\"\u001b[39m,\u001b[38;5;124m\"\u001b[39m\u001b[38;5;124mtype\u001b[39m\u001b[38;5;124m\"\u001b[39m): \u001b[38;5;124m\"\u001b[39m\u001b[38;5;124mcategory\u001b[39m\u001b[38;5;124m\"\u001b[39m\n\u001b[1;32m     33\u001b[0m     })\n\u001b[0;32m---> 34\u001b[0m     trade_list[(\u001b[38;5;124m\"\u001b[39m\u001b[38;5;124mtrade_entry\u001b[39m\u001b[38;5;124m\"\u001b[39m,\u001b[38;5;124m\"\u001b[39m\u001b[38;5;124mdatetime\u001b[39m\u001b[38;5;124m\"\u001b[39m)] \u001b[38;5;241m=\u001b[39m pd\u001b[38;5;241m.\u001b[39mto_datetime(\u001b[43mtrader\u001b[49m\u001b[38;5;241;43m.\u001b[39;49m\u001b[43mtrade_list\u001b[49m[(\u001b[38;5;124m\"\u001b[39m\u001b[38;5;124mtrade_entry\u001b[39m\u001b[38;5;124m\"\u001b[39m,\u001b[38;5;124m\"\u001b[39m\u001b[38;5;124mdatetime\u001b[39m\u001b[38;5;124m\"\u001b[39m)])\n\u001b[1;32m     35\u001b[0m     trade_list[(\u001b[38;5;124m\"\u001b[39m\u001b[38;5;124mtrade_exit\u001b[39m\u001b[38;5;124m\"\u001b[39m,\u001b[38;5;124m\"\u001b[39m\u001b[38;5;124mdatetime\u001b[39m\u001b[38;5;124m\"\u001b[39m)] \u001b[38;5;241m=\u001b[39m pd\u001b[38;5;241m.\u001b[39mto_datetime(trader\u001b[38;5;241m.\u001b[39mtrade_list[(\u001b[38;5;124m\"\u001b[39m\u001b[38;5;124mtrade_exit\u001b[39m\u001b[38;5;124m\"\u001b[39m,\u001b[38;5;124m\"\u001b[39m\u001b[38;5;124mdatetime\u001b[39m\u001b[38;5;124m\"\u001b[39m)])\n\u001b[1;32m     36\u001b[0m     \u001b[38;5;28;01mreturn\u001b[39;00m \u001b[38;5;28mself\u001b[39m\u001b[38;5;241m.\u001b[39mtrade_list\n",
      "Cell \u001b[0;32mIn[178], line 34\u001b[0m, in \u001b[0;36mTrader.trade_list\u001b[0;34m(self)\u001b[0m\n\u001b[1;32m     27\u001b[0m \u001b[38;5;129m@property\u001b[39m\n\u001b[1;32m     28\u001b[0m \u001b[38;5;28;01mdef\u001b[39;00m\u001b[38;5;250m \u001b[39m\u001b[38;5;21mtrade_list\u001b[39m(\u001b[38;5;28mself\u001b[39m) \u001b[38;5;241m-\u001b[39m\u001b[38;5;241m>\u001b[39m pd\u001b[38;5;241m.\u001b[39mDataFrame:\n\u001b[1;32m     29\u001b[0m     trade_list \u001b[38;5;241m=\u001b[39m trader\u001b[38;5;241m.\u001b[39m_trade_list\u001b[38;5;241m.\u001b[39mastype({\n\u001b[1;32m     30\u001b[0m         (\u001b[38;5;124m\"\u001b[39m\u001b[38;5;124mtrade_entry\u001b[39m\u001b[38;5;124m\"\u001b[39m,\u001b[38;5;124m\"\u001b[39m\u001b[38;5;124mprice\u001b[39m\u001b[38;5;124m\"\u001b[39m): \u001b[38;5;28mfloat\u001b[39m,\n\u001b[1;32m     31\u001b[0m         (\u001b[38;5;124m\"\u001b[39m\u001b[38;5;124mtrade_exit\u001b[39m\u001b[38;5;124m\"\u001b[39m,\u001b[38;5;124m\"\u001b[39m\u001b[38;5;124mprice\u001b[39m\u001b[38;5;124m\"\u001b[39m): \u001b[38;5;28mfloat\u001b[39m,\n\u001b[1;32m     32\u001b[0m         (\u001b[38;5;124m\"\u001b[39m\u001b[38;5;124mtrade_type\u001b[39m\u001b[38;5;124m\"\u001b[39m,\u001b[38;5;124m\"\u001b[39m\u001b[38;5;124mtype\u001b[39m\u001b[38;5;124m\"\u001b[39m): \u001b[38;5;124m\"\u001b[39m\u001b[38;5;124mcategory\u001b[39m\u001b[38;5;124m\"\u001b[39m\n\u001b[1;32m     33\u001b[0m     })\n\u001b[0;32m---> 34\u001b[0m     trade_list[(\u001b[38;5;124m\"\u001b[39m\u001b[38;5;124mtrade_entry\u001b[39m\u001b[38;5;124m\"\u001b[39m,\u001b[38;5;124m\"\u001b[39m\u001b[38;5;124mdatetime\u001b[39m\u001b[38;5;124m\"\u001b[39m)] \u001b[38;5;241m=\u001b[39m pd\u001b[38;5;241m.\u001b[39mto_datetime(\u001b[43mtrader\u001b[49m\u001b[38;5;241;43m.\u001b[39;49m\u001b[43mtrade_list\u001b[49m[(\u001b[38;5;124m\"\u001b[39m\u001b[38;5;124mtrade_entry\u001b[39m\u001b[38;5;124m\"\u001b[39m,\u001b[38;5;124m\"\u001b[39m\u001b[38;5;124mdatetime\u001b[39m\u001b[38;5;124m\"\u001b[39m)])\n\u001b[1;32m     35\u001b[0m     trade_list[(\u001b[38;5;124m\"\u001b[39m\u001b[38;5;124mtrade_exit\u001b[39m\u001b[38;5;124m\"\u001b[39m,\u001b[38;5;124m\"\u001b[39m\u001b[38;5;124mdatetime\u001b[39m\u001b[38;5;124m\"\u001b[39m)] \u001b[38;5;241m=\u001b[39m pd\u001b[38;5;241m.\u001b[39mto_datetime(trader\u001b[38;5;241m.\u001b[39mtrade_list[(\u001b[38;5;124m\"\u001b[39m\u001b[38;5;124mtrade_exit\u001b[39m\u001b[38;5;124m\"\u001b[39m,\u001b[38;5;124m\"\u001b[39m\u001b[38;5;124mdatetime\u001b[39m\u001b[38;5;124m\"\u001b[39m)])\n\u001b[1;32m     36\u001b[0m     \u001b[38;5;28;01mreturn\u001b[39;00m \u001b[38;5;28mself\u001b[39m\u001b[38;5;241m.\u001b[39mtrade_list\n",
      "    \u001b[0;31m[... skipping similar frames: Trader.trade_list at line 34 (2951 times)]\u001b[0m\n",
      "Cell \u001b[0;32mIn[178], line 34\u001b[0m, in \u001b[0;36mTrader.trade_list\u001b[0;34m(self)\u001b[0m\n\u001b[1;32m     27\u001b[0m \u001b[38;5;129m@property\u001b[39m\n\u001b[1;32m     28\u001b[0m \u001b[38;5;28;01mdef\u001b[39;00m\u001b[38;5;250m \u001b[39m\u001b[38;5;21mtrade_list\u001b[39m(\u001b[38;5;28mself\u001b[39m) \u001b[38;5;241m-\u001b[39m\u001b[38;5;241m>\u001b[39m pd\u001b[38;5;241m.\u001b[39mDataFrame:\n\u001b[1;32m     29\u001b[0m     trade_list \u001b[38;5;241m=\u001b[39m trader\u001b[38;5;241m.\u001b[39m_trade_list\u001b[38;5;241m.\u001b[39mastype({\n\u001b[1;32m     30\u001b[0m         (\u001b[38;5;124m\"\u001b[39m\u001b[38;5;124mtrade_entry\u001b[39m\u001b[38;5;124m\"\u001b[39m,\u001b[38;5;124m\"\u001b[39m\u001b[38;5;124mprice\u001b[39m\u001b[38;5;124m\"\u001b[39m): \u001b[38;5;28mfloat\u001b[39m,\n\u001b[1;32m     31\u001b[0m         (\u001b[38;5;124m\"\u001b[39m\u001b[38;5;124mtrade_exit\u001b[39m\u001b[38;5;124m\"\u001b[39m,\u001b[38;5;124m\"\u001b[39m\u001b[38;5;124mprice\u001b[39m\u001b[38;5;124m\"\u001b[39m): \u001b[38;5;28mfloat\u001b[39m,\n\u001b[1;32m     32\u001b[0m         (\u001b[38;5;124m\"\u001b[39m\u001b[38;5;124mtrade_type\u001b[39m\u001b[38;5;124m\"\u001b[39m,\u001b[38;5;124m\"\u001b[39m\u001b[38;5;124mtype\u001b[39m\u001b[38;5;124m\"\u001b[39m): \u001b[38;5;124m\"\u001b[39m\u001b[38;5;124mcategory\u001b[39m\u001b[38;5;124m\"\u001b[39m\n\u001b[1;32m     33\u001b[0m     })\n\u001b[0;32m---> 34\u001b[0m     trade_list[(\u001b[38;5;124m\"\u001b[39m\u001b[38;5;124mtrade_entry\u001b[39m\u001b[38;5;124m\"\u001b[39m,\u001b[38;5;124m\"\u001b[39m\u001b[38;5;124mdatetime\u001b[39m\u001b[38;5;124m\"\u001b[39m)] \u001b[38;5;241m=\u001b[39m pd\u001b[38;5;241m.\u001b[39mto_datetime(\u001b[43mtrader\u001b[49m\u001b[38;5;241;43m.\u001b[39;49m\u001b[43mtrade_list\u001b[49m[(\u001b[38;5;124m\"\u001b[39m\u001b[38;5;124mtrade_entry\u001b[39m\u001b[38;5;124m\"\u001b[39m,\u001b[38;5;124m\"\u001b[39m\u001b[38;5;124mdatetime\u001b[39m\u001b[38;5;124m\"\u001b[39m)])\n\u001b[1;32m     35\u001b[0m     trade_list[(\u001b[38;5;124m\"\u001b[39m\u001b[38;5;124mtrade_exit\u001b[39m\u001b[38;5;124m\"\u001b[39m,\u001b[38;5;124m\"\u001b[39m\u001b[38;5;124mdatetime\u001b[39m\u001b[38;5;124m\"\u001b[39m)] \u001b[38;5;241m=\u001b[39m pd\u001b[38;5;241m.\u001b[39mto_datetime(trader\u001b[38;5;241m.\u001b[39mtrade_list[(\u001b[38;5;124m\"\u001b[39m\u001b[38;5;124mtrade_exit\u001b[39m\u001b[38;5;124m\"\u001b[39m,\u001b[38;5;124m\"\u001b[39m\u001b[38;5;124mdatetime\u001b[39m\u001b[38;5;124m\"\u001b[39m)])\n\u001b[1;32m     36\u001b[0m     \u001b[38;5;28;01mreturn\u001b[39;00m \u001b[38;5;28mself\u001b[39m\u001b[38;5;241m.\u001b[39mtrade_list\n",
      "Cell \u001b[0;32mIn[178], line 29\u001b[0m, in \u001b[0;36mTrader.trade_list\u001b[0;34m(self)\u001b[0m\n\u001b[1;32m     27\u001b[0m \u001b[38;5;129m@property\u001b[39m\n\u001b[1;32m     28\u001b[0m \u001b[38;5;28;01mdef\u001b[39;00m\u001b[38;5;250m \u001b[39m\u001b[38;5;21mtrade_list\u001b[39m(\u001b[38;5;28mself\u001b[39m) \u001b[38;5;241m-\u001b[39m\u001b[38;5;241m>\u001b[39m pd\u001b[38;5;241m.\u001b[39mDataFrame:\n\u001b[0;32m---> 29\u001b[0m     trade_list \u001b[38;5;241m=\u001b[39m \u001b[43mtrader\u001b[49m\u001b[38;5;241;43m.\u001b[39;49m\u001b[43m_trade_list\u001b[49m\u001b[38;5;241;43m.\u001b[39;49m\u001b[43mastype\u001b[49m\u001b[43m(\u001b[49m\u001b[43m{\u001b[49m\n\u001b[1;32m     30\u001b[0m \u001b[43m        \u001b[49m\u001b[43m(\u001b[49m\u001b[38;5;124;43m\"\u001b[39;49m\u001b[38;5;124;43mtrade_entry\u001b[39;49m\u001b[38;5;124;43m\"\u001b[39;49m\u001b[43m,\u001b[49m\u001b[38;5;124;43m\"\u001b[39;49m\u001b[38;5;124;43mprice\u001b[39;49m\u001b[38;5;124;43m\"\u001b[39;49m\u001b[43m)\u001b[49m\u001b[43m:\u001b[49m\u001b[43m \u001b[49m\u001b[38;5;28;43mfloat\u001b[39;49m\u001b[43m,\u001b[49m\n\u001b[1;32m     31\u001b[0m \u001b[43m        \u001b[49m\u001b[43m(\u001b[49m\u001b[38;5;124;43m\"\u001b[39;49m\u001b[38;5;124;43mtrade_exit\u001b[39;49m\u001b[38;5;124;43m\"\u001b[39;49m\u001b[43m,\u001b[49m\u001b[38;5;124;43m\"\u001b[39;49m\u001b[38;5;124;43mprice\u001b[39;49m\u001b[38;5;124;43m\"\u001b[39;49m\u001b[43m)\u001b[49m\u001b[43m:\u001b[49m\u001b[43m \u001b[49m\u001b[38;5;28;43mfloat\u001b[39;49m\u001b[43m,\u001b[49m\n\u001b[1;32m     32\u001b[0m \u001b[43m        \u001b[49m\u001b[43m(\u001b[49m\u001b[38;5;124;43m\"\u001b[39;49m\u001b[38;5;124;43mtrade_type\u001b[39;49m\u001b[38;5;124;43m\"\u001b[39;49m\u001b[43m,\u001b[49m\u001b[38;5;124;43m\"\u001b[39;49m\u001b[38;5;124;43mtype\u001b[39;49m\u001b[38;5;124;43m\"\u001b[39;49m\u001b[43m)\u001b[49m\u001b[43m:\u001b[49m\u001b[43m \u001b[49m\u001b[38;5;124;43m\"\u001b[39;49m\u001b[38;5;124;43mcategory\u001b[39;49m\u001b[38;5;124;43m\"\u001b[39;49m\n\u001b[1;32m     33\u001b[0m \u001b[43m    \u001b[49m\u001b[43m}\u001b[49m\u001b[43m)\u001b[49m\n\u001b[1;32m     34\u001b[0m     trade_list[(\u001b[38;5;124m\"\u001b[39m\u001b[38;5;124mtrade_entry\u001b[39m\u001b[38;5;124m\"\u001b[39m,\u001b[38;5;124m\"\u001b[39m\u001b[38;5;124mdatetime\u001b[39m\u001b[38;5;124m\"\u001b[39m)] \u001b[38;5;241m=\u001b[39m pd\u001b[38;5;241m.\u001b[39mto_datetime(trader\u001b[38;5;241m.\u001b[39mtrade_list[(\u001b[38;5;124m\"\u001b[39m\u001b[38;5;124mtrade_entry\u001b[39m\u001b[38;5;124m\"\u001b[39m,\u001b[38;5;124m\"\u001b[39m\u001b[38;5;124mdatetime\u001b[39m\u001b[38;5;124m\"\u001b[39m)])\n\u001b[1;32m     35\u001b[0m     trade_list[(\u001b[38;5;124m\"\u001b[39m\u001b[38;5;124mtrade_exit\u001b[39m\u001b[38;5;124m\"\u001b[39m,\u001b[38;5;124m\"\u001b[39m\u001b[38;5;124mdatetime\u001b[39m\u001b[38;5;124m\"\u001b[39m)] \u001b[38;5;241m=\u001b[39m pd\u001b[38;5;241m.\u001b[39mto_datetime(trader\u001b[38;5;241m.\u001b[39mtrade_list[(\u001b[38;5;124m\"\u001b[39m\u001b[38;5;124mtrade_exit\u001b[39m\u001b[38;5;124m\"\u001b[39m,\u001b[38;5;124m\"\u001b[39m\u001b[38;5;124mdatetime\u001b[39m\u001b[38;5;124m\"\u001b[39m)])\n",
      "File \u001b[0;32m/Library/Frameworks/Python.framework/Versions/3.13/lib/python3.13/site-packages/pandas/core/generic.py:6601\u001b[0m, in \u001b[0;36mNDFrame.astype\u001b[0;34m(self, dtype, copy, errors)\u001b[0m\n\u001b[1;32m   6597\u001b[0m \u001b[38;5;66;03m# GH#44417 cast to Series so we can use .iat below, which will be\u001b[39;00m\n\u001b[1;32m   6598\u001b[0m \u001b[38;5;66;03m#  robust in case we\u001b[39;00m\n\u001b[1;32m   6599\u001b[0m \u001b[38;5;28;01mfrom\u001b[39;00m\u001b[38;5;250m \u001b[39m\u001b[38;5;21;01mpandas\u001b[39;00m\u001b[38;5;250m \u001b[39m\u001b[38;5;28;01mimport\u001b[39;00m Series\n\u001b[0;32m-> 6601\u001b[0m dtype_ser \u001b[38;5;241m=\u001b[39m \u001b[43mSeries\u001b[49m\u001b[43m(\u001b[49m\u001b[43mdtype\u001b[49m\u001b[43m,\u001b[49m\u001b[43m \u001b[49m\u001b[43mdtype\u001b[49m\u001b[38;5;241;43m=\u001b[39;49m\u001b[38;5;28;43mobject\u001b[39;49m\u001b[43m)\u001b[49m\n\u001b[1;32m   6603\u001b[0m \u001b[38;5;28;01mfor\u001b[39;00m col_name \u001b[38;5;129;01min\u001b[39;00m dtype_ser\u001b[38;5;241m.\u001b[39mindex:\n\u001b[1;32m   6604\u001b[0m     \u001b[38;5;28;01mif\u001b[39;00m col_name \u001b[38;5;129;01mnot\u001b[39;00m \u001b[38;5;129;01min\u001b[39;00m \u001b[38;5;28mself\u001b[39m:\n",
      "File \u001b[0;32m/Library/Frameworks/Python.framework/Versions/3.13/lib/python3.13/site-packages/pandas/core/series.py:537\u001b[0m, in \u001b[0;36mSeries.__init__\u001b[0;34m(self, data, index, dtype, name, copy, fastpath)\u001b[0m\n\u001b[1;32m    535\u001b[0m         data \u001b[38;5;241m=\u001b[39m data\u001b[38;5;241m.\u001b[39m_mgr\n\u001b[1;32m    536\u001b[0m \u001b[38;5;28;01melif\u001b[39;00m \u001b[38;5;28misinstance\u001b[39m(data, Mapping):\n\u001b[0;32m--> 537\u001b[0m     data, index \u001b[38;5;241m=\u001b[39m \u001b[38;5;28;43mself\u001b[39;49m\u001b[38;5;241;43m.\u001b[39;49m\u001b[43m_init_dict\u001b[49m\u001b[43m(\u001b[49m\u001b[43mdata\u001b[49m\u001b[43m,\u001b[49m\u001b[43m \u001b[49m\u001b[43mindex\u001b[49m\u001b[43m,\u001b[49m\u001b[43m \u001b[49m\u001b[43mdtype\u001b[49m\u001b[43m)\u001b[49m\n\u001b[1;32m    538\u001b[0m     dtype \u001b[38;5;241m=\u001b[39m \u001b[38;5;28;01mNone\u001b[39;00m\n\u001b[1;32m    539\u001b[0m     copy \u001b[38;5;241m=\u001b[39m \u001b[38;5;28;01mFalse\u001b[39;00m\n",
      "File \u001b[0;32m/Library/Frameworks/Python.framework/Versions/3.13/lib/python3.13/site-packages/pandas/core/series.py:651\u001b[0m, in \u001b[0;36mSeries._init_dict\u001b[0;34m(self, data, index, dtype)\u001b[0m\n\u001b[1;32m    648\u001b[0m     keys, values \u001b[38;5;241m=\u001b[39m default_index(\u001b[38;5;241m0\u001b[39m), []\n\u001b[1;32m    650\u001b[0m \u001b[38;5;66;03m# Input is now list-like, so rely on \"standard\" construction:\u001b[39;00m\n\u001b[0;32m--> 651\u001b[0m s \u001b[38;5;241m=\u001b[39m \u001b[43mSeries\u001b[49m\u001b[43m(\u001b[49m\u001b[43mvalues\u001b[49m\u001b[43m,\u001b[49m\u001b[43m \u001b[49m\u001b[43mindex\u001b[49m\u001b[38;5;241;43m=\u001b[39;49m\u001b[43mkeys\u001b[49m\u001b[43m,\u001b[49m\u001b[43m \u001b[49m\u001b[43mdtype\u001b[49m\u001b[38;5;241;43m=\u001b[39;49m\u001b[43mdtype\u001b[49m\u001b[43m)\u001b[49m\n\u001b[1;32m    653\u001b[0m \u001b[38;5;66;03m# Now we just make sure the order is respected, if any\u001b[39;00m\n\u001b[1;32m    654\u001b[0m \u001b[38;5;28;01mif\u001b[39;00m data \u001b[38;5;129;01mand\u001b[39;00m index \u001b[38;5;129;01mis\u001b[39;00m \u001b[38;5;129;01mnot\u001b[39;00m \u001b[38;5;28;01mNone\u001b[39;00m:\n",
      "File \u001b[0;32m/Library/Frameworks/Python.framework/Versions/3.13/lib/python3.13/site-packages/pandas/core/series.py:490\u001b[0m, in \u001b[0;36mSeries.__init__\u001b[0;34m(self, data, index, dtype, name, copy, fastpath)\u001b[0m\n\u001b[1;32m    487\u001b[0m name \u001b[38;5;241m=\u001b[39m ibase\u001b[38;5;241m.\u001b[39mmaybe_extract_name(name, data, \u001b[38;5;28mtype\u001b[39m(\u001b[38;5;28mself\u001b[39m))\n\u001b[1;32m    489\u001b[0m \u001b[38;5;28;01mif\u001b[39;00m index \u001b[38;5;129;01mis\u001b[39;00m \u001b[38;5;129;01mnot\u001b[39;00m \u001b[38;5;28;01mNone\u001b[39;00m:\n\u001b[0;32m--> 490\u001b[0m     index \u001b[38;5;241m=\u001b[39m \u001b[43mensure_index\u001b[49m\u001b[43m(\u001b[49m\u001b[43mindex\u001b[49m\u001b[43m)\u001b[49m\n\u001b[1;32m    492\u001b[0m \u001b[38;5;28;01mif\u001b[39;00m dtype \u001b[38;5;129;01mis\u001b[39;00m \u001b[38;5;129;01mnot\u001b[39;00m \u001b[38;5;28;01mNone\u001b[39;00m:\n\u001b[1;32m    493\u001b[0m     dtype \u001b[38;5;241m=\u001b[39m \u001b[38;5;28mself\u001b[39m\u001b[38;5;241m.\u001b[39m_validate_dtype(dtype)\n",
      "File \u001b[0;32m/Library/Frameworks/Python.framework/Versions/3.13/lib/python3.13/site-packages/pandas/core/indexes/base.py:7649\u001b[0m, in \u001b[0;36mensure_index\u001b[0;34m(index_like, copy)\u001b[0m\n\u001b[1;32m   7647\u001b[0m         \u001b[38;5;28;01mreturn\u001b[39;00m Index(index_like, copy\u001b[38;5;241m=\u001b[39mcopy, tupleize_cols\u001b[38;5;241m=\u001b[39m\u001b[38;5;28;01mFalse\u001b[39;00m)\n\u001b[1;32m   7648\u001b[0m \u001b[38;5;28;01melse\u001b[39;00m:\n\u001b[0;32m-> 7649\u001b[0m     \u001b[38;5;28;01mreturn\u001b[39;00m \u001b[43mIndex\u001b[49m\u001b[43m(\u001b[49m\u001b[43mindex_like\u001b[49m\u001b[43m,\u001b[49m\u001b[43m \u001b[49m\u001b[43mcopy\u001b[49m\u001b[38;5;241;43m=\u001b[39;49m\u001b[43mcopy\u001b[49m\u001b[43m)\u001b[49m\n",
      "File \u001b[0;32m/Library/Frameworks/Python.framework/Versions/3.13/lib/python3.13/site-packages/pandas/core/indexes/base.py:547\u001b[0m, in \u001b[0;36mIndex.__new__\u001b[0;34m(cls, data, dtype, copy, name, tupleize_cols)\u001b[0m\n\u001b[1;32m    543\u001b[0m         \u001b[38;5;28;01mfrom\u001b[39;00m\u001b[38;5;250m \u001b[39m\u001b[38;5;21;01mpandas\u001b[39;00m\u001b[38;5;21;01m.\u001b[39;00m\u001b[38;5;21;01mcore\u001b[39;00m\u001b[38;5;21;01m.\u001b[39;00m\u001b[38;5;21;01mindexes\u001b[39;00m\u001b[38;5;21;01m.\u001b[39;00m\u001b[38;5;21;01mmulti\u001b[39;00m\u001b[38;5;250m \u001b[39m\u001b[38;5;28;01mimport\u001b[39;00m MultiIndex\n\u001b[1;32m    545\u001b[0m         \u001b[38;5;66;03m# error: Incompatible return value type (got \"MultiIndex\",\u001b[39;00m\n\u001b[1;32m    546\u001b[0m         \u001b[38;5;66;03m# expected \"Self\")\u001b[39;00m\n\u001b[0;32m--> 547\u001b[0m         \u001b[38;5;28;01mreturn\u001b[39;00m \u001b[43mMultiIndex\u001b[49m\u001b[38;5;241;43m.\u001b[39;49m\u001b[43mfrom_tuples\u001b[49m\u001b[43m(\u001b[49m\u001b[43m  \u001b[49m\u001b[38;5;66;43;03m# type: ignore[return-value]\u001b[39;49;00m\n\u001b[1;32m    548\u001b[0m \u001b[43m            \u001b[49m\u001b[43mdata\u001b[49m\u001b[43m,\u001b[49m\u001b[43m \u001b[49m\u001b[43mnames\u001b[49m\u001b[38;5;241;43m=\u001b[39;49m\u001b[43mname\u001b[49m\n\u001b[1;32m    549\u001b[0m \u001b[43m        \u001b[49m\u001b[43m)\u001b[49m\n\u001b[1;32m    550\u001b[0m \u001b[38;5;66;03m# other iterable of some kind\u001b[39;00m\n\u001b[1;32m    552\u001b[0m \u001b[38;5;28;01mif\u001b[39;00m \u001b[38;5;129;01mnot\u001b[39;00m \u001b[38;5;28misinstance\u001b[39m(data, (\u001b[38;5;28mlist\u001b[39m, \u001b[38;5;28mtuple\u001b[39m)):\n\u001b[1;32m    553\u001b[0m     \u001b[38;5;66;03m# we allow set/frozenset, which Series/sanitize_array does not, so\u001b[39;00m\n\u001b[1;32m    554\u001b[0m     \u001b[38;5;66;03m#  cast to list here\u001b[39;00m\n",
      "File \u001b[0;32m/Library/Frameworks/Python.framework/Versions/3.13/lib/python3.13/site-packages/pandas/core/indexes/multi.py:222\u001b[0m, in \u001b[0;36mnames_compat.<locals>.new_meth\u001b[0;34m(self_or_cls, *args, **kwargs)\u001b[0m\n\u001b[1;32m    219\u001b[0m \u001b[38;5;28;01mif\u001b[39;00m \u001b[38;5;124m\"\u001b[39m\u001b[38;5;124mname\u001b[39m\u001b[38;5;124m\"\u001b[39m \u001b[38;5;129;01min\u001b[39;00m kwargs:\n\u001b[1;32m    220\u001b[0m     kwargs[\u001b[38;5;124m\"\u001b[39m\u001b[38;5;124mnames\u001b[39m\u001b[38;5;124m\"\u001b[39m] \u001b[38;5;241m=\u001b[39m kwargs\u001b[38;5;241m.\u001b[39mpop(\u001b[38;5;124m\"\u001b[39m\u001b[38;5;124mname\u001b[39m\u001b[38;5;124m\"\u001b[39m)\n\u001b[0;32m--> 222\u001b[0m \u001b[38;5;28;01mreturn\u001b[39;00m \u001b[43mmeth\u001b[49m\u001b[43m(\u001b[49m\u001b[43mself_or_cls\u001b[49m\u001b[43m,\u001b[49m\u001b[43m \u001b[49m\u001b[38;5;241;43m*\u001b[39;49m\u001b[43margs\u001b[49m\u001b[43m,\u001b[49m\u001b[43m \u001b[49m\u001b[38;5;241;43m*\u001b[39;49m\u001b[38;5;241;43m*\u001b[39;49m\u001b[43mkwargs\u001b[49m\u001b[43m)\u001b[49m\n",
      "File \u001b[0;32m/Library/Frameworks/Python.framework/Versions/3.13/lib/python3.13/site-packages/pandas/core/indexes/multi.py:624\u001b[0m, in \u001b[0;36mMultiIndex.from_tuples\u001b[0;34m(cls, tuples, sortorder, names)\u001b[0m\n\u001b[1;32m    621\u001b[0m     arrs \u001b[38;5;241m=\u001b[39m \u001b[38;5;28mzip\u001b[39m(\u001b[38;5;241m*\u001b[39mtuples)\n\u001b[1;32m    622\u001b[0m     arrays \u001b[38;5;241m=\u001b[39m cast(\u001b[38;5;28mlist\u001b[39m[Sequence[Hashable]], arrs)\n\u001b[0;32m--> 624\u001b[0m \u001b[38;5;28;01mreturn\u001b[39;00m \u001b[38;5;28;43mcls\u001b[39;49m\u001b[38;5;241;43m.\u001b[39;49m\u001b[43mfrom_arrays\u001b[49m\u001b[43m(\u001b[49m\u001b[43marrays\u001b[49m\u001b[43m,\u001b[49m\u001b[43m \u001b[49m\u001b[43msortorder\u001b[49m\u001b[38;5;241;43m=\u001b[39;49m\u001b[43msortorder\u001b[49m\u001b[43m,\u001b[49m\u001b[43m \u001b[49m\u001b[43mnames\u001b[49m\u001b[38;5;241;43m=\u001b[39;49m\u001b[43mnames\u001b[49m\u001b[43m)\u001b[49m\n",
      "File \u001b[0;32m/Library/Frameworks/Python.framework/Versions/3.13/lib/python3.13/site-packages/pandas/core/indexes/multi.py:533\u001b[0m, in \u001b[0;36mMultiIndex.from_arrays\u001b[0;34m(cls, arrays, sortorder, names)\u001b[0m\n\u001b[1;32m    530\u001b[0m     \u001b[38;5;28;01mif\u001b[39;00m \u001b[38;5;28mlen\u001b[39m(arrays[i]) \u001b[38;5;241m!=\u001b[39m \u001b[38;5;28mlen\u001b[39m(arrays[i \u001b[38;5;241m-\u001b[39m \u001b[38;5;241m1\u001b[39m]):\n\u001b[1;32m    531\u001b[0m         \u001b[38;5;28;01mraise\u001b[39;00m \u001b[38;5;167;01mValueError\u001b[39;00m(\u001b[38;5;124m\"\u001b[39m\u001b[38;5;124mall arrays must be same length\u001b[39m\u001b[38;5;124m\"\u001b[39m)\n\u001b[0;32m--> 533\u001b[0m codes, levels \u001b[38;5;241m=\u001b[39m \u001b[43mfactorize_from_iterables\u001b[49m\u001b[43m(\u001b[49m\u001b[43marrays\u001b[49m\u001b[43m)\u001b[49m\n\u001b[1;32m    534\u001b[0m \u001b[38;5;28;01mif\u001b[39;00m names \u001b[38;5;129;01mis\u001b[39;00m lib\u001b[38;5;241m.\u001b[39mno_default:\n\u001b[1;32m    535\u001b[0m     names \u001b[38;5;241m=\u001b[39m [\u001b[38;5;28mgetattr\u001b[39m(arr, \u001b[38;5;124m\"\u001b[39m\u001b[38;5;124mname\u001b[39m\u001b[38;5;124m\"\u001b[39m, \u001b[38;5;28;01mNone\u001b[39;00m) \u001b[38;5;28;01mfor\u001b[39;00m arr \u001b[38;5;129;01min\u001b[39;00m arrays]\n",
      "File \u001b[0;32m/Library/Frameworks/Python.framework/Versions/3.13/lib/python3.13/site-packages/pandas/core/arrays/categorical.py:3069\u001b[0m, in \u001b[0;36mfactorize_from_iterables\u001b[0;34m(iterables)\u001b[0m\n\u001b[1;32m   3065\u001b[0m \u001b[38;5;28;01mif\u001b[39;00m \u001b[38;5;28mlen\u001b[39m(iterables) \u001b[38;5;241m==\u001b[39m \u001b[38;5;241m0\u001b[39m:\n\u001b[1;32m   3066\u001b[0m     \u001b[38;5;66;03m# For consistency, it should return two empty lists.\u001b[39;00m\n\u001b[1;32m   3067\u001b[0m     \u001b[38;5;28;01mreturn\u001b[39;00m [], []\n\u001b[0;32m-> 3069\u001b[0m codes, categories \u001b[38;5;241m=\u001b[39m \u001b[38;5;28;43mzip\u001b[39;49m\u001b[43m(\u001b[49m\u001b[38;5;241;43m*\u001b[39;49m\u001b[43m(\u001b[49m\u001b[43mfactorize_from_iterable\u001b[49m\u001b[43m(\u001b[49m\u001b[43mit\u001b[49m\u001b[43m)\u001b[49m\u001b[43m \u001b[49m\u001b[38;5;28;43;01mfor\u001b[39;49;00m\u001b[43m \u001b[49m\u001b[43mit\u001b[49m\u001b[43m \u001b[49m\u001b[38;5;129;43;01min\u001b[39;49;00m\u001b[43m \u001b[49m\u001b[43miterables\u001b[49m\u001b[43m)\u001b[49m\u001b[43m)\u001b[49m\n\u001b[1;32m   3070\u001b[0m \u001b[38;5;28;01mreturn\u001b[39;00m \u001b[38;5;28mlist\u001b[39m(codes), \u001b[38;5;28mlist\u001b[39m(categories)\n",
      "File \u001b[0;32m/Library/Frameworks/Python.framework/Versions/3.13/lib/python3.13/site-packages/pandas/core/arrays/categorical.py:3069\u001b[0m, in \u001b[0;36m<genexpr>\u001b[0;34m(.0)\u001b[0m\n\u001b[1;32m   3065\u001b[0m \u001b[38;5;28;01mif\u001b[39;00m \u001b[38;5;28mlen\u001b[39m(iterables) \u001b[38;5;241m==\u001b[39m \u001b[38;5;241m0\u001b[39m:\n\u001b[1;32m   3066\u001b[0m     \u001b[38;5;66;03m# For consistency, it should return two empty lists.\u001b[39;00m\n\u001b[1;32m   3067\u001b[0m     \u001b[38;5;28;01mreturn\u001b[39;00m [], []\n\u001b[0;32m-> 3069\u001b[0m codes, categories \u001b[38;5;241m=\u001b[39m \u001b[38;5;28mzip\u001b[39m(\u001b[38;5;241m*\u001b[39m(\u001b[43mfactorize_from_iterable\u001b[49m\u001b[43m(\u001b[49m\u001b[43mit\u001b[49m\u001b[43m)\u001b[49m \u001b[38;5;28;01mfor\u001b[39;00m it \u001b[38;5;129;01min\u001b[39;00m iterables))\n\u001b[1;32m   3070\u001b[0m \u001b[38;5;28;01mreturn\u001b[39;00m \u001b[38;5;28mlist\u001b[39m(codes), \u001b[38;5;28mlist\u001b[39m(categories)\n",
      "File \u001b[0;32m/Library/Frameworks/Python.framework/Versions/3.13/lib/python3.13/site-packages/pandas/core/arrays/categorical.py:3042\u001b[0m, in \u001b[0;36mfactorize_from_iterable\u001b[0;34m(values)\u001b[0m\n\u001b[1;32m   3037\u001b[0m     codes \u001b[38;5;241m=\u001b[39m values\u001b[38;5;241m.\u001b[39mcodes\n\u001b[1;32m   3038\u001b[0m \u001b[38;5;28;01melse\u001b[39;00m:\n\u001b[1;32m   3039\u001b[0m     \u001b[38;5;66;03m# The value of ordered is irrelevant since we don't use cat as such,\u001b[39;00m\n\u001b[1;32m   3040\u001b[0m     \u001b[38;5;66;03m# but only the resulting categories, the order of which is independent\u001b[39;00m\n\u001b[1;32m   3041\u001b[0m     \u001b[38;5;66;03m# from ordered. Set ordered to False as default. See GH #15457\u001b[39;00m\n\u001b[0;32m-> 3042\u001b[0m     cat \u001b[38;5;241m=\u001b[39m \u001b[43mCategorical\u001b[49m\u001b[43m(\u001b[49m\u001b[43mvalues\u001b[49m\u001b[43m,\u001b[49m\u001b[43m \u001b[49m\u001b[43mordered\u001b[49m\u001b[38;5;241;43m=\u001b[39;49m\u001b[38;5;28;43;01mFalse\u001b[39;49;00m\u001b[43m)\u001b[49m\n\u001b[1;32m   3043\u001b[0m     categories \u001b[38;5;241m=\u001b[39m cat\u001b[38;5;241m.\u001b[39mcategories\n\u001b[1;32m   3044\u001b[0m     codes \u001b[38;5;241m=\u001b[39m cat\u001b[38;5;241m.\u001b[39mcodes\n",
      "File \u001b[0;32m/Library/Frameworks/Python.framework/Versions/3.13/lib/python3.13/site-packages/pandas/core/arrays/categorical.py:473\u001b[0m, in \u001b[0;36mCategorical.__init__\u001b[0;34m(self, values, categories, ordered, dtype, fastpath, copy)\u001b[0m\n\u001b[1;32m    466\u001b[0m                 \u001b[38;5;28;01mraise\u001b[39;00m \u001b[38;5;167;01mTypeError\u001b[39;00m(\n\u001b[1;32m    467\u001b[0m                     \u001b[38;5;124m\"\u001b[39m\u001b[38;5;124m'\u001b[39m\u001b[38;5;124mvalues\u001b[39m\u001b[38;5;124m'\u001b[39m\u001b[38;5;124m is not ordered, please \u001b[39m\u001b[38;5;124m\"\u001b[39m\n\u001b[1;32m    468\u001b[0m                     \u001b[38;5;124m\"\u001b[39m\u001b[38;5;124mexplicitly specify the categories order \u001b[39m\u001b[38;5;124m\"\u001b[39m\n\u001b[1;32m    469\u001b[0m                     \u001b[38;5;124m\"\u001b[39m\u001b[38;5;124mby passing in a categories argument.\u001b[39m\u001b[38;5;124m\"\u001b[39m\n\u001b[1;32m    470\u001b[0m                 ) \u001b[38;5;28;01mfrom\u001b[39;00m\u001b[38;5;250m \u001b[39m\u001b[38;5;21;01merr\u001b[39;00m\n\u001b[1;32m    472\u001b[0m         \u001b[38;5;66;03m# we're inferring from values\u001b[39;00m\n\u001b[0;32m--> 473\u001b[0m         dtype \u001b[38;5;241m=\u001b[39m \u001b[43mCategoricalDtype\u001b[49m\u001b[43m(\u001b[49m\u001b[43mcategories\u001b[49m\u001b[43m,\u001b[49m\u001b[43m \u001b[49m\u001b[43mdtype\u001b[49m\u001b[38;5;241;43m.\u001b[39;49m\u001b[43mordered\u001b[49m\u001b[43m)\u001b[49m\n\u001b[1;32m    475\u001b[0m \u001b[38;5;28;01melif\u001b[39;00m \u001b[38;5;28misinstance\u001b[39m(values\u001b[38;5;241m.\u001b[39mdtype, CategoricalDtype):\n\u001b[1;32m    476\u001b[0m     old_codes \u001b[38;5;241m=\u001b[39m extract_array(values)\u001b[38;5;241m.\u001b[39m_codes\n",
      "File \u001b[0;32m/Library/Frameworks/Python.framework/Versions/3.13/lib/python3.13/site-packages/pandas/core/dtypes/dtypes.py:221\u001b[0m, in \u001b[0;36mCategoricalDtype.__init__\u001b[0;34m(self, categories, ordered)\u001b[0m\n\u001b[1;32m    220\u001b[0m \u001b[38;5;28;01mdef\u001b[39;00m\u001b[38;5;250m \u001b[39m\u001b[38;5;21m__init__\u001b[39m(\u001b[38;5;28mself\u001b[39m, categories\u001b[38;5;241m=\u001b[39m\u001b[38;5;28;01mNone\u001b[39;00m, ordered: Ordered \u001b[38;5;241m=\u001b[39m \u001b[38;5;28;01mFalse\u001b[39;00m) \u001b[38;5;241m-\u001b[39m\u001b[38;5;241m>\u001b[39m \u001b[38;5;28;01mNone\u001b[39;00m:\n\u001b[0;32m--> 221\u001b[0m     \u001b[38;5;28;43mself\u001b[39;49m\u001b[38;5;241;43m.\u001b[39;49m\u001b[43m_finalize\u001b[49m\u001b[43m(\u001b[49m\u001b[43mcategories\u001b[49m\u001b[43m,\u001b[49m\u001b[43m \u001b[49m\u001b[43mordered\u001b[49m\u001b[43m,\u001b[49m\u001b[43m \u001b[49m\u001b[43mfastpath\u001b[49m\u001b[38;5;241;43m=\u001b[39;49m\u001b[38;5;28;43;01mFalse\u001b[39;49;00m\u001b[43m)\u001b[49m\n",
      "File \u001b[0;32m/Library/Frameworks/Python.framework/Versions/3.13/lib/python3.13/site-packages/pandas/core/dtypes/dtypes.py:378\u001b[0m, in \u001b[0;36mCategoricalDtype._finalize\u001b[0;34m(self, categories, ordered, fastpath)\u001b[0m\n\u001b[1;32m    375\u001b[0m     \u001b[38;5;28mself\u001b[39m\u001b[38;5;241m.\u001b[39mvalidate_ordered(ordered)\n\u001b[1;32m    377\u001b[0m \u001b[38;5;28;01mif\u001b[39;00m categories \u001b[38;5;129;01mis\u001b[39;00m \u001b[38;5;129;01mnot\u001b[39;00m \u001b[38;5;28;01mNone\u001b[39;00m:\n\u001b[0;32m--> 378\u001b[0m     categories \u001b[38;5;241m=\u001b[39m \u001b[38;5;28;43mself\u001b[39;49m\u001b[38;5;241;43m.\u001b[39;49m\u001b[43mvalidate_categories\u001b[49m\u001b[43m(\u001b[49m\u001b[43mcategories\u001b[49m\u001b[43m,\u001b[49m\u001b[43m \u001b[49m\u001b[43mfastpath\u001b[49m\u001b[38;5;241;43m=\u001b[39;49m\u001b[43mfastpath\u001b[49m\u001b[43m)\u001b[49m\n\u001b[1;32m    380\u001b[0m \u001b[38;5;28mself\u001b[39m\u001b[38;5;241m.\u001b[39m_categories \u001b[38;5;241m=\u001b[39m categories\n\u001b[1;32m    381\u001b[0m \u001b[38;5;28mself\u001b[39m\u001b[38;5;241m.\u001b[39m_ordered \u001b[38;5;241m=\u001b[39m ordered\n",
      "File \u001b[0;32m/Library/Frameworks/Python.framework/Versions/3.13/lib/python3.13/site-packages/pandas/core/dtypes/dtypes.py:572\u001b[0m, in \u001b[0;36mCategoricalDtype.validate_categories\u001b[0;34m(categories, fastpath)\u001b[0m\n\u001b[1;32m    568\u001b[0m     \u001b[38;5;28;01mraise\u001b[39;00m \u001b[38;5;167;01mTypeError\u001b[39;00m(\n\u001b[1;32m    569\u001b[0m         \u001b[38;5;124mf\u001b[39m\u001b[38;5;124m\"\u001b[39m\u001b[38;5;124mParameter \u001b[39m\u001b[38;5;124m'\u001b[39m\u001b[38;5;124mcategories\u001b[39m\u001b[38;5;124m'\u001b[39m\u001b[38;5;124m must be list-like, was \u001b[39m\u001b[38;5;132;01m{\u001b[39;00m\u001b[38;5;28mrepr\u001b[39m(categories)\u001b[38;5;132;01m}\u001b[39;00m\u001b[38;5;124m\"\u001b[39m\n\u001b[1;32m    570\u001b[0m     )\n\u001b[1;32m    571\u001b[0m \u001b[38;5;28;01mif\u001b[39;00m \u001b[38;5;129;01mnot\u001b[39;00m \u001b[38;5;28misinstance\u001b[39m(categories, ABCIndex):\n\u001b[0;32m--> 572\u001b[0m     categories \u001b[38;5;241m=\u001b[39m \u001b[43mIndex\u001b[49m\u001b[38;5;241;43m.\u001b[39;49m\u001b[43m_with_infer\u001b[49m\u001b[43m(\u001b[49m\u001b[43mcategories\u001b[49m\u001b[43m,\u001b[49m\u001b[43m \u001b[49m\u001b[43mtupleize_cols\u001b[49m\u001b[38;5;241;43m=\u001b[39;49m\u001b[38;5;28;43;01mFalse\u001b[39;49;00m\u001b[43m)\u001b[49m\n\u001b[1;32m    574\u001b[0m \u001b[38;5;28;01mif\u001b[39;00m \u001b[38;5;129;01mnot\u001b[39;00m fastpath:\n\u001b[1;32m    575\u001b[0m     \u001b[38;5;28;01mif\u001b[39;00m categories\u001b[38;5;241m.\u001b[39mhasnans:\n",
      "File \u001b[0;32m/Library/Frameworks/Python.framework/Versions/3.13/lib/python3.13/site-packages/pandas/core/indexes/base.py:680\u001b[0m, in \u001b[0;36mIndex._with_infer\u001b[0;34m(cls, *args, **kwargs)\u001b[0m\n\u001b[1;32m    674\u001b[0m \u001b[38;5;129m@classmethod\u001b[39m\n\u001b[1;32m    675\u001b[0m \u001b[38;5;28;01mdef\u001b[39;00m\u001b[38;5;250m \u001b[39m\u001b[38;5;21m_with_infer\u001b[39m(\u001b[38;5;28mcls\u001b[39m, \u001b[38;5;241m*\u001b[39margs, \u001b[38;5;241m*\u001b[39m\u001b[38;5;241m*\u001b[39mkwargs):\n\u001b[1;32m    676\u001b[0m \u001b[38;5;250m    \u001b[39m\u001b[38;5;124;03m\"\"\"\u001b[39;00m\n\u001b[1;32m    677\u001b[0m \u001b[38;5;124;03m    Constructor that uses the 1.0.x behavior inferring numeric dtypes\u001b[39;00m\n\u001b[1;32m    678\u001b[0m \u001b[38;5;124;03m    for ndarray[object] inputs.\u001b[39;00m\n\u001b[1;32m    679\u001b[0m \u001b[38;5;124;03m    \"\"\"\u001b[39;00m\n\u001b[0;32m--> 680\u001b[0m     result \u001b[38;5;241m=\u001b[39m \u001b[38;5;28;43mcls\u001b[39;49m\u001b[43m(\u001b[49m\u001b[38;5;241;43m*\u001b[39;49m\u001b[43margs\u001b[49m\u001b[43m,\u001b[49m\u001b[43m \u001b[49m\u001b[38;5;241;43m*\u001b[39;49m\u001b[38;5;241;43m*\u001b[39;49m\u001b[43mkwargs\u001b[49m\u001b[43m)\u001b[49m\n\u001b[1;32m    682\u001b[0m     \u001b[38;5;28;01mif\u001b[39;00m result\u001b[38;5;241m.\u001b[39mdtype \u001b[38;5;241m==\u001b[39m _dtype_obj \u001b[38;5;129;01mand\u001b[39;00m \u001b[38;5;129;01mnot\u001b[39;00m result\u001b[38;5;241m.\u001b[39m_is_multi:\n\u001b[1;32m    683\u001b[0m         \u001b[38;5;66;03m# error: Argument 1 to \"maybe_convert_objects\" has incompatible type\u001b[39;00m\n\u001b[1;32m    684\u001b[0m         \u001b[38;5;66;03m# \"Union[ExtensionArray, ndarray[Any, Any]]\"; expected\u001b[39;00m\n\u001b[1;32m    685\u001b[0m         \u001b[38;5;66;03m# \"ndarray[Any, Any]\"\u001b[39;00m\n\u001b[1;32m    686\u001b[0m         values \u001b[38;5;241m=\u001b[39m lib\u001b[38;5;241m.\u001b[39mmaybe_convert_objects(result\u001b[38;5;241m.\u001b[39m_values)  \u001b[38;5;66;03m# type: ignore[arg-type]\u001b[39;00m\n",
      "File \u001b[0;32m/Library/Frameworks/Python.framework/Versions/3.13/lib/python3.13/site-packages/pandas/core/indexes/base.py:565\u001b[0m, in \u001b[0;36mIndex.__new__\u001b[0;34m(cls, data, dtype, copy, name, tupleize_cols)\u001b[0m\n\u001b[1;32m    562\u001b[0m         data \u001b[38;5;241m=\u001b[39m com\u001b[38;5;241m.\u001b[39masarray_tuplesafe(data, dtype\u001b[38;5;241m=\u001b[39m_dtype_obj)\n\u001b[1;32m    564\u001b[0m \u001b[38;5;28;01mtry\u001b[39;00m:\n\u001b[0;32m--> 565\u001b[0m     arr \u001b[38;5;241m=\u001b[39m \u001b[43msanitize_array\u001b[49m\u001b[43m(\u001b[49m\u001b[43mdata\u001b[49m\u001b[43m,\u001b[49m\u001b[43m \u001b[49m\u001b[38;5;28;43;01mNone\u001b[39;49;00m\u001b[43m,\u001b[49m\u001b[43m \u001b[49m\u001b[43mdtype\u001b[49m\u001b[38;5;241;43m=\u001b[39;49m\u001b[43mdtype\u001b[49m\u001b[43m,\u001b[49m\u001b[43m \u001b[49m\u001b[43mcopy\u001b[49m\u001b[38;5;241;43m=\u001b[39;49m\u001b[43mcopy\u001b[49m\u001b[43m)\u001b[49m\n\u001b[1;32m    566\u001b[0m \u001b[38;5;28;01mexcept\u001b[39;00m \u001b[38;5;167;01mValueError\u001b[39;00m \u001b[38;5;28;01mas\u001b[39;00m err:\n\u001b[1;32m    567\u001b[0m     \u001b[38;5;28;01mif\u001b[39;00m \u001b[38;5;124m\"\u001b[39m\u001b[38;5;124mindex must be specified when data is not list-like\u001b[39m\u001b[38;5;124m\"\u001b[39m \u001b[38;5;129;01min\u001b[39;00m \u001b[38;5;28mstr\u001b[39m(err):\n",
      "File \u001b[0;32m/Library/Frameworks/Python.framework/Versions/3.13/lib/python3.13/site-packages/pandas/core/construction.py:606\u001b[0m, in \u001b[0;36msanitize_array\u001b[0;34m(data, index, dtype, copy, allow_2d)\u001b[0m\n\u001b[1;32m    604\u001b[0m subarr \u001b[38;5;241m=\u001b[39m data\n\u001b[1;32m    605\u001b[0m \u001b[38;5;28;01mif\u001b[39;00m data\u001b[38;5;241m.\u001b[39mdtype \u001b[38;5;241m==\u001b[39m \u001b[38;5;28mobject\u001b[39m:\n\u001b[0;32m--> 606\u001b[0m     subarr \u001b[38;5;241m=\u001b[39m \u001b[43mmaybe_infer_to_datetimelike\u001b[49m\u001b[43m(\u001b[49m\u001b[43mdata\u001b[49m\u001b[43m)\u001b[49m\n\u001b[1;32m    607\u001b[0m     \u001b[38;5;28;01mif\u001b[39;00m (\n\u001b[1;32m    608\u001b[0m         object_index\n\u001b[1;32m    609\u001b[0m         \u001b[38;5;129;01mand\u001b[39;00m using_pyarrow_string_dtype()\n\u001b[1;32m    610\u001b[0m         \u001b[38;5;129;01mand\u001b[39;00m is_string_dtype(subarr)\n\u001b[1;32m    611\u001b[0m     ):\n\u001b[1;32m    612\u001b[0m         \u001b[38;5;66;03m# Avoid inference when string option is set\u001b[39;00m\n\u001b[1;32m    613\u001b[0m         subarr \u001b[38;5;241m=\u001b[39m data\n",
      "File \u001b[0;32m/Library/Frameworks/Python.framework/Versions/3.13/lib/python3.13/site-packages/pandas/core/dtypes/cast.py:1189\u001b[0m, in \u001b[0;36mmaybe_infer_to_datetimelike\u001b[0;34m(value)\u001b[0m\n\u001b[1;32m   1184\u001b[0m     \u001b[38;5;28;01mreturn\u001b[39;00m value\n\u001b[1;32m   1186\u001b[0m \u001b[38;5;66;03m# error: Incompatible return value type (got \"Union[ExtensionArray,\u001b[39;00m\n\u001b[1;32m   1187\u001b[0m \u001b[38;5;66;03m# ndarray[Any, Any]]\", expected \"Union[ndarray[Any, Any], DatetimeArray,\u001b[39;00m\n\u001b[1;32m   1188\u001b[0m \u001b[38;5;66;03m# TimedeltaArray, PeriodArray, IntervalArray]\")\u001b[39;00m\n\u001b[0;32m-> 1189\u001b[0m \u001b[38;5;28;01mreturn\u001b[39;00m \u001b[43mlib\u001b[49m\u001b[38;5;241;43m.\u001b[39;49m\u001b[43mmaybe_convert_objects\u001b[49m\u001b[43m(\u001b[49m\u001b[43m  \u001b[49m\u001b[38;5;66;43;03m# type: ignore[return-value]\u001b[39;49;00m\n\u001b[1;32m   1190\u001b[0m \u001b[43m    \u001b[49m\u001b[43mvalue\u001b[49m\u001b[43m,\u001b[49m\n\u001b[1;32m   1191\u001b[0m \u001b[43m    \u001b[49m\u001b[38;5;66;43;03m# Here we do not convert numeric dtypes, as if we wanted that,\u001b[39;49;00m\n\u001b[1;32m   1192\u001b[0m \u001b[43m    \u001b[49m\u001b[38;5;66;43;03m#  numpy would have done it for us.\u001b[39;49;00m\n\u001b[1;32m   1193\u001b[0m \u001b[43m    \u001b[49m\u001b[43mconvert_numeric\u001b[49m\u001b[38;5;241;43m=\u001b[39;49m\u001b[38;5;28;43;01mFalse\u001b[39;49;00m\u001b[43m,\u001b[49m\n\u001b[1;32m   1194\u001b[0m \u001b[43m    \u001b[49m\u001b[43mconvert_non_numeric\u001b[49m\u001b[38;5;241;43m=\u001b[39;49m\u001b[38;5;28;43;01mTrue\u001b[39;49;00m\u001b[43m,\u001b[49m\n\u001b[1;32m   1195\u001b[0m \u001b[43m    \u001b[49m\u001b[43mdtype_if_all_nat\u001b[49m\u001b[38;5;241;43m=\u001b[39;49m\u001b[43mnp\u001b[49m\u001b[38;5;241;43m.\u001b[39;49m\u001b[43mdtype\u001b[49m\u001b[43m(\u001b[49m\u001b[38;5;124;43m\"\u001b[39;49m\u001b[38;5;124;43mM8[ns]\u001b[39;49m\u001b[38;5;124;43m\"\u001b[39;49m\u001b[43m)\u001b[49m\u001b[43m,\u001b[49m\n\u001b[1;32m   1196\u001b[0m \u001b[43m\u001b[49m\u001b[43m)\u001b[49m\n",
      "File \u001b[0;32mlib.pyx:2543\u001b[0m, in \u001b[0;36mpandas._libs.lib.maybe_convert_objects\u001b[0;34m()\u001b[0m\n",
      "File \u001b[0;32m/Library/Frameworks/Python.framework/Versions/3.13/lib/python3.13/site-packages/numpy/_core/numeric.py:353\u001b[0m, in \u001b[0;36mfull\u001b[0;34m(shape, fill_value, dtype, order, device, like)\u001b[0m\n\u001b[1;32m    351\u001b[0m     dtype \u001b[38;5;241m=\u001b[39m fill_value\u001b[38;5;241m.\u001b[39mdtype\n\u001b[1;32m    352\u001b[0m a \u001b[38;5;241m=\u001b[39m empty(shape, dtype, order, device\u001b[38;5;241m=\u001b[39mdevice)\n\u001b[0;32m--> 353\u001b[0m \u001b[43mmultiarray\u001b[49m\u001b[38;5;241;43m.\u001b[39;49m\u001b[43mcopyto\u001b[49m\u001b[43m(\u001b[49m\u001b[43ma\u001b[49m\u001b[43m,\u001b[49m\u001b[43m \u001b[49m\u001b[43mfill_value\u001b[49m\u001b[43m,\u001b[49m\u001b[43m \u001b[49m\u001b[43mcasting\u001b[49m\u001b[38;5;241;43m=\u001b[39;49m\u001b[38;5;124;43m'\u001b[39;49m\u001b[38;5;124;43munsafe\u001b[39;49m\u001b[38;5;124;43m'\u001b[39;49m\u001b[43m)\u001b[49m\n\u001b[1;32m    354\u001b[0m \u001b[38;5;28;01mreturn\u001b[39;00m a\n",
      "\u001b[0;31mRecursionError\u001b[0m: maximum recursion depth exceeded"
     ]
    }
   ],
   "source": [
    "trader.trade_list"
   ]
  },
  {
   "cell_type": "markdown",
   "id": "6f0f8468-cd00-4d88-9008-4ab1a57f8523",
   "metadata": {},
   "source": [
    "---\n",
    "**How does price change correlate with change of trading volume?**"
   ]
  },
  {
   "cell_type": "code",
   "execution_count": null,
   "id": "96554c78-ab3e-4350-9742-6c8247f00679",
   "metadata": {},
   "outputs": [],
   "source": [
    "QUANTILES = [0.05, 0.95]\n",
    "\n",
    "volume_change = records[\"volume\"].pct_change().dropna()\n",
    "price_change = records[\"close\"] / records[\"open\"] - 1\n",
    "\n",
    "price_volume_change = pd.concat([volume_change, price_change], axis=\"columns\")\n",
    "price_volume_change.rename(columns={\"volume\": \"volume_change\", 0: \"price_change\"}, inplace=True)\n",
    "\n",
    "mask = price_volume_change.isin([np.nan, np.inf, -np.inf])\n",
    "price_volume_change[mask] = 0\n",
    "\n",
    "volume_mask = pd.qcut(price_volume_change[\"volume_change\"], q=QUANTILES).isna().to_numpy()\n",
    "price_mask = pd.qcut(price_volume_change[\"price_change\"], q=QUANTILES).isna().to_numpy()\n",
    "\n",
    "general_mask = np.stack([volume_mask, price_mask], axis=1).any(axis=1)\n",
    "\n",
    "indices_to_drop = price_volume_change.loc[general_mask].index\n",
    "price_volume_change.drop(indices_to_drop, inplace=True)\n",
    "price_volume_change.tail()"
   ]
  },
  {
   "cell_type": "code",
   "execution_count": null,
   "id": "deb1810f-6577-4b31-ba27-d74d9fcc2731",
   "metadata": {},
   "outputs": [],
   "source": [
    "# charting\n",
    "fig, ax = plt.subplots(figsize=(13, 5))\n",
    "ax.scatter(\n",
    "    x=price_volume_change[\"price_change\"],\n",
    "    y=price_volume_change[\"volume_change\"],\n",
    "    s=0.7,\n",
    "    color=\"green\"\n",
    ")\n",
    "\n",
    "ax.axvline(x=0, linestyle=\"dashed\", color=\"grey\")\n",
    "ax.axhline(y=0, linestyle=\"dashed\", color=\"grey\")\n",
    "\n",
    "ax.set_ylabel(\"Trading colume change\")\n",
    "ax.set_xlabel(\"Price change\")\n",
    "ax.set_title(\"Daily price change against change of trading volume (%)\")\n",
    "\n",
    "spearman = st.spearmanr(a=price_volume_change[\"price_change\"], b=price_volume_change[\"volume_change\"]).statistic.round(\n",
    "    4)\n",
    "print(f\"Spearman rank correlation coefficient: {spearman}\")\n",
    "print(\"There is almost no correlation between these two values.\")"
   ]
  },
  {
   "cell_type": "markdown",
   "id": "c7ae2c7e-7038-4ee6-9218-730b0882f12b",
   "metadata": {},
   "source": [
    "---\n",
    "**How does halving affect price and trading volume?**"
   ]
  },
  {
   "cell_type": "code",
   "execution_count": null,
   "id": "05a3e4e9-ce97-49b6-84fe-d96fb75e6878",
   "metadata": {},
   "outputs": [],
   "source": [
    "halving_dates = (\n",
    "    date(year=2012, month=11, day=28),\n",
    "    date(year=2016, month=7, day=9),\n",
    "    date(year=2020, month=7, day=10),\n",
    "    date(year=2024, month=4, day=20),\n",
    ")\n",
    "\n",
    "grouped = (records\n",
    "           .resample(\"ME\")\n",
    "           .agg({\"close\": \"median\", \"volume\": \"sum\"})\n",
    "           .reset_index(drop=True)\n",
    "           )\n",
    "grouped.index = pd.date_range(start=first_datetime, freq=timedelta(days=30), periods=len(grouped))"
   ]
  },
  {
   "cell_type": "code",
   "execution_count": null,
   "id": "7c66fe84d8c01e58",
   "metadata": {
    "jupyter": {
     "source_hidden": true
    }
   },
   "outputs": [],
   "source": [
    "ax = plt.subplot()\n",
    "ax.plot(grouped[\"close\"].map(log), color=\"blue\")\n",
    "ax.set_title(\"Bitcoin price development after each halving\")\n",
    "ax.set_xlabel(\"Year\")\n",
    "ax.set_ylabel(\"Log price in $\")\n",
    "\n",
    "for date in halving_dates:\n",
    "    ax.axvline(x=date, linestyle=\"dashed\", color=\"green\", label=\"halving date\")\n",
    "\n",
    "ax.legend(ax.get_children()[:2], [\"Log price\", \"Halving\"])\n",
    "print(\"There used to be a visible correlation between the halving and a significat price jump.\\n\"\n",
    "      \"In the 2024 this jump is however much smaller than other times\")"
   ]
  },
  {
   "cell_type": "markdown",
   "id": "c0ed0d7a-50d2-4321-b06d-10ca4a3a903f",
   "metadata": {},
   "source": [
    "---\n",
    "**How did trading volume per dollar change over the years?**"
   ]
  },
  {
   "cell_type": "code",
   "execution_count": null,
   "id": "971cc15a-bad9-4dd7-9de7-747ebb8d2acc",
   "metadata": {},
   "outputs": [],
   "source": [
    "grouped = (records\n",
    "           .resample(\"ME\")\n",
    "           .agg({\"close\": \"median\", \"volume\": \"sum\"})\n",
    "           .reset_index(drop=True)\n",
    "           )\n",
    "grouped.index = pd.date_range(start=first_datetime, freq=timedelta(days=30), periods=len(grouped))\n",
    "volume_per_dollar = grouped[\"volume\"] / grouped[\"close\"]"
   ]
  },
  {
   "cell_type": "code",
   "execution_count": null,
   "id": "07c917cc-982e-4233-913c-4f9884929835",
   "metadata": {
    "jupyter": {
     "source_hidden": true
    }
   },
   "outputs": [],
   "source": [
    "ax = plt.subplot()\n",
    "\n",
    "ax.plot(volume_per_dollar.map(log), color=\"green\")\n",
    "ax.set_ylabel(\"Log Trading volume per dollar\")\n",
    "ax.set_xlabel(\"Year\")\n",
    "ax.set_title(\"Trading volume per dollar price over time\");\n",
    "print(\"Sinking trading volume per dollar is a signal of the price growing faster than the trading volume.\\n\"\n",
    "      \"This in turn may imply that the Bitcoin has become much more of a speculation tool than a real valuable asset.\")"
   ]
  }
 ],
 "metadata": {
  "kernelspec": {
   "display_name": "Python 3 (ipykernel)",
   "language": "python",
   "name": "python3"
  },
  "language_info": {
   "codemirror_mode": {
    "name": "ipython",
    "version": 3
   },
   "file_extension": ".py",
   "mimetype": "text/x-python",
   "name": "python",
   "nbconvert_exporter": "python",
   "pygments_lexer": "ipython3",
   "version": "3.13.2"
  }
 },
 "nbformat": 4,
 "nbformat_minor": 5
}
